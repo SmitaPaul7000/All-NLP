{
 "cells": [
  {
   "cell_type": "code",
   "execution_count": 1,
   "metadata": {},
   "outputs": [],
   "source": [
    "import tensorflow as tf\n",
    "import csv\n",
    "import tensorflow as tf\n",
    "import numpy as np\n",
    "from tensorflow.keras.preprocessing.text import Tokenizer\n",
    "from tensorflow.keras.preprocessing.sequence import pad_sequences\n",
    "\n",
    "from nltk.corpus import stopwords\n",
    "STOPWORDS = set(stopwords.words('english'))"
   ]
  },
  {
   "cell_type": "code",
   "execution_count": 2,
   "metadata": {},
   "outputs": [],
   "source": [
    "from matplotlib import pyplot as plt\n",
    "def plot_graphs(history, string):\n",
    "  plt.plot(history.history[string])\n",
    "  plt.plot(history.history['val_'+string])\n",
    "  plt.xlabel(\"Epochs\")\n",
    "  plt.ylabel(string)\n",
    "  plt.legend([string, 'val_'+string])\n",
    "  plt.show()\n",
    "  "
   ]
  },
  {
   "cell_type": "markdown",
   "metadata": {},
   "source": [
    "### hyperparam"
   ]
  },
  {
   "cell_type": "code",
   "execution_count": null,
   "metadata": {},
   "outputs": [],
   "source": []
  },
  {
   "cell_type": "code",
   "execution_count": 3,
   "metadata": {},
   "outputs": [],
   "source": [
    "vocab_size = 5000\n",
    "embedding_dim = 64\n",
    "max_length = 200\n",
    "trunc_type = 'post'\n",
    "padding_type = 'post'\n",
    "oov_tok = '<OOV>'\n",
    "training_portion = .8"
   ]
  },
  {
   "cell_type": "markdown",
   "metadata": {},
   "source": [
    "### Read file, and remove stopwords."
   ]
  },
  {
   "cell_type": "code",
   "execution_count": 4,
   "metadata": {},
   "outputs": [
    {
     "name": "stdout",
     "output_type": "stream",
     "text": [
      "2225\n",
      "2225\n"
     ]
    }
   ],
   "source": [
    "articles = []\n",
    "labels = []\n",
    "\n",
    "with open(\"bbc-text.csv\", 'r') as csvfile:\n",
    "    reader = csv.reader(csvfile, delimiter=',')\n",
    "    next(reader)\n",
    "    for row in reader:\n",
    "        labels.append(row[0])\n",
    "        article = row[1]\n",
    "        for word in STOPWORDS:\n",
    "            token = ' ' + word + ' '\n",
    "            article = article.replace(token, ' ')\n",
    "            article = article.replace(' ', ' ')\n",
    "        articles.append(article)\n",
    "        \n",
    "print(len(labels))\n",
    "print(len(articles))"
   ]
  },
  {
   "cell_type": "markdown",
   "metadata": {},
   "source": [
    "### Then manually split into training set and validation set, 80% for training, 20% for validation."
   ]
  },
  {
   "cell_type": "code",
   "execution_count": 5,
   "metadata": {},
   "outputs": [
    {
     "name": "stdout",
     "output_type": "stream",
     "text": [
      "1780\n",
      "1780\n",
      "1780\n",
      "445\n",
      "445\n"
     ]
    }
   ],
   "source": [
    "train_size = int(len(articles) * training_portion)\n",
    "\n",
    "train_articles = articles[0: train_size]\n",
    "train_labels = labels[0: train_size]\n",
    "\n",
    "validation_articles = articles[train_size:]\n",
    "validation_labels = labels[train_size:]\n",
    "\n",
    "print(train_size)\n",
    "print(len(train_articles))\n",
    "print(len(train_labels))\n",
    "print(len(validation_articles))\n",
    "print(len(validation_labels))"
   ]
  },
  {
   "cell_type": "markdown",
   "metadata": {},
   "source": [
    "### Tokenize it !!! \n",
    "using tensorflow.keras.preprocessing.text.Tokenizer\n",
    "\n",
    "oov_token = When a new text contains words not in the corpus vocabulary, those words are known as out-of-vocabulary (OOV) words. oov_token is to put a special value in when an unseen word is encountered\n",
    "\n",
    "\"fit_on_text\" will go through all the text and create dictionary like this:"
   ]
  },
  {
   "cell_type": "code",
   "execution_count": 6,
   "metadata": {},
   "outputs": [
    {
     "name": "stdout",
     "output_type": "stream",
     "text": [
      "{'OOV': 1, 'ate': 2, 'apples': 3, 'bob': 4, 'and': 5, 'pears': 6, 'fred': 7}\n",
      "[[1, 2, 1]]\n"
     ]
    }
   ],
   "source": [
    "## Example\n",
    "# import tensorflow as tf\n",
    "tokenizer = tf.keras.preprocessing.text.Tokenizer(\n",
    "  oov_token='OOV')\n",
    "text_corpus = ['bob ate apples, and pears', 'fred ate apples!']\n",
    "tokenizer.fit_on_texts(text_corpus)\n",
    "\n",
    "print(tokenizer.word_index)\n",
    "print(tokenizer.texts_to_sequences(['beta ate bacon']))\n"
   ]
  },
  {
   "cell_type": "code",
   "execution_count": null,
   "metadata": {},
   "outputs": [],
   "source": []
  },
  {
   "cell_type": "code",
   "execution_count": 7,
   "metadata": {},
   "outputs": [
    {
     "data": {
      "text/plain": [
       "27271"
      ]
     },
     "execution_count": 7,
     "metadata": {},
     "output_type": "execute_result"
    }
   ],
   "source": [
    "tokenizer = Tokenizer(num_words = vocab_size, oov_token=oov_tok)\n",
    "tokenizer.fit_on_texts(train_articles)\n",
    "word_index = tokenizer.word_index\n",
    "\n",
    "len(word_index)"
   ]
  },
  {
   "cell_type": "markdown",
   "metadata": {},
   "source": [
    "You can see that \"OOV\" in bracket is number 1, \"said\" is number 2, \"mr\" is number 3, and so on."
   ]
  },
  {
   "cell_type": "code",
   "execution_count": 8,
   "metadata": {
    "scrolled": false
   },
   "outputs": [
    {
     "data": {
      "text/plain": [
       "{'<OOV>': 1,\n",
       " 'said': 2,\n",
       " 'mr': 3,\n",
       " 'would': 4,\n",
       " 'year': 5,\n",
       " 'also': 6,\n",
       " 'people': 7,\n",
       " 'new': 8,\n",
       " 'us': 9,\n",
       " 'one': 10}"
      ]
     },
     "execution_count": 8,
     "metadata": {},
     "output_type": "execute_result"
    }
   ],
   "source": [
    "dict(list(word_index.items())[0:10])"
   ]
  },
  {
   "cell_type": "markdown",
   "metadata": {},
   "source": [
    "This process cleans up our text, lowercase, and remove punctuations."
   ]
  },
  {
   "cell_type": "markdown",
   "metadata": {},
   "source": [
    "After tokenization, the next step is to turn thoes tokens into lists of sequence."
   ]
  },
  {
   "cell_type": "code",
   "execution_count": 9,
   "metadata": {},
   "outputs": [],
   "source": [
    "train_sequences = tokenizer.texts_to_sequences(train_articles)"
   ]
  },
  {
   "cell_type": "markdown",
   "metadata": {},
   "source": [
    "This is the 11th article in the training data that has been turned into sequences."
   ]
  },
  {
   "cell_type": "code",
   "execution_count": 10,
   "metadata": {
    "scrolled": false
   },
   "outputs": [
    {
     "name": "stdout",
     "output_type": "stream",
     "text": [
      "[2432, 1, 225, 4994, 22, 642, 586, 225, 4994, 1, 1, 1663, 1, 1, 2432, 22, 564, 1, 1, 140, 278, 1, 140, 278, 796, 823, 662, 2308, 1, 1145, 1694, 1, 1721, 4995, 1, 1, 1, 1, 1, 4737, 1, 1, 122, 4513, 1, 2, 2875, 1506, 352, 4738, 1, 52, 341, 1, 352, 2172, 3962, 41, 22, 3794, 1, 1, 1, 1, 542, 1, 1, 1, 835, 631, 2367, 347, 4739, 1, 365, 22, 1, 787, 2368, 1, 4301, 138, 10, 1, 3665, 682, 3531, 1, 22, 1, 414, 823, 662, 1, 90, 13, 633, 1, 225, 4994, 1, 599, 1, 1694, 1021, 1, 4996, 807, 1864, 117, 1, 1, 1, 2975, 22, 1, 99, 278, 1, 1608, 4997, 542, 492, 1, 1445, 4740, 778, 1320, 1, 1861, 10, 33, 642, 319, 1, 62, 478, 564, 301, 1507, 22, 479, 1, 1, 1666, 1, 797, 1, 3067, 1, 1365, 6, 1, 2432, 564, 22, 2972, 4734, 1, 1, 1, 1, 1, 850, 39, 1825, 675, 297, 26, 979, 1, 882, 22, 361, 22, 13, 301, 1507, 1343, 374, 20, 63, 883, 1097, 4302, 247]\n"
     ]
    }
   ],
   "source": [
    "print(train_sequences[10])"
   ]
  },
  {
   "cell_type": "markdown",
   "metadata": {},
   "source": [
    "When we train neural networks for NLP, we need sequences to be in the same size, that's why we use padding. Our max_length is 200, so we use pad_sequences to make all of our articles the same length which is 200 in my example. That's why you see that the 1st article was 426 in length, becomes 200, the 2nd article was 192 in length, becomes 200, and so on."
   ]
  },
  {
   "cell_type": "code",
   "execution_count": 11,
   "metadata": {},
   "outputs": [],
   "source": [
    "train_padded = pad_sequences(train_sequences, maxlen=max_length, padding=padding_type, truncating=trunc_type)"
   ]
  },
  {
   "cell_type": "code",
   "execution_count": 12,
   "metadata": {},
   "outputs": [
    {
     "name": "stdout",
     "output_type": "stream",
     "text": [
      "425\n",
      "200\n",
      "192\n",
      "200\n",
      "186\n",
      "200\n"
     ]
    }
   ],
   "source": [
    "print(len(train_sequences[0]))\n",
    "print(len(train_padded[0]))\n",
    "\n",
    "print(len(train_sequences[1]))\n",
    "print(len(train_padded[1]))\n",
    "\n",
    "print(len(train_sequences[10]))\n",
    "print(len(train_padded[10]))"
   ]
  },
  {
   "cell_type": "markdown",
   "metadata": {},
   "source": [
    "In addtion, there is padding type and truncating type, there are all \"post\". Means for example, for the 11th article, it was 186 in length, we padded to 200, and we padded at the end, add 14 zeros."
   ]
  },
  {
   "cell_type": "code",
   "execution_count": 13,
   "metadata": {},
   "outputs": [
    {
     "name": "stdout",
     "output_type": "stream",
     "text": [
      "[2432, 1, 225, 4994, 22, 642, 586, 225, 4994, 1, 1, 1663, 1, 1, 2432, 22, 564, 1, 1, 140, 278, 1, 140, 278, 796, 823, 662, 2308, 1, 1145, 1694, 1, 1721, 4995, 1, 1, 1, 1, 1, 4737, 1, 1, 122, 4513, 1, 2, 2875, 1506, 352, 4738, 1, 52, 341, 1, 352, 2172, 3962, 41, 22, 3794, 1, 1, 1, 1, 542, 1, 1, 1, 835, 631, 2367, 347, 4739, 1, 365, 22, 1, 787, 2368, 1, 4301, 138, 10, 1, 3665, 682, 3531, 1, 22, 1, 414, 823, 662, 1, 90, 13, 633, 1, 225, 4994, 1, 599, 1, 1694, 1021, 1, 4996, 807, 1864, 117, 1, 1, 1, 2975, 22, 1, 99, 278, 1, 1608, 4997, 542, 492, 1, 1445, 4740, 778, 1320, 1, 1861, 10, 33, 642, 319, 1, 62, 478, 564, 301, 1507, 22, 479, 1, 1, 1666, 1, 797, 1, 3067, 1, 1365, 6, 1, 2432, 564, 22, 2972, 4734, 1, 1, 1, 1, 1, 850, 39, 1825, 675, 297, 26, 979, 1, 882, 22, 361, 22, 13, 301, 1507, 1343, 374, 20, 63, 883, 1097, 4302, 247]\n"
     ]
    }
   ],
   "source": [
    "print(train_sequences[10])"
   ]
  },
  {
   "cell_type": "code",
   "execution_count": 14,
   "metadata": {},
   "outputs": [
    {
     "name": "stdout",
     "output_type": "stream",
     "text": [
      "[2432    1  225 4994   22  642  586  225 4994    1    1 1663    1    1\n",
      " 2432   22  564    1    1  140  278    1  140  278  796  823  662 2308\n",
      "    1 1145 1694    1 1721 4995    1    1    1    1    1 4737    1    1\n",
      "  122 4513    1    2 2875 1506  352 4738    1   52  341    1  352 2172\n",
      " 3962   41   22 3794    1    1    1    1  542    1    1    1  835  631\n",
      " 2367  347 4739    1  365   22    1  787 2368    1 4301  138   10    1\n",
      " 3665  682 3531    1   22    1  414  823  662    1   90   13  633    1\n",
      "  225 4994    1  599    1 1694 1021    1 4996  807 1864  117    1    1\n",
      "    1 2975   22    1   99  278    1 1608 4997  542  492    1 1445 4740\n",
      "  778 1320    1 1861   10   33  642  319    1   62  478  564  301 1507\n",
      "   22  479    1    1 1666    1  797    1 3067    1 1365    6    1 2432\n",
      "  564   22 2972 4734    1    1    1    1    1  850   39 1825  675  297\n",
      "   26  979    1  882   22  361   22   13  301 1507 1343  374   20   63\n",
      "  883 1097 4302  247    0    0    0    0    0    0    0    0    0    0\n",
      "    0    0    0    0]\n"
     ]
    }
   ],
   "source": [
    "print(train_padded[10])"
   ]
  },
  {
   "cell_type": "markdown",
   "metadata": {},
   "source": [
    "And for the 1st article, it was 426 in length, we truncated to 200, and we truncated at the end."
   ]
  },
  {
   "cell_type": "code",
   "execution_count": 15,
   "metadata": {},
   "outputs": [
    {
     "name": "stdout",
     "output_type": "stream",
     "text": [
      "[91, 160, 1142, 1107, 49, 979, 755, 1, 89, 1304, 4288, 129, 175, 3653, 1215, 1196, 1578, 42, 7, 893, 91, 1, 334, 85, 20, 14, 130, 3262, 1216, 2422, 569, 451, 1376, 58, 3378, 3521, 1660, 8, 921, 730, 10, 844, 1, 9, 598, 1579, 1108, 395, 1940, 1107, 731, 49, 537, 1398, 2011, 1623, 134, 249, 113, 2356, 795, 4979, 980, 583, 10, 3957, 3958, 921, 2563, 129, 344, 175, 3653, 1, 1, 39, 62, 2868, 28, 9, 4722, 18, 1305, 136, 416, 7, 143, 1423, 71, 4500, 436, 4980, 91, 1108, 77, 1, 82, 2012, 53, 1, 91, 6, 1008, 609, 89, 1304, 91, 1962, 131, 137, 420, 9, 2869, 38, 152, 1234, 89, 1304, 4723, 7, 436, 4980, 3154, 6, 2493, 1, 431, 1127, 1, 1424, 570, 1235, 1902, 1, 766, 9, 537, 1398, 2011, 134, 2069, 400, 845, 1963, 1601, 34, 1717, 2870, 1, 1, 2423, 244, 9, 2625, 82, 732, 6, 1173, 1197, 152, 720, 590, 1, 124, 28, 1305, 1690, 432, 83, 933, 115, 20, 14, 18, 3155, 1, 37, 1484, 1, 23, 37, 87, 335, 2357, 37, 467, 255, 1963, 1359, 328, 1, 299, 732, 1174, 18, 2871, 1717, 1, 294, 756, 1075, 395, 2013, 387, 431, 2013, 2, 1360, 1, 1717, 2166, 67, 1, 1, 1718, 249, 1661, 3060, 1175, 395, 41, 878, 246, 2794, 345, 53, 547, 400, 2, 1, 1, 655, 1361, 202, 91, 3959, 91, 90, 42, 7, 320, 395, 77, 893, 1, 91, 1107, 400, 537, 9, 845, 2423, 11, 38, 1, 995, 513, 483, 2070, 160, 571, 1, 128, 7, 320, 77, 893, 1217, 1127, 1464, 346, 54, 2215, 1218, 741, 92, 256, 274, 1019, 71, 623, 346, 2424, 756, 1216, 2358, 1719, 1, 3783, 3522, 1, 1127, 2013, 177, 371, 1399, 77, 53, 547, 105, 1142, 3, 1, 1047, 93, 2963, 1, 2626, 1, 102, 902, 440, 452, 2, 3, 1, 2872, 451, 1425, 43, 77, 429, 31, 8, 1019, 921, 1, 2563, 30, 1, 91, 1691, 879, 89, 1304, 91, 1962, 1, 30, 8, 1624, 1, 1, 4289, 1580, 4288, 656, 1, 3784, 1008, 571, 4290, 2868, 10, 880, 656, 58, 1, 1262, 1, 1, 91, 1554, 934, 4722, 1, 576, 4105, 10, 9, 235, 2011, 91, 134, 1, 95, 656, 3263, 1, 58, 519, 673, 2627, 3784, 4981, 3379, 483, 4724, 39, 4500, 1, 91, 1748, 673, 269, 116, 239, 2628, 354, 644, 58, 4106, 757, 3654, 4722, 146, 1, 400, 7, 71, 1749, 1108, 767, 910, 118, 583, 3380, 1316, 1579, 1, 1602, 7, 893, 77, 77]\n"
     ]
    }
   ],
   "source": [
    "print(train_sequences[0])"
   ]
  },
  {
   "cell_type": "code",
   "execution_count": 16,
   "metadata": {},
   "outputs": [
    {
     "name": "stdout",
     "output_type": "stream",
     "text": [
      "[  91  160 1142 1107   49  979  755    1   89 1304 4288  129  175 3653\n",
      " 1215 1196 1578   42    7  893   91    1  334   85   20   14  130 3262\n",
      " 1216 2422  569  451 1376   58 3378 3521 1660    8  921  730   10  844\n",
      "    1    9  598 1579 1108  395 1940 1107  731   49  537 1398 2011 1623\n",
      "  134  249  113 2356  795 4979  980  583   10 3957 3958  921 2563  129\n",
      "  344  175 3653    1    1   39   62 2868   28    9 4722   18 1305  136\n",
      "  416    7  143 1423   71 4500  436 4980   91 1108   77    1   82 2012\n",
      "   53    1   91    6 1008  609   89 1304   91 1962  131  137  420    9\n",
      " 2869   38  152 1234   89 1304 4723    7  436 4980 3154    6 2493    1\n",
      "  431 1127    1 1424  570 1235 1902    1  766    9  537 1398 2011  134\n",
      " 2069  400  845 1963 1601   34 1717 2870    1    1 2423  244    9 2625\n",
      "   82  732    6 1173 1197  152  720  590    1  124   28 1305 1690  432\n",
      "   83  933  115   20   14   18 3155    1   37 1484    1   23   37   87\n",
      "  335 2357   37  467  255 1963 1359  328    1  299  732 1174   18 2871\n",
      " 1717    1  294  756]\n"
     ]
    }
   ],
   "source": [
    "print(train_padded[0])"
   ]
  },
  {
   "cell_type": "markdown",
   "metadata": {},
   "source": [
    "Then we do the same for the validation sequences. Note that we should expect more out of vocabulary words from validation articles because word index were derived from the training articles."
   ]
  },
  {
   "cell_type": "code",
   "execution_count": 17,
   "metadata": {},
   "outputs": [
    {
     "name": "stdout",
     "output_type": "stream",
     "text": [
      "445\n",
      "(445, 200)\n"
     ]
    }
   ],
   "source": [
    "validation_sequences = tokenizer.texts_to_sequences(validation_articles)\n",
    "validation_padded = pad_sequences(validation_sequences, maxlen=max_length, padding=padding_type, truncating=trunc_type)\n",
    "\n",
    "print(len(validation_sequences))\n",
    "print(validation_padded.shape)"
   ]
  },
  {
   "cell_type": "markdown",
   "metadata": {},
   "source": [
    "Now we are going to look at the labels. because our labels are text, so we will tokenize them, when training, labels are expected to be numpy arrays. So we will turn list of labels into numpy arrays like so:"
   ]
  },
  {
   "cell_type": "code",
   "execution_count": 18,
   "metadata": {},
   "outputs": [
    {
     "name": "stdout",
     "output_type": "stream",
     "text": [
      "{'sport', 'business', 'tech', 'entertainment', 'politics'}\n"
     ]
    }
   ],
   "source": [
    "print(set(labels))"
   ]
  },
  {
   "cell_type": "code",
   "execution_count": 19,
   "metadata": {},
   "outputs": [],
   "source": [
    "label_tokenizer = Tokenizer()\n",
    "label_tokenizer.fit_on_texts(labels)\n",
    "\n",
    "training_label_seq = np.array(label_tokenizer.texts_to_sequences(train_labels))\n",
    "validation_label_seq = np.array(label_tokenizer.texts_to_sequences(validation_labels))"
   ]
  },
  {
   "cell_type": "code",
   "execution_count": 20,
   "metadata": {},
   "outputs": [
    {
     "name": "stdout",
     "output_type": "stream",
     "text": [
      "[4]\n",
      "[2]\n",
      "[1]\n",
      "(1780, 1)\n",
      "[5]\n",
      "[4]\n",
      "[3]\n",
      "(445, 1)\n"
     ]
    }
   ],
   "source": [
    "print(training_label_seq[0])\n",
    "print(training_label_seq[1])\n",
    "print(training_label_seq[2])\n",
    "print(training_label_seq.shape)\n",
    "\n",
    "print(validation_label_seq[0])\n",
    "print(validation_label_seq[1])\n",
    "print(validation_label_seq[2])\n",
    "print(validation_label_seq.shape)"
   ]
  },
  {
   "cell_type": "markdown",
   "metadata": {},
   "source": [
    "Before training deep neural network, we want to explore what our original article and article after padding look like. Running the following code, we explore the 11th article, we can see that some words become \"OOV\", because they did not make to the top 5,000."
   ]
  },
  {
   "cell_type": "code",
   "execution_count": 21,
   "metadata": {},
   "outputs": [
    {
     "name": "stdout",
     "output_type": "stream",
     "text": [
      "berlin <OOV> anti nazi film german movie anti nazi <OOV> <OOV> drawn <OOV> <OOV> berlin film festival <OOV> <OOV> final days <OOV> final days member white rose movement <OOV> 21 arrested <OOV> brother hans <OOV> <OOV> <OOV> <OOV> <OOV> tyranny <OOV> <OOV> director marc <OOV> said feeling responsibility keep legacy <OOV> going must <OOV> keep ideas alive added film drew <OOV> <OOV> <OOV> <OOV> trial <OOV> <OOV> <OOV> east germany secret police discovery <OOV> behind film <OOV> worked closely <OOV> relatives including one <OOV> sisters ensure historical <OOV> film <OOV> members white rose <OOV> group first started <OOV> anti nazi <OOV> summer <OOV> arrested dropped <OOV> munich university calling day <OOV> <OOV> <OOV> regime film <OOV> six days <OOV> arrest intense trial saw <OOV> initially deny charges ended <OOV> appearance one three german films <OOV> top prize festival south african film version <OOV> <OOV> opera <OOV> shot <OOV> town <OOV> language also <OOV> berlin festival film entitled u <OOV> <OOV> <OOV> <OOV> <OOV> story set performed 40 strong music theatre <OOV> debut film performance film first south african feature 25 years second nominated golden bear award ? ? ? ? ? ? ? ? ? ? ? ? ? ?\n",
      "---\n",
      "berlin cheers anti-nazi film german movie anti-nazi resistance heroine drawn loud applause berlin film festival.  sophie scholl - final days portrays final days member white rose movement. scholl  21  arrested beheaded brother  hans  1943 distributing leaflets condemning  abhorrent tyranny  adolf hitler. director marc rothemund said:  feeling responsibility keep legacy scholls going.   must somehow keep ideas alive   added.  film drew transcripts gestapo interrogations scholl trial preserved archive communist east germany secret police. discovery inspiration behind film rothemund  worked closely surviving relatives  including one scholl sisters  ensure historical accuracy film. scholl members white rose resistance group first started distributing anti-nazi leaflets summer 1942. arrested dropped leaflets munich university calling  day reckoning  adolf hitler regime. film focuses six days scholl arrest intense trial saw scholl initially deny charges ended defiant appearance. one three german films vying top prize festival.  south african film version bizet tragic opera carmen shot cape town xhosa language also premiered berlin festival. film entitled u-carmen ekhayelitsha carmen khayelitsha township story set. performed 40-strong music theatre troupe debut film performance. film first south african feature 25 years second nominated golden bear award.\n"
     ]
    }
   ],
   "source": [
    "reverse_word_index = dict([(value, key) for (key, value) in word_index.items()])\n",
    "\n",
    "def decode_article(text):\n",
    "    return ' '.join([reverse_word_index.get(i, '?') for i in text])\n",
    "print(decode_article(train_padded[10]))\n",
    "print('---')\n",
    "print(train_articles[10])"
   ]
  },
  {
   "cell_type": "markdown",
   "metadata": {},
   "source": [
    "Now we can implement LSTM. using tf.keras.Sequential model and start with an embedding layer. \n",
    "1.  An embedding layer stores one vector per word. \n",
    "2.  When called, it converts the sequences of word indices into sequences of vectors. \n",
    "3.  After training, words with similar meanings often have the similar vectors.\n",
    "\n",
    "Next is how to implement LSTM in code. The Bidirectional wrapper is used with a LSTM layer, this propagates the input forwards and backwards through the LSTM layer and then concatenates the outputs. \n",
    "\n",
    "This helps LSTM to learn long term dependencies. We then fit it to a dense neural network to do classification.\n",
    "\n",
    "This index-lookup is much more efficient than the equivalent operation of passing a one-hot encoded vector through a tf.keras.layers.Dense layer."
   ]
  },
  {
   "cell_type": "code",
   "execution_count": 22,
   "metadata": {},
   "outputs": [
    {
     "data": {
      "text/plain": [
       "(5000, 64)"
      ]
     },
     "execution_count": 22,
     "metadata": {},
     "output_type": "execute_result"
    }
   ],
   "source": [
    "vocab_size, embedding_dim"
   ]
  },
  {
   "cell_type": "markdown",
   "metadata": {},
   "source": [
    "### LSTM"
   ]
  },
  {
   "cell_type": "code",
   "execution_count": 33,
   "metadata": {},
   "outputs": [
    {
     "name": "stdout",
     "output_type": "stream",
     "text": [
      "Model: \"sequential_2\"\n",
      "_________________________________________________________________\n",
      "Layer (type)                 Output Shape              Param #   \n",
      "=================================================================\n",
      "embedding_2 (Embedding)      (None, None, 64)          320000    \n",
      "_________________________________________________________________\n",
      "lstm_2 (LSTM)                (None, 64)                33024     \n",
      "_________________________________________________________________\n",
      "dense_4 (Dense)              (None, 64)                4160      \n",
      "_________________________________________________________________\n",
      "dense_5 (Dense)              (None, 6)                 390       \n",
      "=================================================================\n",
      "Total params: 357,574\n",
      "Trainable params: 357,574\n",
      "Non-trainable params: 0\n",
      "_________________________________________________________________\n",
      "Epoch 1/20\n",
      "56/56 - 10s - loss: 1.6530 - accuracy: 0.2944 - val_loss: 1.5224 - val_accuracy: 0.3124\n",
      "Epoch 2/20\n",
      "56/56 - 8s - loss: 1.3365 - accuracy: 0.3843 - val_loss: 1.1593 - val_accuracy: 0.4854\n",
      "Epoch 3/20\n",
      "56/56 - 7s - loss: 1.0643 - accuracy: 0.4955 - val_loss: 1.0856 - val_accuracy: 0.5528\n",
      "Epoch 4/20\n",
      "56/56 - 7s - loss: 0.9878 - accuracy: 0.5674 - val_loss: 1.0263 - val_accuracy: 0.5416\n",
      "Epoch 5/20\n",
      "56/56 - 7s - loss: 0.9546 - accuracy: 0.6146 - val_loss: 1.0710 - val_accuracy: 0.5461\n",
      "Epoch 6/20\n",
      "56/56 - 7s - loss: 0.9829 - accuracy: 0.5854 - val_loss: 0.9610 - val_accuracy: 0.6202\n",
      "Epoch 7/20\n",
      "56/56 - 7s - loss: 0.8560 - accuracy: 0.6522 - val_loss: 1.0434 - val_accuracy: 0.5573\n",
      "Epoch 8/20\n",
      "56/56 - 7s - loss: 0.8940 - accuracy: 0.6129 - val_loss: 1.1916 - val_accuracy: 0.5011\n",
      "Epoch 9/20\n",
      "56/56 - 7s - loss: 0.8063 - accuracy: 0.6831 - val_loss: 0.9104 - val_accuracy: 0.6584\n",
      "Epoch 10/20\n",
      "56/56 - 7s - loss: 0.6733 - accuracy: 0.7449 - val_loss: 1.4064 - val_accuracy: 0.6045\n",
      "Epoch 11/20\n",
      "56/56 - 7s - loss: 0.9343 - accuracy: 0.6753 - val_loss: 1.0119 - val_accuracy: 0.6067\n",
      "Epoch 12/20\n",
      "56/56 - 7s - loss: 0.7252 - accuracy: 0.7270 - val_loss: 1.2457 - val_accuracy: 0.4966\n",
      "Epoch 13/20\n",
      "56/56 - 7s - loss: 0.6745 - accuracy: 0.7663 - val_loss: 1.1491 - val_accuracy: 0.6202\n",
      "Epoch 14/20\n",
      "56/56 - 7s - loss: 0.8950 - accuracy: 0.6511 - val_loss: 1.1789 - val_accuracy: 0.4921\n",
      "Epoch 15/20\n",
      "56/56 - 7s - loss: 0.8760 - accuracy: 0.6303 - val_loss: 0.9896 - val_accuracy: 0.5438\n",
      "Epoch 16/20\n",
      "56/56 - 8s - loss: 0.6751 - accuracy: 0.7225 - val_loss: 0.8608 - val_accuracy: 0.6629\n",
      "Epoch 17/20\n",
      "56/56 - 7s - loss: 0.7803 - accuracy: 0.6691 - val_loss: 1.0800 - val_accuracy: 0.5236\n",
      "Epoch 18/20\n",
      "56/56 - 7s - loss: 0.6179 - accuracy: 0.7590 - val_loss: 0.8042 - val_accuracy: 0.7034\n",
      "Epoch 19/20\n",
      "56/56 - 7s - loss: 0.4746 - accuracy: 0.8404 - val_loss: 1.4768 - val_accuracy: 0.4809\n",
      "Epoch 20/20\n",
      "56/56 - 7s - loss: 1.0966 - accuracy: 0.5770 - val_loss: 1.4428 - val_accuracy: 0.3685\n"
     ]
    }
   ],
   "source": [
    "# Add an Embedding layer expecting input vocab of size 5000, and output embedding dimension of size 64 we set at the top\n",
    "\n",
    "# use ReLU in place of tanh function since they are very good alternatives of each other.\n",
    "\n",
    "# Add a Dense layer with 6 units and softmax activation.\n",
    "# When we have multiple outputs, softmax convert outputs layers into a probability distribution.\n",
    "\n",
    "LSTM_model = tf.keras.Sequential([\n",
    "    tf.keras.layers.Embedding(vocab_size, embedding_dim),\n",
    "    \n",
    "    tf.keras.layers.LSTM(embedding_dim),\n",
    "\n",
    "    tf.keras.layers.Dense(embedding_dim, activation='relu'),\n",
    "    \n",
    "    tf.keras.layers.Dense(6, activation='softmax')\n",
    "])\n",
    "LSTM_model.summary()\n",
    "LSTM_model.compile(loss='sparse_categorical_crossentropy', optimizer='adam', metrics=['accuracy'])\n",
    "\n",
    "num_epochs = 20\n",
    "LSTM_history = LSTM_model.fit(train_padded, training_label_seq, \n",
    "                    epochs=num_epochs, \n",
    "                    validation_data=(validation_padded, validation_label_seq), verbose=2)"
   ]
  },
  {
   "cell_type": "code",
   "execution_count": 34,
   "metadata": {},
   "outputs": [
    {
     "data": {
      "image/png": "[encoded data removed]",
      "text/plain": [
       "<Figure size 432x288 with 1 Axes>"
      ]
     },
     "metadata": {
      "needs_background": "light"
     },
     "output_type": "display_data"
    },
    {
     "data": {
      "image/png": "[encoded data removed]",
      "text/plain": [
       "<Figure size 432x288 with 1 Axes>"
      ]
     },
     "metadata": {
      "needs_background": "light"
     },
     "output_type": "display_data"
    }
   ],
   "source": [
    "\n",
    "plot_graphs(LSTM_history, \"accuracy\")\n",
    "plot_graphs(LSTM_history, \"loss\")"
   ]
  },
  {
   "cell_type": "code",
   "execution_count": 25,
   "metadata": {},
   "outputs": [
    {
     "name": "stdout",
     "output_type": "stream",
     "text": [
      "[[0.0043787  0.2308697  0.37204614 0.04430556 0.03817364 0.31022626]] politics\n"
     ]
    }
   ],
   "source": [
    "txt = [\"A WeWork shareholder has taken the company to court over the near-$1.7bn (£1.3bn) \\\n",
    "       leaving package approved for ousted co-founder Adam Neumann.\"]\n",
    "\n",
    "seq = tokenizer.texts_to_sequences(txt)\n",
    "padded = pad_sequences(seq, maxlen=max_length)\n",
    "pred = LSTM_model.predict(padded)\n",
    "\n",
    "labels = ['sport', 'bussiness', 'politics', 'tech', 'entertainment','unknown']\n",
    "\n",
    "print(pred, labels[np.argmax(pred)])"
   ]
  },
  {
   "cell_type": "markdown",
   "metadata": {},
   "source": [
    "## BilStm"
   ]
  },
  {
   "cell_type": "code",
   "execution_count": 26,
   "metadata": {},
   "outputs": [
    {
     "name": "stdout",
     "output_type": "stream",
     "text": [
      "Model: \"sequential_1\"\n",
      "_________________________________________________________________\n",
      "Layer (type)                 Output Shape              Param #   \n",
      "=================================================================\n",
      "embedding_1 (Embedding)      (None, None, 64)          320000    \n",
      "_________________________________________________________________\n",
      "bidirectional (Bidirectional (None, 128)               66048     \n",
      "_________________________________________________________________\n",
      "dense_2 (Dense)              (None, 64)                8256      \n",
      "_________________________________________________________________\n",
      "dense_3 (Dense)              (None, 6)                 390       \n",
      "=================================================================\n",
      "Total params: 394,694\n",
      "Trainable params: 394,694\n",
      "Non-trainable params: 0\n",
      "_________________________________________________________________\n"
     ]
    }
   ],
   "source": [
    "# Add an Embedding layer expecting input vocab of size 5000, and output embedding dimension of size 64 we set at the top\n",
    "\n",
    "# use ReLU in place of tanh function since they are very good alternatives of each other.\n",
    "\n",
    "# Add a Dense layer with 6 units and softmax activation.\n",
    "# When we have multiple outputs, softmax convert outputs layers into a probability distribution.\n",
    "\n",
    "BiLstm_model = tf.keras.Sequential([\n",
    "    tf.keras.layers.Embedding(vocab_size, embedding_dim),\n",
    "    \n",
    "    tf.keras.layers.Bidirectional(tf.keras.layers.LSTM(embedding_dim)),\n",
    "#     tf.keras.layers.Bidirectional(tf.keras.layers.LSTM(32)),\n",
    "    \n",
    "    tf.keras.layers.Dense(embedding_dim, activation='relu'),\n",
    "    \n",
    "    tf.keras.layers.Dense(6, activation='softmax')\n",
    "])\n",
    "BiLstm_model.summary()"
   ]
  },
  {
   "cell_type": "markdown",
   "metadata": {},
   "source": [
    "In our model summay, we have our embeddings, our Bidirectional contains LSTM, followed by two dense layers. The output from Bidirectional is 128, because it doubled what we put in LSTM. We can also stack LSTM layer but I found the results worse."
   ]
  },
  {
   "cell_type": "code",
   "execution_count": 27,
   "metadata": {},
   "outputs": [],
   "source": [
    "BiLstm_model.compile(loss='sparse_categorical_crossentropy', optimizer='adam', metrics=['accuracy'])"
   ]
  },
  {
   "cell_type": "code",
   "execution_count": 28,
   "metadata": {},
   "outputs": [
    {
     "name": "stdout",
     "output_type": "stream",
     "text": [
      "Epoch 1/10\n",
      "56/56 - 16s - loss: 1.5881 - accuracy: 0.2820 - val_loss: 1.3136 - val_accuracy: 0.3798\n",
      "Epoch 2/10\n",
      "56/56 - 12s - loss: 1.1945 - accuracy: 0.5129 - val_loss: 0.8353 - val_accuracy: 0.7011\n",
      "Epoch 3/10\n",
      "56/56 - 11s - loss: 0.5323 - accuracy: 0.7910 - val_loss: 0.5512 - val_accuracy: 0.8225\n",
      "Epoch 4/10\n",
      "56/56 - 11s - loss: 0.3243 - accuracy: 0.9118 - val_loss: 0.6458 - val_accuracy: 0.7888\n",
      "Epoch 5/10\n",
      "56/56 - 13s - loss: 0.2127 - accuracy: 0.9292 - val_loss: 0.3731 - val_accuracy: 0.8787\n",
      "Epoch 6/10\n",
      "56/56 - 11s - loss: 0.0521 - accuracy: 0.9871 - val_loss: 0.3678 - val_accuracy: 0.8966\n",
      "Epoch 7/10\n",
      "56/56 - 11s - loss: 0.0266 - accuracy: 0.9944 - val_loss: 0.3759 - val_accuracy: 0.8921\n",
      "Epoch 8/10\n",
      "56/56 - 11s - loss: 0.0105 - accuracy: 0.9978 - val_loss: 0.4648 - val_accuracy: 0.8876\n",
      "Epoch 9/10\n",
      "56/56 - 12s - loss: 0.0047 - accuracy: 0.9994 - val_loss: 0.4134 - val_accuracy: 0.9034\n",
      "Epoch 10/10\n",
      "56/56 - 12s - loss: 0.0024 - accuracy: 0.9994 - val_loss: 0.5866 - val_accuracy: 0.8652\n"
     ]
    }
   ],
   "source": [
    "num_epochs = 10\n",
    "BiLstm_history = BiLstm_model.fit(train_padded, training_label_seq, \n",
    "                    epochs=num_epochs, \n",
    "                    validation_data=(validation_padded, validation_label_seq), verbose=2)"
   ]
  },
  {
   "cell_type": "code",
   "execution_count": 29,
   "metadata": {},
   "outputs": [
    {
     "data": {
      "image/png": "[encoded data removed]",
      "text/plain": [
       "<Figure size 432x288 with 1 Axes>"
      ]
     },
     "metadata": {
      "needs_background": "light"
     },
     "output_type": "display_data"
    },
    {
     "data": {
      "image/png": "[encoded data removed]",
      "text/plain": [
       "<Figure size 432x288 with 1 Axes>"
      ]
     },
     "metadata": {
      "needs_background": "light"
     },
     "output_type": "display_data"
    }
   ],
   "source": [
    "\n",
    "plot_graphs(BiLstm_history, \"accuracy\")\n",
    "plot_graphs(BiLstm_history, \"loss\")"
   ]
  },
  {
   "cell_type": "code",
   "execution_count": 30,
   "metadata": {},
   "outputs": [
    {
     "data": {
      "text/plain": [
       "array([[2.8664434e-07, 1.5059391e-04, 9.9796665e-01, 1.5671923e-03,\n",
       "        2.8996140e-04, 2.5388064e-05]], dtype=float32)"
      ]
     },
     "execution_count": 30,
     "metadata": {},
     "output_type": "execute_result"
    }
   ],
   "source": [
    "txt = [\"A WeWork shareholder has taken the company to court over the near-$1.7bn (£1.3bn) leaving package approved for ousted co-founder Adam Neumann.\"]\n",
    "seq = tokenizer.texts_to_sequences(txt)\n",
    "padded = pad_sequences(seq, maxlen=max_length)\n",
    "pred = BiLstm_model.predict(padded)\n",
    "pred"
   ]
  },
  {
   "cell_type": "code",
   "execution_count": 31,
   "metadata": {},
   "outputs": [
    {
     "name": "stdout",
     "output_type": "stream",
     "text": [
      "[[2.8664434e-07 1.5059391e-04 9.9796665e-01 1.5671923e-03 2.8996140e-04\n",
      "  2.5388064e-05]] politics\n"
     ]
    }
   ],
   "source": [
    "txt = [\"A WeWork shareholder has taken the company to court over the near-$1.7bn (£1.3bn) leaving package approved for ousted co-founder Adam Neumann.\"]\n",
    "seq = tokenizer.texts_to_sequences(txt)\n",
    "padded = pad_sequences(seq, maxlen=max_length)\n",
    "pred = BiLstm_model.predict(padded)\n",
    "labels = ['sport', 'bussiness', 'politics', 'tech', 'entertainment','unknown']\n",
    "print(pred, labels[np.argmax(pred)])"
   ]
  },
  {
   "cell_type": "code",
   "execution_count": 32,
   "metadata": {},
   "outputs": [
    {
     "data": {
      "text/plain": [
       "2"
      ]
     },
     "execution_count": 32,
     "metadata": {},
     "output_type": "execute_result"
    }
   ],
   "source": [
    "np.argmax(pred)"
   ]
  },
  {
   "cell_type": "code",
   "execution_count": null,
   "metadata": {},
   "outputs": [],
   "source": []
  },
  {
   "cell_type": "code",
   "execution_count": null,
   "metadata": {},
   "outputs": [],
   "source": []
  },
  {
   "cell_type": "code",
   "execution_count": null,
   "metadata": {},
   "outputs": [],
   "source": []
  }
 ],
 "metadata": {
  "kernelspec": {
   "display_name": "Python 3",
   "language": "python",
   "name": "python3"
  },
  "language_info": {
   "codemirror_mode": {
    "name": "ipython",
    "version": 3
   },
   "file_extension": ".py",
   "mimetype": "text/x-python",
   "name": "python",
   "nbconvert_exporter": "python",
   "pygments_lexer": "ipython3",
   "version": "3.6.9"
  }
 },
 "nbformat": 4,
 "nbformat_minor": 2
}
