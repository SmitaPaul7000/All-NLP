{
 "cells": [
  {
   "cell_type": "markdown",
   "metadata": {
    "_uuid": "84163f3ca19c0b7c9fda47121b3bc4cadfaf1fcc"
   },
   "source": [
    "# Gensim Word2Vec Tutorial"
   ]
  },
  {
   "cell_type": "code",
   "execution_count": 1,
   "metadata": {
    "_uuid": "cc7b3e6ca62670ff13626705402f626778487204",
    "execution": {
     "iopub.execute_input": "2021-06-08T15:51:47.276260Z",
     "iopub.status.busy": "2021-06-08T15:51:47.275905Z",
     "iopub.status.idle": "2021-06-08T15:51:47.780293Z",
     "shell.execute_reply": "2021-06-08T15:51:47.779557Z",
     "shell.execute_reply.started": "2021-06-08T15:51:47.276199Z"
    }
   },
   "outputs": [],
   "source": [
    "import re  # For preprocessing\n",
    "import pandas as pd  # For data handling\n",
    "from time import time  # To time our operations\n",
    "from collections import defaultdict  # For word frequency\n",
    "\n",
    "import spacy  # For preprocessing\n",
    "\n",
    "import logging  # Setting up the loggings to monitor gensim\n",
    "logging.basicConfig(format=\"%(levelname)s - %(asctime)s: %(message)s\", datefmt= '%H:%M:%S', level=logging.INFO)"
   ]
  },
  {
   "cell_type": "code",
   "execution_count": 2,
   "metadata": {
    "_uuid": "6453b9c3f797e51923e030090ead659253f4e459",
    "execution": {
     "iopub.execute_input": "2021-06-08T15:51:53.897872Z",
     "iopub.status.busy": "2021-06-08T15:51:53.897514Z",
     "iopub.status.idle": "2021-06-08T15:51:54.398634Z",
     "shell.execute_reply": "2021-06-08T15:51:54.397721Z",
     "shell.execute_reply.started": "2021-06-08T15:51:53.897820Z"
    }
   },
   "outputs": [
    {
     "data": {
      "text/plain": [
       "(158314, 2)"
      ]
     },
     "execution_count": 2,
     "metadata": {},
     "output_type": "execute_result"
    }
   ],
   "source": [
    "df = pd.read_csv('../input/simpsons_dataset.csv')\n",
    "df.shape"
   ]
  },
  {
   "cell_type": "code",
   "execution_count": 3,
   "metadata": {
    "_uuid": "c6c6bf4462fb4bc00c2abdbf65eced888219f364",
    "execution": {
     "iopub.execute_input": "2021-06-08T15:51:57.920555Z",
     "iopub.status.busy": "2021-06-08T15:51:57.920199Z",
     "iopub.status.idle": "2021-06-08T15:51:57.950030Z",
     "shell.execute_reply": "2021-06-08T15:51:57.949102Z",
     "shell.execute_reply.started": "2021-06-08T15:51:57.920491Z"
    }
   },
   "outputs": [
    {
     "data": {
      "text/html": [
       "<div>\n",
       "<style scoped>\n",
       "    .dataframe tbody tr th:only-of-type {\n",
       "        vertical-align: middle;\n",
       "    }\n",
       "\n",
       "    .dataframe tbody tr th {\n",
       "        vertical-align: top;\n",
       "    }\n",
       "\n",
       "    .dataframe thead th {\n",
       "        text-align: right;\n",
       "    }\n",
       "</style>\n",
       "<table border=\"1\" class=\"dataframe\">\n",
       "  <thead>\n",
       "    <tr style=\"text-align: right;\">\n",
       "      <th></th>\n",
       "      <th>raw_character_text</th>\n",
       "      <th>spoken_words</th>\n",
       "    </tr>\n",
       "  </thead>\n",
       "  <tbody>\n",
       "    <tr>\n",
       "      <th>0</th>\n",
       "      <td>Miss Hoover</td>\n",
       "      <td>No, actually, it was a little of both. Sometim...</td>\n",
       "    </tr>\n",
       "    <tr>\n",
       "      <th>1</th>\n",
       "      <td>Lisa Simpson</td>\n",
       "      <td>Where's Mr. Bergstrom?</td>\n",
       "    </tr>\n",
       "    <tr>\n",
       "      <th>2</th>\n",
       "      <td>Miss Hoover</td>\n",
       "      <td>I don't know. Although I'd sure like to talk t...</td>\n",
       "    </tr>\n",
       "    <tr>\n",
       "      <th>3</th>\n",
       "      <td>Lisa Simpson</td>\n",
       "      <td>That life is worth living.</td>\n",
       "    </tr>\n",
       "    <tr>\n",
       "      <th>4</th>\n",
       "      <td>Edna Krabappel-Flanders</td>\n",
       "      <td>The polls will be open from now until the end ...</td>\n",
       "    </tr>\n",
       "  </tbody>\n",
       "</table>\n",
       "</div>"
      ],
      "text/plain": [
       "        raw_character_text                                       spoken_words\n",
       "0              Miss Hoover  No, actually, it was a little of both. Sometim...\n",
       "1             Lisa Simpson                             Where's Mr. Bergstrom?\n",
       "2              Miss Hoover  I don't know. Although I'd sure like to talk t...\n",
       "3             Lisa Simpson                         That life is worth living.\n",
       "4  Edna Krabappel-Flanders  The polls will be open from now until the end ..."
      ]
     },
     "execution_count": 3,
     "metadata": {},
     "output_type": "execute_result"
    }
   ],
   "source": [
    "df.head()"
   ]
  },
  {
   "cell_type": "code",
   "execution_count": 4,
   "metadata": {
    "_uuid": "3a15727caeba1c8d10573456640d0b8b9f2f2e2d",
    "execution": {
     "iopub.execute_input": "2021-06-08T15:52:05.849178Z",
     "iopub.status.busy": "2021-06-08T15:52:05.848648Z",
     "iopub.status.idle": "2021-06-08T15:52:05.899300Z",
     "shell.execute_reply": "2021-06-08T15:52:05.898288Z",
     "shell.execute_reply.started": "2021-06-08T15:52:05.849109Z"
    }
   },
   "outputs": [
    {
     "data": {
      "text/plain": [
       "raw_character_text    17814\n",
       "spoken_words          26459\n",
       "dtype: int64"
      ]
     },
     "execution_count": 4,
     "metadata": {},
     "output_type": "execute_result"
    }
   ],
   "source": [
    "df.isnull().sum()"
   ]
  },
  {
   "cell_type": "markdown",
   "metadata": {
    "_uuid": "885a555596d7484841ea54c94405d03d90572396"
   },
   "source": [
    "Removing the missing values:"
   ]
  },
  {
   "cell_type": "code",
   "execution_count": 5,
   "metadata": {
    "_uuid": "82cb38f176526679f66ee31e11cfe4f5eebdab51",
    "execution": {
     "iopub.execute_input": "2021-06-08T15:52:11.039541Z",
     "iopub.status.busy": "2021-06-08T15:52:11.039094Z",
     "iopub.status.idle": "2021-06-08T15:52:11.126081Z",
     "shell.execute_reply": "2021-06-08T15:52:11.125009Z",
     "shell.execute_reply.started": "2021-06-08T15:52:11.039499Z"
    }
   },
   "outputs": [
    {
     "data": {
      "text/plain": [
       "raw_character_text    0\n",
       "spoken_words          0\n",
       "dtype: int64"
      ]
     },
     "execution_count": 5,
     "metadata": {},
     "output_type": "execute_result"
    }
   ],
   "source": [
    "df = df.dropna().reset_index(drop=True)\n",
    "df.isnull().sum()"
   ]
  },
  {
   "cell_type": "markdown",
   "metadata": {
    "_uuid": "7f07dca2a2656dcd9e0c315afa36af32a992eef7"
   },
   "source": [
    "## Cleaning:\n",
    "We are lemmatizing and removing the stopwords and non-alphabetic characters for each line of dialogue."
   ]
  },
  {
   "cell_type": "code",
   "execution_count": 6,
   "metadata": {
    "_uuid": "b26a0c01c5701630d3951cfc808a9d944eea6371",
    "execution": {
     "iopub.execute_input": "2021-06-08T15:52:14.481762Z",
     "iopub.status.busy": "2021-06-08T15:52:14.481454Z",
     "iopub.status.idle": "2021-06-08T15:52:15.333584Z",
     "shell.execute_reply": "2021-06-08T15:52:15.332674Z",
     "shell.execute_reply.started": "2021-06-08T15:52:14.481713Z"
    }
   },
   "outputs": [],
   "source": [
    "nlp = spacy.load('en', disable=['ner', 'parser']) # disabling Named Entity Recognition for speed\n",
    "\n",
    "def cleaning(doc):\n",
    "    # Lemmatizes and removes stopwords\n",
    "    # doc needs to be a spacy Doc object\n",
    "    txt = [token.lemma_ for token in doc if not token.is_stop]\n",
    "    # Word2Vec uses context words to learn the vector representation of a target word,\n",
    "    # if a sentence is only one or two words long,\n",
    "    # the benefit for the training is very small\n",
    "    if len(txt) > 2:\n",
    "        return ' '.join(txt)"
   ]
  },
  {
   "cell_type": "markdown",
   "metadata": {
    "_uuid": "f686964722eede40e5961cd232aee7b6dd587bd1"
   },
   "source": [
    "Removes non-alphabetic characters:"
   ]
  },
  {
   "cell_type": "code",
   "execution_count": 7,
   "metadata": {
    "_uuid": "b45598934171607242ca7d50f8c5f7c91411aace",
    "execution": {
     "iopub.execute_input": "2021-06-08T15:52:22.498782Z",
     "iopub.status.busy": "2021-06-08T15:52:22.498468Z",
     "iopub.status.idle": "2021-06-08T15:52:22.507466Z",
     "shell.execute_reply": "2021-06-08T15:52:22.506102Z",
     "shell.execute_reply.started": "2021-06-08T15:52:22.498732Z"
    }
   },
   "outputs": [],
   "source": [
    "brief_cleaning = (re.sub(\"[^A-Za-z']+\", ' ', str(row)).lower() for row in df['spoken_words'])"
   ]
  },
  {
   "cell_type": "markdown",
   "metadata": {
    "_uuid": "2360160a7f326a32d56f2f18782d7ce2f4ac1def"
   },
   "source": [
    "Taking advantage of spaCy .pipe() attribute to speed-up the cleaning process:"
   ]
  },
  {
   "cell_type": "code",
   "execution_count": 8,
   "metadata": {
    "_uuid": "fa44ca458c970ca229426779e6ffcd46c2de313c",
    "execution": {
     "iopub.execute_input": "2021-06-08T15:52:27.233460Z",
     "iopub.status.busy": "2021-06-08T15:52:27.233141Z",
     "iopub.status.idle": "2021-06-08T15:54:39.056304Z",
     "shell.execute_reply": "2021-06-08T15:54:39.055357Z",
     "shell.execute_reply.started": "2021-06-08T15:52:27.233411Z"
    }
   },
   "outputs": [
    {
     "name": "stdout",
     "output_type": "stream",
     "text": [
      "Time to clean up everything: 2.2 mins\n"
     ]
    }
   ],
   "source": [
    "t = time()\n",
    "\n",
    "txt = [cleaning(doc) for doc in nlp.pipe(brief_cleaning, batch_size=5000, n_threads=-1)]\n",
    "\n",
    "print('Time to clean up everything: {} mins'.format(round((time() - t) / 60, 2)))"
   ]
  },
  {
   "cell_type": "markdown",
   "metadata": {
    "_uuid": "65ec76c60f9fe93bba6909f4e696f90e3e54710b"
   },
   "source": [
    "Put the results in a DataFrame to remove missing values and duplicates:"
   ]
  },
  {
   "cell_type": "code",
   "execution_count": 9,
   "metadata": {
    "_uuid": "57f1eb8382554bc592d48915a903230b5b6d6cf7",
    "execution": {
     "iopub.execute_input": "2021-06-08T15:54:39.058955Z",
     "iopub.status.busy": "2021-06-08T15:54:39.058571Z",
     "iopub.status.idle": "2021-06-08T15:54:39.131866Z",
     "shell.execute_reply": "2021-06-08T15:54:39.130901Z",
     "shell.execute_reply.started": "2021-06-08T15:54:39.058870Z"
    }
   },
   "outputs": [
    {
     "data": {
      "text/plain": [
       "(92412, 1)"
      ]
     },
     "execution_count": 9,
     "metadata": {},
     "output_type": "execute_result"
    }
   ],
   "source": [
    "df_clean = pd.DataFrame({'clean': txt})\n",
    "df_clean = df_clean.dropna().drop_duplicates()\n",
    "df_clean.shape"
   ]
  },
  {
   "cell_type": "markdown",
   "metadata": {
    "_uuid": "31b4a744059df490ddb47ab6cdec008dc929ede3"
   },
   "source": [
    "## Bigrams:\n",
    "We are using Gensim Phrases package to automatically detect common phrases (bigrams) from a list of sentences.\n",
    "https://radimrehurek.com/gensim/models/phrases.html\n",
    "\n",
    "The main reason we do this is to catch words like \"mr_burns\" or \"bart_simpson\" !"
   ]
  },
  {
   "cell_type": "code",
   "execution_count": 10,
   "metadata": {
    "_uuid": "af6d420284a0ff7a7407d4c526754ffe850d6170",
    "execution": {
     "iopub.execute_input": "2021-06-08T15:54:47.790803Z",
     "iopub.status.busy": "2021-06-08T15:54:47.790474Z",
     "iopub.status.idle": "2021-06-08T15:54:48.736387Z",
     "shell.execute_reply": "2021-06-08T15:54:48.735326Z",
     "shell.execute_reply.started": "2021-06-08T15:54:47.790738Z"
    }
   },
   "outputs": [
    {
     "name": "stderr",
     "output_type": "stream",
     "text": [
      "INFO - 15:54:48: 'pattern' package not found; tag filters are not available for English\n"
     ]
    }
   ],
   "source": [
    "from gensim.models.phrases import Phrases, Phraser"
   ]
  },
  {
   "cell_type": "markdown",
   "metadata": {
    "_uuid": "788aec3c82788101db25d4ca6105ee133fecae7c"
   },
   "source": [
    "As `Phrases()` takes a list of list of words as input:"
   ]
  },
  {
   "cell_type": "code",
   "execution_count": 11,
   "metadata": {
    "_uuid": "f58487ff08d8812622fd7aef36139f1c850add18",
    "execution": {
     "iopub.execute_input": "2021-06-08T15:54:54.018337Z",
     "iopub.status.busy": "2021-06-08T15:54:54.018012Z",
     "iopub.status.idle": "2021-06-08T15:54:54.237527Z",
     "shell.execute_reply": "2021-06-08T15:54:54.236619Z",
     "shell.execute_reply.started": "2021-06-08T15:54:54.018286Z"
    }
   },
   "outputs": [],
   "source": [
    "sent = [row.split() for row in df_clean['clean']]"
   ]
  },
  {
   "cell_type": "markdown",
   "metadata": {
    "_uuid": "bb7766b322cbc1d3381912b890585eb249ac5304"
   },
   "source": [
    "Creates the relevant phrases from the list of sentences:"
   ]
  },
  {
   "cell_type": "code",
   "execution_count": 12,
   "metadata": {
    "_uuid": "8befad8c76c54bd2b831b0942a2f626f7d8a6dac",
    "execution": {
     "iopub.execute_input": "2021-06-08T15:54:56.645560Z",
     "iopub.status.busy": "2021-06-08T15:54:56.645214Z",
     "iopub.status.idle": "2021-06-08T15:54:58.466086Z",
     "shell.execute_reply": "2021-06-08T15:54:58.465197Z",
     "shell.execute_reply.started": "2021-06-08T15:54:56.645508Z"
    }
   },
   "outputs": [
    {
     "name": "stderr",
     "output_type": "stream",
     "text": [
      "INFO - 15:54:56: collecting all words and their counts\n",
      "INFO - 15:54:56: PROGRESS: at sentence #0, processed 0 words and 0 word types\n",
      "INFO - 15:54:56: PROGRESS: at sentence #10000, processed 67396 words and 50551 word types\n",
      "INFO - 15:54:57: PROGRESS: at sentence #20000, processed 140465 words and 95808 word types\n",
      "INFO - 15:54:57: PROGRESS: at sentence #30000, processed 207950 words and 132011 word types\n",
      "INFO - 15:54:57: PROGRESS: at sentence #40000, processed 270207 words and 164407 word types\n",
      "INFO - 15:54:57: PROGRESS: at sentence #50000, processed 334085 words and 196195 word types\n",
      "INFO - 15:54:57: PROGRESS: at sentence #60000, processed 400877 words and 228659 word types\n",
      "INFO - 15:54:58: PROGRESS: at sentence #70000, processed 467802 words and 260712 word types\n",
      "INFO - 15:54:58: PROGRESS: at sentence #80000, processed 534361 words and 292095 word types\n",
      "INFO - 15:54:58: PROGRESS: at sentence #90000, processed 602037 words and 321944 word types\n",
      "INFO - 15:54:58: collected 328658 word types from a corpus of 618920 words (unigram + bigrams) and 92412 sentences\n",
      "INFO - 15:54:58: using 328658 counts as vocab in Phrases<0 vocab, min_count=30, threshold=10.0, max_vocab_size=40000000>\n"
     ]
    }
   ],
   "source": [
    "phrases = Phrases(sent, min_count=30, progress_per=10000)"
   ]
  },
  {
   "cell_type": "markdown",
   "metadata": {
    "_uuid": "45bae4a953f2ad8951e4efb234e1e357857a33b3"
   },
   "source": [
    "The goal of Phraser() is to cut down memory consumption of Phrases(), by discarding model state not strictly needed for the bigram detection task:"
   ]
  },
  {
   "cell_type": "code",
   "execution_count": null,
   "metadata": {},
   "outputs": [],
   "source": []
  },
  {
   "cell_type": "code",
   "execution_count": 13,
   "metadata": {
    "_kg_hide-input": true,
    "_uuid": "b8ae81ba230013aefe7c584338de7376fedf6294",
    "execution": {
     "iopub.execute_input": "2021-06-08T15:55:03.639119Z",
     "iopub.status.busy": "2021-06-08T15:55:03.638642Z",
     "iopub.status.idle": "2021-06-08T15:55:08.852038Z",
     "shell.execute_reply": "2021-06-08T15:55:08.850698Z",
     "shell.execute_reply.started": "2021-06-08T15:55:03.639047Z"
    }
   },
   "outputs": [
    {
     "name": "stderr",
     "output_type": "stream",
     "text": [
      "INFO - 15:55:03: source_vocab length 328658\n",
      "INFO - 15:55:08: Phraser built with 127 phrasegrams\n"
     ]
    }
   ],
   "source": [
    "bigram = Phraser(phrases)"
   ]
  },
  {
   "cell_type": "markdown",
   "metadata": {
    "_uuid": "4a58380f19d159688aeee665d1afb96289fdd4b8"
   },
   "source": [
    "Transform the corpus based on the bigrams detected:"
   ]
  },
  {
   "cell_type": "code",
   "execution_count": 14,
   "metadata": {
    "_uuid": "8051b56890c147119db3df529d3cfd3cf675fdca",
    "execution": {
     "iopub.execute_input": "2021-06-08T15:55:08.854735Z",
     "iopub.status.busy": "2021-06-08T15:55:08.854322Z",
     "iopub.status.idle": "2021-06-08T15:55:08.861563Z",
     "shell.execute_reply": "2021-06-08T15:55:08.859758Z",
     "shell.execute_reply.started": "2021-06-08T15:55:08.854659Z"
    }
   },
   "outputs": [],
   "source": [
    "sentences = bigram[sent]"
   ]
  },
  {
   "cell_type": "markdown",
   "metadata": {
    "_uuid": "a4f81e8bb2c09a67b00cd24db28353eca8ae188c"
   },
   "source": [
    "## Most Frequent Words:\n",
    "Mainly a sanity check of the effectiveness of the lemmatization, removal of stopwords, and addition of bigrams."
   ]
  },
  {
   "cell_type": "code",
   "execution_count": 15,
   "metadata": {
    "_uuid": "eeb8afe1cfcb7ba65bd14d657455600acacf39ba",
    "execution": {
     "iopub.execute_input": "2021-06-08T15:55:13.025573Z",
     "iopub.status.busy": "2021-06-08T15:55:13.025198Z",
     "iopub.status.idle": "2021-06-08T15:55:16.579148Z",
     "shell.execute_reply": "2021-06-08T15:55:16.578106Z",
     "shell.execute_reply.started": "2021-06-08T15:55:13.025514Z"
    }
   },
   "outputs": [
    {
     "data": {
      "text/plain": [
       "29673"
      ]
     },
     "execution_count": 15,
     "metadata": {},
     "output_type": "execute_result"
    }
   ],
   "source": [
    "word_freq = defaultdict(int)\n",
    "for sent in sentences:\n",
    "    for i in sent:\n",
    "        word_freq[i] += 1\n",
    "len(word_freq)"
   ]
  },
  {
   "cell_type": "code",
   "execution_count": 16,
   "metadata": {
    "_uuid": "5b010149150b2b2eaf332d79bcde0649b8a3c2b5",
    "execution": {
     "iopub.execute_input": "2021-06-08T15:55:16.581408Z",
     "iopub.status.busy": "2021-06-08T15:55:16.581114Z",
     "iopub.status.idle": "2021-06-08T15:55:16.600386Z",
     "shell.execute_reply": "2021-06-08T15:55:16.599105Z",
     "shell.execute_reply.started": "2021-06-08T15:55:16.581354Z"
    }
   },
   "outputs": [
    {
     "data": {
      "text/plain": [
       "['be', 'not', 'oh', 'will', 'like', \"'s\", 'know', 'think', 'hey', 'good']"
      ]
     },
     "execution_count": 16,
     "metadata": {},
     "output_type": "execute_result"
    }
   ],
   "source": [
    "sorted(word_freq, key=word_freq.get, reverse=True)[:10]"
   ]
  },
  {
   "cell_type": "markdown",
   "metadata": {
    "_uuid": "500ab7b5c84dc006d7945f339c40725a82856fdf"
   },
   "source": [
    "# Training the model\n",
    "## Gensim Word2Vec Implementation:\n",
    "We use Gensim implementation of word2vec: https://radimrehurek.com/gensim/models/word2vec.html"
   ]
  },
  {
   "cell_type": "code",
   "execution_count": 17,
   "metadata": {
    "_uuid": "3269be205cadbad499aa87890893d92da6adc796",
    "execution": {
     "iopub.execute_input": "2021-06-08T15:55:20.271987Z",
     "iopub.status.busy": "2021-06-08T15:55:20.271640Z",
     "iopub.status.idle": "2021-06-08T15:55:20.276376Z",
     "shell.execute_reply": "2021-06-08T15:55:20.275350Z",
     "shell.execute_reply.started": "2021-06-08T15:55:20.271919Z"
    }
   },
   "outputs": [],
   "source": [
    "import multiprocessing\n",
    "\n",
    "from gensim.models import Word2Vec"
   ]
  },
  {
   "cell_type": "markdown",
   "metadata": {
    "_uuid": "7c524bc49c41a6c37f9e754a38797c9501202090"
   },
   "source": [
    "## Why I seperate the training of the model in 3 steps:\n",
    "I prefer to separate the training in 3 distinctive steps for clarity and monitoring.\n",
    "1. `Word2Vec()`: \n",
    ">In this first step, I set up the parameters of the model one-by-one. <br>I do not supply the parameter `sentences`, and therefore leave the model uninitialized, purposefully.\n",
    "2. `.build_vocab()`: \n",
    ">Here it builds the vocabulary from a sequence of sentences and thus initialized the model. <br>With the loggings, I can follow the progress and even more important, the effect of `min_count` and `sample` on the word corpus. I noticed that these two parameters, and in particular `sample`, have a great influence over the performance of a model. Displaying both allows for a more accurate and an easier management of their influence.\n",
    "3. `.train()`:\n",
    ">Finally, trains the model.<br>\n",
    "The loggings here are mainly useful for monitoring, making sure that no threads are executed instantaneously."
   ]
  },
  {
   "cell_type": "code",
   "execution_count": 18,
   "metadata": {
    "_uuid": "03488d9b68963579c96094aca88a302c9f2753a7",
    "execution": {
     "iopub.execute_input": "2021-06-08T15:55:31.849664Z",
     "iopub.status.busy": "2021-06-08T15:55:31.849094Z",
     "iopub.status.idle": "2021-06-08T15:55:31.853297Z",
     "shell.execute_reply": "2021-06-08T15:55:31.852399Z",
     "shell.execute_reply.started": "2021-06-08T15:55:31.849613Z"
    }
   },
   "outputs": [],
   "source": [
    "cores = multiprocessing.cpu_count() # Count the number of cores in a computer"
   ]
  },
  {
   "cell_type": "markdown",
   "metadata": {
    "_uuid": "89c305fcd163488441ac2ac6133678bd973b4419"
   },
   "source": [
    "## The parameters:\n",
    "\n",
    "* `min_count` <font color='purple'>=</font> <font color='green'>int</font> - Ignores all words with total absolute frequency lower than this - (2, 100)\n",
    "\n",
    "\n",
    "* `window` <font color='purple'>=</font> <font color='green'>int</font> - The maximum distance between the current and predicted word within a sentence. E.g. `window` words on the left and `window` words on the left of our target - (2, 10)\n",
    "\n",
    "\n",
    "* `size` <font color='purple'>=</font> <font color='green'>int</font> - Dimensionality of the feature vectors. - (50, 300)\n",
    "\n",
    "\n",
    "* `sample` <font color='purple'>=</font> <font color='green'>float</font> - The threshold for configuring which higher-frequency words are randomly downsampled. Highly influencial.  - (0, 1e-5)\n",
    "\n",
    "\n",
    "* `alpha` <font color='purple'>=</font> <font color='green'>float</font> - The initial learning rate - (0.01, 0.05)\n",
    "\n",
    "\n",
    "* `min_alpha` <font color='purple'>=</font> <font color='green'>float</font> - Learning rate will linearly drop to `min_alpha` as training progresses. To set it: alpha - (min_alpha * epochs) ~ 0.00\n",
    "\n",
    "\n",
    "* `negative` <font color='purple'>=</font> <font color='green'>int</font> - If > 0, negative sampling will be used, the int for negative specifies how many \"noise words\" should be drown. If set to 0, no negative sampling is used. - (5, 20)\n",
    "\n",
    "\n",
    "* `workers` <font color='purple'>=</font> <font color='green'>int</font> - Use these many worker threads to train the model (=faster training with multicore machines)"
   ]
  },
  {
   "cell_type": "code",
   "execution_count": 19,
   "metadata": {
    "_uuid": "ad619db82c219d6cb81fad516563feb0c4d474cd",
    "execution": {
     "iopub.execute_input": "2021-06-08T15:55:35.793690Z",
     "iopub.status.busy": "2021-06-08T15:55:35.793293Z",
     "iopub.status.idle": "2021-06-08T15:55:35.799540Z",
     "shell.execute_reply": "2021-06-08T15:55:35.798545Z",
     "shell.execute_reply.started": "2021-06-08T15:55:35.793636Z"
    }
   },
   "outputs": [],
   "source": [
    "w2v_model = Word2Vec(min_count=20,\n",
    "                     window=2,\n",
    "                     size=300,\n",
    "                     sample=6e-5, \n",
    "                     alpha=0.03, \n",
    "                     min_alpha=0.0007, \n",
    "                     negative=20,\n",
    "                     workers=cores-1)"
   ]
  },
  {
   "cell_type": "markdown",
   "metadata": {
    "_uuid": "d7e9f1bd338f9e15647b5209ffd8fbb131cd7ee5"
   },
   "source": [
    "## Building the Vocabulary Table:\n",
    "Word2Vec requires us to build the vocabulary table (simply digesting all the words and filtering out the unique words, and doing some basic counts on them):"
   ]
  },
  {
   "cell_type": "code",
   "execution_count": 20,
   "metadata": {
    "_uuid": "66358ad743e05e17dfbed3899af9c41056143daa",
    "execution": {
     "iopub.execute_input": "2021-06-08T15:55:39.384412Z",
     "iopub.status.busy": "2021-06-08T15:55:39.383846Z",
     "iopub.status.idle": "2021-06-08T15:55:43.103368Z",
     "shell.execute_reply": "2021-06-08T15:55:43.102558Z",
     "shell.execute_reply.started": "2021-06-08T15:55:39.384365Z"
    }
   },
   "outputs": [
    {
     "name": "stderr",
     "output_type": "stream",
     "text": [
      "INFO - 15:55:39: collecting all words and their counts\n",
      "INFO - 15:55:39: PROGRESS: at sentence #0, processed 0 words, keeping 0 word types\n",
      "INFO - 15:55:39: PROGRESS: at sentence #10000, processed 65193 words, keeping 9096 word types\n",
      "INFO - 15:55:40: PROGRESS: at sentence #20000, processed 136024 words, keeping 13916 word types\n",
      "INFO - 15:55:40: PROGRESS: at sentence #30000, processed 201577 words, keeping 16865 word types\n",
      "INFO - 15:55:40: PROGRESS: at sentence #40000, processed 262082 words, keeping 19506 word types\n",
      "INFO - 15:55:41: PROGRESS: at sentence #50000, processed 324069 words, keeping 21758 word types\n",
      "INFO - 15:55:41: PROGRESS: at sentence #60000, processed 388895 words, keeping 23910 word types\n",
      "INFO - 15:55:42: PROGRESS: at sentence #70000, processed 454042 words, keeping 25876 word types\n",
      "INFO - 15:55:42: PROGRESS: at sentence #80000, processed 518929 words, keeping 27769 word types\n",
      "INFO - 15:55:42: PROGRESS: at sentence #90000, processed 584755 words, keeping 29345 word types\n",
      "INFO - 15:55:42: collected 29673 word types from a corpus of 601119 raw words and 92412 sentences\n",
      "INFO - 15:55:42: Loading a fresh vocabulary\n",
      "INFO - 15:55:42: effective_min_count=20 retains 3375 unique words (11% of original 29673, drops 26298)\n",
      "INFO - 15:55:42: effective_min_count=20 leaves 515089 word corpus (85% of original 601119, drops 86030)\n",
      "INFO - 15:55:43: deleting the raw counts dictionary of 29673 items\n",
      "INFO - 15:55:43: sample=6e-05 downsamples 1080 most-common words\n",
      "INFO - 15:55:43: downsampling leaves estimated 219321 word corpus (42.6% of prior 515089)\n",
      "INFO - 15:55:43: estimated required memory for 3375 words and 300 dimensions: 9787500 bytes\n",
      "INFO - 15:55:43: resetting layer weights\n"
     ]
    },
    {
     "name": "stdout",
     "output_type": "stream",
     "text": [
      "Time to build vocab: 0.06 mins\n"
     ]
    }
   ],
   "source": [
    "t = time()\n",
    "\n",
    "w2v_model.build_vocab(sentences, progress_per=10000)\n",
    "\n",
    "print('Time to build vocab: {} mins'.format(round((time() - t) / 60, 2)))"
   ]
  },
  {
   "cell_type": "markdown",
   "metadata": {
    "_uuid": "63260d82061abb47db7f2f8b23e07ec629adf5a9"
   },
   "source": [
    "## Training of the model:\n",
    "_Parameters of the training:_\n",
    "* `total_examples` <font color='purple'>=</font> <font color='green'>int</font> - Count of sentences;\n",
    "* `epochs` <font color='purple'>=</font> <font color='green'>int</font> - Number of iterations (epochs) over the corpus - [10, 20, 30]"
   ]
  },
  {
   "cell_type": "code",
   "execution_count": 21,
   "metadata": {
    "_uuid": "07a2a047e701e512fd758edff186daadaeea6461",
    "execution": {
     "iopub.execute_input": "2021-06-08T15:55:43.416123Z",
     "iopub.status.busy": "2021-06-08T15:55:43.415808Z",
     "iopub.status.idle": "2021-06-08T15:57:43.359123Z",
     "shell.execute_reply": "2021-06-08T15:57:43.357972Z",
     "shell.execute_reply.started": "2021-06-08T15:55:43.416081Z"
    }
   },
   "outputs": [
    {
     "name": "stderr",
     "output_type": "stream",
     "text": [
      "INFO - 15:55:43: training model with 3 workers on 3375 vocabulary and 300 features, using sg=0 hs=0 sample=6e-05 negative=20 window=2\n",
      "INFO - 15:55:44: EPOCH 1 - PROGRESS: at 25.38% examples, 55904 words/s, in_qsize 0, out_qsize 0\n",
      "INFO - 15:55:45: EPOCH 1 - PROGRESS: at 53.41% examples, 55866 words/s, in_qsize 0, out_qsize 0\n",
      "INFO - 15:55:46: EPOCH 1 - PROGRESS: at 78.38% examples, 54732 words/s, in_qsize 0, out_qsize 0\n",
      "INFO - 15:55:47: worker thread finished; awaiting finish of 2 more threads\n",
      "INFO - 15:55:47: worker thread finished; awaiting finish of 1 more threads\n",
      "INFO - 15:55:47: worker thread finished; awaiting finish of 0 more threads\n",
      "INFO - 15:55:47: EPOCH - 1 : training on 601119 raw words (219268 effective words) took 4.0s, 55056 effective words/s\n",
      "INFO - 15:55:48: EPOCH 2 - PROGRESS: at 20.71% examples, 46049 words/s, in_qsize 0, out_qsize 0\n",
      "INFO - 15:55:49: EPOCH 2 - PROGRESS: at 48.35% examples, 50317 words/s, in_qsize 0, out_qsize 0\n",
      "INFO - 15:55:50: EPOCH 2 - PROGRESS: at 71.73% examples, 50300 words/s, in_qsize 0, out_qsize 0\n",
      "INFO - 15:55:51: EPOCH 2 - PROGRESS: at 96.63% examples, 51405 words/s, in_qsize 0, out_qsize 0\n",
      "INFO - 15:55:51: worker thread finished; awaiting finish of 2 more threads\n",
      "INFO - 15:55:51: worker thread finished; awaiting finish of 1 more threads\n",
      "INFO - 15:55:51: worker thread finished; awaiting finish of 0 more threads\n",
      "INFO - 15:55:51: EPOCH - 2 : training on 601119 raw words (219459 effective words) took 4.2s, 51775 effective words/s\n",
      "INFO - 15:55:52: EPOCH 3 - PROGRESS: at 25.38% examples, 55351 words/s, in_qsize 0, out_qsize 0\n",
      "INFO - 15:55:53: EPOCH 3 - PROGRESS: at 53.41% examples, 55475 words/s, in_qsize 0, out_qsize 0\n",
      "INFO - 15:55:54: EPOCH 3 - PROGRESS: at 76.68% examples, 53947 words/s, in_qsize 0, out_qsize 0\n",
      "INFO - 15:55:55: worker thread finished; awaiting finish of 2 more threads\n",
      "INFO - 15:55:55: worker thread finished; awaiting finish of 1 more threads\n",
      "INFO - 15:55:55: worker thread finished; awaiting finish of 0 more threads\n",
      "INFO - 15:55:55: EPOCH - 3 : training on 601119 raw words (218941 effective words) took 4.0s, 54581 effective words/s\n",
      "INFO - 15:55:56: EPOCH 4 - PROGRESS: at 25.38% examples, 55660 words/s, in_qsize 0, out_qsize 0\n",
      "INFO - 15:55:57: EPOCH 4 - PROGRESS: at 53.41% examples, 55057 words/s, in_qsize 0, out_qsize 0\n",
      "INFO - 15:55:58: EPOCH 4 - PROGRESS: at 80.01% examples, 56077 words/s, in_qsize 0, out_qsize 0\n",
      "INFO - 15:55:59: worker thread finished; awaiting finish of 2 more threads\n",
      "INFO - 15:55:59: worker thread finished; awaiting finish of 1 more threads\n",
      "INFO - 15:55:59: worker thread finished; awaiting finish of 0 more threads\n",
      "INFO - 15:55:59: EPOCH - 4 : training on 601119 raw words (219933 effective words) took 3.9s, 56530 effective words/s\n",
      "INFO - 15:56:00: EPOCH 5 - PROGRESS: at 25.38% examples, 55677 words/s, in_qsize 0, out_qsize 0\n",
      "INFO - 15:56:01: EPOCH 5 - PROGRESS: at 50.05% examples, 52872 words/s, in_qsize 0, out_qsize 0\n",
      "INFO - 15:56:02: EPOCH 5 - PROGRESS: at 76.68% examples, 54155 words/s, in_qsize 0, out_qsize 0\n",
      "INFO - 15:56:03: worker thread finished; awaiting finish of 2 more threads\n",
      "INFO - 15:56:03: worker thread finished; awaiting finish of 1 more threads\n",
      "INFO - 15:56:03: worker thread finished; awaiting finish of 0 more threads\n",
      "INFO - 15:56:03: EPOCH - 5 : training on 601119 raw words (219201 effective words) took 4.0s, 55063 effective words/s\n",
      "INFO - 15:56:04: EPOCH 6 - PROGRESS: at 25.38% examples, 54911 words/s, in_qsize 0, out_qsize 0\n",
      "INFO - 15:56:05: EPOCH 6 - PROGRESS: at 53.41% examples, 55488 words/s, in_qsize 0, out_qsize 0\n",
      "INFO - 15:56:06: EPOCH 6 - PROGRESS: at 80.01% examples, 56377 words/s, in_qsize 0, out_qsize 0\n",
      "INFO - 15:56:07: worker thread finished; awaiting finish of 2 more threads\n",
      "INFO - 15:56:07: worker thread finished; awaiting finish of 1 more threads\n",
      "INFO - 15:56:07: worker thread finished; awaiting finish of 0 more threads\n",
      "INFO - 15:56:07: EPOCH - 6 : training on 601119 raw words (219677 effective words) took 4.0s, 54758 effective words/s\n",
      "INFO - 15:56:08: EPOCH 7 - PROGRESS: at 23.85% examples, 53388 words/s, in_qsize 0, out_qsize 0\n",
      "INFO - 15:56:09: EPOCH 7 - PROGRESS: at 51.75% examples, 54488 words/s, in_qsize 0, out_qsize 0\n",
      "INFO - 15:56:10: EPOCH 7 - PROGRESS: at 78.38% examples, 55353 words/s, in_qsize 0, out_qsize 0\n",
      "INFO - 15:56:11: worker thread finished; awaiting finish of 2 more threads\n",
      "INFO - 15:56:11: worker thread finished; awaiting finish of 1 more threads\n",
      "INFO - 15:56:11: worker thread finished; awaiting finish of 0 more threads\n",
      "INFO - 15:56:11: EPOCH - 7 : training on 601119 raw words (219546 effective words) took 3.9s, 55789 effective words/s\n",
      "INFO - 15:56:12: EPOCH 8 - PROGRESS: at 25.38% examples, 55561 words/s, in_qsize 0, out_qsize 0\n",
      "INFO - 15:56:13: EPOCH 8 - PROGRESS: at 53.41% examples, 56039 words/s, in_qsize 0, out_qsize 0\n",
      "INFO - 15:56:14: EPOCH 8 - PROGRESS: at 76.68% examples, 53984 words/s, in_qsize 0, out_qsize 0\n",
      "INFO - 15:56:15: worker thread finished; awaiting finish of 2 more threads\n",
      "INFO - 15:56:15: worker thread finished; awaiting finish of 1 more threads\n",
      "INFO - 15:56:15: worker thread finished; awaiting finish of 0 more threads\n",
      "INFO - 15:56:15: EPOCH - 8 : training on 601119 raw words (219363 effective words) took 4.0s, 55052 effective words/s\n",
      "INFO - 15:56:16: EPOCH 9 - PROGRESS: at 25.38% examples, 55958 words/s, in_qsize 0, out_qsize 0\n",
      "INFO - 15:56:17: EPOCH 9 - PROGRESS: at 53.41% examples, 55991 words/s, in_qsize 0, out_qsize 0\n",
      "INFO - 15:56:18: EPOCH 9 - PROGRESS: at 80.01% examples, 56638 words/s, in_qsize 0, out_qsize 0\n",
      "INFO - 15:56:19: worker thread finished; awaiting finish of 2 more threads\n",
      "INFO - 15:56:19: worker thread finished; awaiting finish of 1 more threads\n",
      "INFO - 15:56:19: worker thread finished; awaiting finish of 0 more threads\n",
      "INFO - 15:56:19: EPOCH - 9 : training on 601119 raw words (219047 effective words) took 3.9s, 56473 effective words/s\n",
      "INFO - 15:56:20: EPOCH 10 - PROGRESS: at 22.26% examples, 49571 words/s, in_qsize 0, out_qsize 0\n",
      "INFO - 15:56:21: EPOCH 10 - PROGRESS: at 50.05% examples, 52189 words/s, in_qsize 0, out_qsize 0\n",
      "INFO - 15:56:22: EPOCH 10 - PROGRESS: at 76.68% examples, 53766 words/s, in_qsize 0, out_qsize 0\n",
      "INFO - 15:56:23: worker thread finished; awaiting finish of 2 more threads\n",
      "INFO - 15:56:23: worker thread finished; awaiting finish of 1 more threads\n",
      "INFO - 15:56:23: worker thread finished; awaiting finish of 0 more threads\n",
      "INFO - 15:56:23: EPOCH - 10 : training on 601119 raw words (219194 effective words) took 4.0s, 54375 effective words/s\n",
      "INFO - 15:56:24: EPOCH 11 - PROGRESS: at 22.26% examples, 47582 words/s, in_qsize 0, out_qsize 0\n",
      "INFO - 15:56:25: EPOCH 11 - PROGRESS: at 50.05% examples, 51173 words/s, in_qsize 0, out_qsize 0\n",
      "INFO - 15:56:26: EPOCH 11 - PROGRESS: at 75.05% examples, 50763 words/s, in_qsize 0, out_qsize 0\n",
      "INFO - 15:56:27: worker thread finished; awaiting finish of 2 more threads\n",
      "INFO - 15:56:27: worker thread finished; awaiting finish of 1 more threads\n",
      "INFO - 15:56:27: worker thread finished; awaiting finish of 0 more threads\n",
      "INFO - 15:56:27: EPOCH - 11 : training on 601119 raw words (219482 effective words) took 4.2s, 52445 effective words/s\n",
      "INFO - 15:56:28: EPOCH 12 - PROGRESS: at 25.38% examples, 56207 words/s, in_qsize 0, out_qsize 0\n",
      "INFO - 15:56:29: EPOCH 12 - PROGRESS: at 53.41% examples, 56491 words/s, in_qsize 0, out_qsize 0\n",
      "INFO - 15:56:30: EPOCH 12 - PROGRESS: at 78.38% examples, 55749 words/s, in_qsize 0, out_qsize 0\n",
      "INFO - 15:56:31: worker thread finished; awaiting finish of 2 more threads\n",
      "INFO - 15:56:31: worker thread finished; awaiting finish of 1 more threads\n",
      "INFO - 15:56:31: worker thread finished; awaiting finish of 0 more threads\n",
      "INFO - 15:56:31: EPOCH - 12 : training on 601119 raw words (219283 effective words) took 3.9s, 55987 effective words/s\n",
      "INFO - 15:56:32: EPOCH 13 - PROGRESS: at 23.85% examples, 53778 words/s, in_qsize 0, out_qsize 0\n",
      "INFO - 15:56:33: EPOCH 13 - PROGRESS: at 46.58% examples, 49886 words/s, in_qsize 0, out_qsize 0\n",
      "INFO - 15:56:34: EPOCH 13 - PROGRESS: at 73.39% examples, 51789 words/s, in_qsize 0, out_qsize 0\n",
      "INFO - 15:56:35: worker thread finished; awaiting finish of 2 more threads\n",
      "INFO - 15:56:35: worker thread finished; awaiting finish of 1 more threads\n",
      "INFO - 15:56:35: EPOCH 13 - PROGRESS: at 100.00% examples, 53411 words/s, in_qsize 0, out_qsize 1\n",
      "INFO - 15:56:35: worker thread finished; awaiting finish of 0 more threads\n",
      "INFO - 15:56:35: EPOCH - 13 : training on 601119 raw words (219163 effective words) took 4.1s, 53384 effective words/s\n",
      "INFO - 15:56:36: EPOCH 14 - PROGRESS: at 25.38% examples, 55292 words/s, in_qsize 0, out_qsize 0\n",
      "INFO - 15:56:37: EPOCH 14 - PROGRESS: at 53.41% examples, 55010 words/s, in_qsize 0, out_qsize 0\n",
      "INFO - 15:56:38: EPOCH 14 - PROGRESS: at 80.01% examples, 55878 words/s, in_qsize 0, out_qsize 0\n",
      "INFO - 15:56:39: worker thread finished; awaiting finish of 2 more threads\n",
      "INFO - 15:56:39: worker thread finished; awaiting finish of 1 more threads\n",
      "INFO - 15:56:39: worker thread finished; awaiting finish of 0 more threads\n",
      "INFO - 15:56:39: EPOCH - 14 : training on 601119 raw words (219808 effective words) took 4.0s, 54585 effective words/s\n",
      "INFO - 15:56:40: EPOCH 15 - PROGRESS: at 25.38% examples, 55369 words/s, in_qsize 0, out_qsize 0\n",
      "INFO - 15:56:41: EPOCH 15 - PROGRESS: at 51.75% examples, 54870 words/s, in_qsize 0, out_qsize 0\n",
      "INFO - 15:56:42: EPOCH 15 - PROGRESS: at 78.38% examples, 55326 words/s, in_qsize 0, out_qsize 0\n",
      "INFO - 15:56:43: worker thread finished; awaiting finish of 2 more threads\n",
      "INFO - 15:56:43: worker thread finished; awaiting finish of 1 more threads\n",
      "INFO - 15:56:43: worker thread finished; awaiting finish of 0 more threads\n",
      "INFO - 15:56:43: EPOCH - 15 : training on 601119 raw words (219285 effective words) took 3.9s, 55755 effective words/s\n",
      "INFO - 15:56:44: EPOCH 16 - PROGRESS: at 25.38% examples, 54682 words/s, in_qsize 0, out_qsize 0\n",
      "INFO - 15:56:45: EPOCH 16 - PROGRESS: at 53.41% examples, 55197 words/s, in_qsize 0, out_qsize 0\n",
      "INFO - 15:56:46: EPOCH 16 - PROGRESS: at 76.68% examples, 53825 words/s, in_qsize 0, out_qsize 0\n",
      "INFO - 15:56:47: worker thread finished; awaiting finish of 2 more threads\n",
      "INFO - 15:56:47: worker thread finished; awaiting finish of 1 more threads\n",
      "INFO - 15:56:47: worker thread finished; awaiting finish of 0 more threads\n",
      "INFO - 15:56:47: EPOCH - 16 : training on 601119 raw words (219332 effective words) took 4.0s, 54705 effective words/s\n",
      "INFO - 15:56:48: EPOCH 17 - PROGRESS: at 25.38% examples, 56010 words/s, in_qsize 0, out_qsize 0\n",
      "INFO - 15:56:49: EPOCH 17 - PROGRESS: at 53.41% examples, 55614 words/s, in_qsize 0, out_qsize 0\n",
      "INFO - 15:56:50: EPOCH 17 - PROGRESS: at 80.01% examples, 55783 words/s, in_qsize 0, out_qsize 0\n",
      "INFO - 15:56:51: worker thread finished; awaiting finish of 2 more threads\n",
      "INFO - 15:56:51: worker thread finished; awaiting finish of 1 more threads\n",
      "INFO - 15:56:51: worker thread finished; awaiting finish of 0 more threads\n",
      "INFO - 15:56:51: EPOCH - 17 : training on 601119 raw words (219136 effective words) took 3.9s, 56342 effective words/s\n",
      "INFO - 15:56:52: EPOCH 18 - PROGRESS: at 23.85% examples, 53638 words/s, in_qsize 0, out_qsize 0\n",
      "INFO - 15:56:53: EPOCH 18 - PROGRESS: at 48.35% examples, 51225 words/s, in_qsize 0, out_qsize 0\n",
      "INFO - 15:56:54: EPOCH 18 - PROGRESS: at 75.05% examples, 53170 words/s, in_qsize 0, out_qsize 0\n",
      "INFO - 15:56:55: worker thread finished; awaiting finish of 2 more threads\n",
      "INFO - 15:56:55: worker thread finished; awaiting finish of 1 more threads\n",
      "INFO - 15:56:55: worker thread finished; awaiting finish of 0 more threads\n",
      "INFO - 15:56:55: EPOCH - 18 : training on 601119 raw words (219590 effective words) took 4.0s, 54400 effective words/s\n",
      "INFO - 15:56:56: EPOCH 19 - PROGRESS: at 22.26% examples, 48017 words/s, in_qsize 0, out_qsize 0\n",
      "INFO - 15:56:57: EPOCH 19 - PROGRESS: at 50.05% examples, 51140 words/s, in_qsize 0, out_qsize 0\n",
      "INFO - 15:56:58: EPOCH 19 - PROGRESS: at 76.68% examples, 53246 words/s, in_qsize 0, out_qsize 0\n",
      "INFO - 15:56:59: worker thread finished; awaiting finish of 2 more threads\n",
      "INFO - 15:56:59: EPOCH 19 - PROGRESS: at 98.41% examples, 51844 words/s, in_qsize 1, out_qsize 1\n",
      "INFO - 15:56:59: worker thread finished; awaiting finish of 1 more threads\n",
      "INFO - 15:56:59: worker thread finished; awaiting finish of 0 more threads\n",
      "INFO - 15:56:59: EPOCH - 19 : training on 601119 raw words (219133 effective words) took 4.2s, 52455 effective words/s\n",
      "INFO - 15:57:00: EPOCH 20 - PROGRESS: at 25.38% examples, 56001 words/s, in_qsize 0, out_qsize 0\n",
      "INFO - 15:57:01: EPOCH 20 - PROGRESS: at 53.41% examples, 56493 words/s, in_qsize 0, out_qsize 0\n",
      "INFO - 15:57:02: EPOCH 20 - PROGRESS: at 80.01% examples, 56024 words/s, in_qsize 0, out_qsize 0\n",
      "INFO - 15:57:03: worker thread finished; awaiting finish of 2 more threads\n",
      "INFO - 15:57:03: worker thread finished; awaiting finish of 1 more threads\n",
      "INFO - 15:57:03: worker thread finished; awaiting finish of 0 more threads\n",
      "INFO - 15:57:03: EPOCH - 20 : training on 601119 raw words (219339 effective words) took 3.9s, 56229 effective words/s\n",
      "INFO - 15:57:04: EPOCH 21 - PROGRESS: at 23.85% examples, 54034 words/s, in_qsize 0, out_qsize 0\n",
      "INFO - 15:57:05: EPOCH 21 - PROGRESS: at 48.35% examples, 51150 words/s, in_qsize 0, out_qsize 0\n",
      "INFO - 15:57:06: EPOCH 21 - PROGRESS: at 75.05% examples, 53101 words/s, in_qsize 0, out_qsize 0\n",
      "INFO - 15:57:07: worker thread finished; awaiting finish of 2 more threads\n",
      "INFO - 15:57:07: worker thread finished; awaiting finish of 1 more threads\n",
      "INFO - 15:57:07: worker thread finished; awaiting finish of 0 more threads\n",
      "INFO - 15:57:07: EPOCH - 21 : training on 601119 raw words (219370 effective words) took 4.0s, 54391 effective words/s\n",
      "INFO - 15:57:08: EPOCH 22 - PROGRESS: at 25.38% examples, 55743 words/s, in_qsize 0, out_qsize 0\n",
      "INFO - 15:57:09: EPOCH 22 - PROGRESS: at 53.41% examples, 55673 words/s, in_qsize 0, out_qsize 0\n",
      "INFO - 15:57:10: EPOCH 22 - PROGRESS: at 80.01% examples, 55909 words/s, in_qsize 0, out_qsize 0\n",
      "INFO - 15:57:11: worker thread finished; awaiting finish of 2 more threads\n",
      "INFO - 15:57:11: worker thread finished; awaiting finish of 1 more threads\n",
      "INFO - 15:57:11: worker thread finished; awaiting finish of 0 more threads\n",
      "INFO - 15:57:11: EPOCH - 22 : training on 601119 raw words (219411 effective words) took 4.0s, 54646 effective words/s\n",
      "INFO - 15:57:12: EPOCH 23 - PROGRESS: at 25.38% examples, 57022 words/s, in_qsize 0, out_qsize 0\n",
      "INFO - 15:57:13: EPOCH 23 - PROGRESS: at 53.41% examples, 56555 words/s, in_qsize 0, out_qsize 0\n",
      "INFO - 15:57:14: EPOCH 23 - PROGRESS: at 80.01% examples, 56212 words/s, in_qsize 0, out_qsize 0\n",
      "INFO - 15:57:15: worker thread finished; awaiting finish of 2 more threads\n",
      "INFO - 15:57:15: worker thread finished; awaiting finish of 1 more threads\n",
      "INFO - 15:57:15: worker thread finished; awaiting finish of 0 more threads\n",
      "INFO - 15:57:15: EPOCH - 23 : training on 601119 raw words (219541 effective words) took 3.9s, 56545 effective words/s\n",
      "INFO - 15:57:16: EPOCH 24 - PROGRESS: at 25.38% examples, 55795 words/s, in_qsize 0, out_qsize 0\n",
      "INFO - 15:57:17: EPOCH 24 - PROGRESS: at 53.41% examples, 56108 words/s, in_qsize 0, out_qsize 0\n",
      "INFO - 15:57:18: EPOCH 24 - PROGRESS: at 76.68% examples, 54223 words/s, in_qsize 0, out_qsize 0\n",
      "INFO - 15:57:19: worker thread finished; awaiting finish of 2 more threads\n",
      "INFO - 15:57:19: worker thread finished; awaiting finish of 1 more threads\n",
      "INFO - 15:57:19: worker thread finished; awaiting finish of 0 more threads\n",
      "INFO - 15:57:19: EPOCH - 24 : training on 601119 raw words (219026 effective words) took 4.0s, 55267 effective words/s\n",
      "INFO - 15:57:20: EPOCH 25 - PROGRESS: at 25.38% examples, 56533 words/s, in_qsize 0, out_qsize 0\n",
      "INFO - 15:57:21: EPOCH 25 - PROGRESS: at 53.41% examples, 56187 words/s, in_qsize 0, out_qsize 0\n",
      "INFO - 15:57:22: EPOCH 25 - PROGRESS: at 80.01% examples, 56599 words/s, in_qsize 0, out_qsize 0\n",
      "INFO - 15:57:23: worker thread finished; awaiting finish of 2 more threads\n",
      "INFO - 15:57:23: worker thread finished; awaiting finish of 1 more threads\n",
      "INFO - 15:57:23: worker thread finished; awaiting finish of 0 more threads\n",
      "INFO - 15:57:23: EPOCH - 25 : training on 601119 raw words (219369 effective words) took 3.9s, 56915 effective words/s\n",
      "INFO - 15:57:24: EPOCH 26 - PROGRESS: at 25.38% examples, 56241 words/s, in_qsize 0, out_qsize 0\n",
      "INFO - 15:57:25: EPOCH 26 - PROGRESS: at 50.05% examples, 51924 words/s, in_qsize 0, out_qsize 0\n",
      "INFO - 15:57:26: EPOCH 26 - PROGRESS: at 76.68% examples, 53508 words/s, in_qsize 0, out_qsize 0\n",
      "INFO - 15:57:27: worker thread finished; awaiting finish of 2 more threads\n",
      "INFO - 15:57:27: worker thread finished; awaiting finish of 1 more threads\n",
      "INFO - 15:57:27: worker thread finished; awaiting finish of 0 more threads\n",
      "INFO - 15:57:27: EPOCH - 26 : training on 601119 raw words (219095 effective words) took 4.0s, 54624 effective words/s\n",
      "INFO - 15:57:28: EPOCH 27 - PROGRESS: at 25.38% examples, 55849 words/s, in_qsize 0, out_qsize 0\n",
      "INFO - 15:57:29: EPOCH 27 - PROGRESS: at 51.75% examples, 52930 words/s, in_qsize 1, out_qsize 0\n",
      "INFO - 15:57:30: EPOCH 27 - PROGRESS: at 78.38% examples, 53945 words/s, in_qsize 0, out_qsize 0\n",
      "INFO - 15:57:31: worker thread finished; awaiting finish of 2 more threads\n",
      "INFO - 15:57:31: worker thread finished; awaiting finish of 1 more threads\n",
      "INFO - 15:57:31: worker thread finished; awaiting finish of 0 more threads\n",
      "INFO - 15:57:31: EPOCH - 27 : training on 601119 raw words (219584 effective words) took 4.1s, 53254 effective words/s\n",
      "INFO - 15:57:32: EPOCH 28 - PROGRESS: at 25.38% examples, 56571 words/s, in_qsize 0, out_qsize 0\n",
      "INFO - 15:57:33: EPOCH 28 - PROGRESS: at 53.41% examples, 56413 words/s, in_qsize 0, out_qsize 0\n",
      "INFO - 15:57:34: EPOCH 28 - PROGRESS: at 80.01% examples, 57159 words/s, in_qsize 0, out_qsize 0\n",
      "INFO - 15:57:35: worker thread finished; awaiting finish of 2 more threads\n",
      "INFO - 15:57:35: worker thread finished; awaiting finish of 1 more threads\n",
      "INFO - 15:57:35: worker thread finished; awaiting finish of 0 more threads\n",
      "INFO - 15:57:35: EPOCH - 28 : training on 601119 raw words (219753 effective words) took 3.8s, 57521 effective words/s\n",
      "INFO - 15:57:36: EPOCH 29 - PROGRESS: at 23.85% examples, 54125 words/s, in_qsize 0, out_qsize 0\n",
      "INFO - 15:57:37: EPOCH 29 - PROGRESS: at 51.75% examples, 54653 words/s, in_qsize 0, out_qsize 0\n",
      "INFO - 15:57:38: EPOCH 29 - PROGRESS: at 75.05% examples, 53369 words/s, in_qsize 0, out_qsize 0\n",
      "INFO - 15:57:39: worker thread finished; awaiting finish of 2 more threads\n",
      "INFO - 15:57:39: worker thread finished; awaiting finish of 1 more threads\n",
      "INFO - 15:57:39: worker thread finished; awaiting finish of 0 more threads\n",
      "INFO - 15:57:39: EPOCH - 29 : training on 601119 raw words (219058 effective words) took 4.0s, 54675 effective words/s\n",
      "INFO - 15:57:40: EPOCH 30 - PROGRESS: at 25.38% examples, 56253 words/s, in_qsize 0, out_qsize 0\n",
      "INFO - 15:57:41: EPOCH 30 - PROGRESS: at 53.41% examples, 56934 words/s, in_qsize 0, out_qsize 0\n",
      "INFO - 15:57:42: EPOCH 30 - PROGRESS: at 80.01% examples, 57396 words/s, in_qsize 0, out_qsize 0\n",
      "INFO - 15:57:43: worker thread finished; awaiting finish of 2 more threads\n",
      "INFO - 15:57:43: worker thread finished; awaiting finish of 1 more threads\n",
      "INFO - 15:57:43: worker thread finished; awaiting finish of 0 more threads\n",
      "INFO - 15:57:43: EPOCH - 30 : training on 601119 raw words (219783 effective words) took 3.8s, 57256 effective words/s\n",
      "INFO - 15:57:43: training on a 18033570 raw words (6581170 effective words) took 119.9s, 54873 effective words/s\n"
     ]
    },
    {
     "name": "stdout",
     "output_type": "stream",
     "text": [
      "Time to train the model: 2.0 mins\n"
     ]
    }
   ],
   "source": [
    "t = time()\n",
    "\n",
    "w2v_model.train(sentences, total_examples=w2v_model.corpus_count, epochs=30, report_delay=1)\n",
    "\n",
    "print('Time to train the model: {} mins'.format(round((time() - t) / 60, 2)))"
   ]
  },
  {
   "cell_type": "markdown",
   "metadata": {
    "_uuid": "48e12768512b82c2d5cf6a543e3a9f2515699a22"
   },
   "source": [
    "As we do not plan to train the model any further, we are calling init_sims(), which will make the model much more memory-efficient:"
   ]
  },
  {
   "cell_type": "code",
   "execution_count": 22,
   "metadata": {
    "_uuid": "34dd51c7f2f39d016b982ef81e4df576f6b31bcb",
    "execution": {
     "iopub.execute_input": "2021-06-08T15:57:43.361162Z",
     "iopub.status.busy": "2021-06-08T15:57:43.360892Z",
     "iopub.status.idle": "2021-06-08T15:57:43.414732Z",
     "shell.execute_reply": "2021-06-08T15:57:43.413987Z",
     "shell.execute_reply.started": "2021-06-08T15:57:43.361115Z"
    }
   },
   "outputs": [
    {
     "name": "stderr",
     "output_type": "stream",
     "text": [
      "INFO - 15:57:43: precomputing L2-norms of word weight vectors\n"
     ]
    }
   ],
   "source": [
    "w2v_model.init_sims(replace=True)"
   ]
  },
  {
   "cell_type": "markdown",
   "metadata": {
    "_uuid": "a420d5a98eb860cff1f4bbac8cbe2054459b6200"
   },
   "source": [
    "# Exploring the model\n",
    "## Most similar to:\n",
    "\n",
    "Here, we will ask our model to find the word most similar to some of the most iconic characters of the Simpsons!"
   ]
  },
  {
   "cell_type": "markdown",
   "metadata": {
    "_uuid": "a8f3cfd8ac88978a4df31c90afa194bd6fa4f3f5"
   },
   "source": [
    "<img src=\"https://vignette.wikia.nocookie.net/simpsons/images/0/02/Homer_Simpson_2006.png/revision/latest?cb=20091207194310\" alt=\"drawing\" width=\"130\"/>\n",
    "\n",
    "Let's see what we get for the show's main character:"
   ]
  },
  {
   "cell_type": "code",
   "execution_count": 23,
   "metadata": {
    "_uuid": "339207a733a1ac42fe60e32a29f9e5d5ca0a9275",
    "execution": {
     "iopub.execute_input": "2021-06-08T15:57:43.416629Z",
     "iopub.status.busy": "2021-06-08T15:57:43.416251Z",
     "iopub.status.idle": "2021-06-08T15:57:43.434774Z",
     "shell.execute_reply": "2021-06-08T15:57:43.433778Z",
     "shell.execute_reply.started": "2021-06-08T15:57:43.416587Z"
    }
   },
   "outputs": [
    {
     "name": "stderr",
     "output_type": "stream",
     "text": [
      "/opt/conda/lib/python3.6/site-packages/gensim/matutils.py:737: FutureWarning: Conversion of the second argument of issubdtype from `int` to `np.signedinteger` is deprecated. In future, it will be treated as `np.int64 == np.dtype(int).type`.\n",
      "  if np.issubdtype(vec.dtype, np.int):\n"
     ]
    },
    {
     "data": {
      "text/plain": [
       "[('depressed', 0.7349528074264526),\n",
       " ('marge', 0.6926991939544678),\n",
       " ('terrific', 0.6696251630783081),\n",
       " ('hammock', 0.6627354621887207),\n",
       " ('bongo', 0.6586619019508362),\n",
       " ('asleep', 0.650829553604126),\n",
       " ('sweetheart', 0.6474747657775879),\n",
       " ('dr_hibbert', 0.6455447673797607),\n",
       " ('fault', 0.6434005498886108),\n",
       " ('crummy', 0.6429384350776672)]"
      ]
     },
     "execution_count": 23,
     "metadata": {},
     "output_type": "execute_result"
    }
   ],
   "source": [
    "w2v_model.wv.most_similar(positive=[\"homer\"])"
   ]
  },
  {
   "cell_type": "markdown",
   "metadata": {
    "_uuid": "3b6686e6fa956a98450259b063b4cf51019a6d0b"
   },
   "source": [
    "_A small precision here:_<br>\n",
    "The dataset is the Simpsons' lines of dialogue; therefore, when we look at the most similar words from \"homer\" we do **not** necessary get his family members, personality traits, or even his most quotable words. No, we get what other characters (as Homer does not often refers to himself at the 3rd person) said along with \"homer\", such as how he feels or looks (\"depressed\"), where he is (\"hammock\"), or with whom (\"marge\").\n",
    "\n",
    "Let's see what the bigram \"homer_simpson\" gives us by comparison:"
   ]
  },
  {
   "cell_type": "code",
   "execution_count": 24,
   "metadata": {
    "_uuid": "23e5149b19f18f4f2f456d4c72afc5c188bcfba4",
    "execution": {
     "iopub.execute_input": "2021-06-08T15:57:43.438180Z",
     "iopub.status.busy": "2021-06-08T15:57:43.437505Z",
     "iopub.status.idle": "2021-06-08T15:57:43.447461Z",
     "shell.execute_reply": "2021-06-08T15:57:43.446453Z",
     "shell.execute_reply.started": "2021-06-08T15:57:43.438113Z"
    }
   },
   "outputs": [
    {
     "data": {
      "text/plain": [
       "[('pleased', 0.6999630928039551),\n",
       " ('select', 0.6936435699462891),\n",
       " ('client', 0.6913710832595825),\n",
       " ('governor', 0.6747652292251587),\n",
       " ('current', 0.6727321147918701),\n",
       " ('hutz', 0.670383095741272),\n",
       " ('easily', 0.6702475547790527),\n",
       " ('kidnap', 0.6689953207969666),\n",
       " ('sir', 0.6685984134674072),\n",
       " ('threat', 0.6667574644088745)]"
      ]
     },
     "execution_count": 24,
     "metadata": {},
     "output_type": "execute_result"
    }
   ],
   "source": [
    "w2v_model.wv.most_similar(positive=[\"homer_simpson\"])"
   ]
  },
  {
   "cell_type": "markdown",
   "metadata": {
    "_uuid": "0e3e121e022f2f659cf97bba42cecd3f3c9afb01"
   },
   "source": [
    "<img src=\"https://vignette.wikia.nocookie.net/simpsons/images/0/0b/Marge_Simpson.png/revision/latest?cb=20180626055729\" alt=\"drawing\" width=\"150\"/>\n",
    "\n",
    "What about Marge now?"
   ]
  },
  {
   "cell_type": "code",
   "execution_count": 25,
   "metadata": {
    "_uuid": "22595f98c675a9697243b7e826b2840e5fc3e5f5",
    "execution": {
     "iopub.execute_input": "2021-06-08T15:57:43.449573Z",
     "iopub.status.busy": "2021-06-08T15:57:43.448993Z",
     "iopub.status.idle": "2021-06-08T15:57:43.469050Z",
     "shell.execute_reply": "2021-06-08T15:57:43.467904Z",
     "shell.execute_reply.started": "2021-06-08T15:57:43.449509Z"
    }
   },
   "outputs": [
    {
     "data": {
      "text/plain": [
       "[('homie', 0.7089205384254456),\n",
       " ('badly', 0.7048567533493042),\n",
       " ('grownup', 0.7015737295150757),\n",
       " ('homer', 0.6926991939544678),\n",
       " ('snuggle', 0.6843920946121216),\n",
       " ('arrange', 0.6842201948165894),\n",
       " ('fault', 0.6836150884628296),\n",
       " ('becky', 0.6798429489135742),\n",
       " ('rude', 0.6741777658462524),\n",
       " ('husband', 0.6735585927963257)]"
      ]
     },
     "execution_count": 25,
     "metadata": {},
     "output_type": "execute_result"
    }
   ],
   "source": [
    "w2v_model.wv.most_similar(positive=[\"marge\"])"
   ]
  },
  {
   "cell_type": "markdown",
   "metadata": {
    "_uuid": "2b4857ff1159695c72c22417cf52dc84e0dfc9ea"
   },
   "source": [
    "<img src=\"https://vignette.wikia.nocookie.net/simpsons/images/6/65/Bart_Simpson.png/revision/latest?cb=20180319061933\" alt=\"drawing\" width=\"100\"/>\n",
    "\n",
    "Let's check Bart now:"
   ]
  },
  {
   "cell_type": "code",
   "execution_count": 26,
   "metadata": {
    "_uuid": "ac9ba47738e596dce6552099e76f303f28577943",
    "execution": {
     "iopub.execute_input": "2021-06-08T15:57:43.471228Z",
     "iopub.status.busy": "2021-06-08T15:57:43.470592Z",
     "iopub.status.idle": "2021-06-08T15:57:43.489980Z",
     "shell.execute_reply": "2021-06-08T15:57:43.488843Z",
     "shell.execute_reply.started": "2021-06-08T15:57:43.471161Z"
    }
   },
   "outputs": [
    {
     "data": {
      "text/plain": [
       "[('lisa', 0.8318909406661987),\n",
       " ('dr_hibbert', 0.7379722595214844),\n",
       " ('homework', 0.7350765466690063),\n",
       " ('mom', 0.7281243801116943),\n",
       " ('mom_dad', 0.7229346036911011),\n",
       " ('creepy', 0.7202342748641968),\n",
       " ('hearing', 0.7178507447242737),\n",
       " ('upset', 0.7162879109382629),\n",
       " ('surprised', 0.7053326368331909),\n",
       " ('strangle', 0.6990929841995239)]"
      ]
     },
     "execution_count": 26,
     "metadata": {},
     "output_type": "execute_result"
    }
   ],
   "source": [
    "w2v_model.wv.most_similar(positive=[\"bart\"])"
   ]
  },
  {
   "cell_type": "markdown",
   "metadata": {
    "_uuid": "c9afcf59e71f797f8e4d6d4b4ce39e359b19a450"
   },
   "source": [
    "Looks like it is making sense!\n",
    "\n",
    "<img src=\"https://vignette.wikia.nocookie.net/simpsons/images/9/9d/Groundskeeper_Willie.png/revision/latest?cb=20130424154035\" alt=\"drawing\" width=\"150\"/>\n",
    "\n",
    "Willie the groundskeeper for the last one:"
   ]
  },
  {
   "cell_type": "markdown",
   "metadata": {
    "_uuid": "d8b5937dfd7584f168a33060c435036cad5b390b"
   },
   "source": [
    "## Similarities:\n",
    "Here, we will see how similar are two words to each other :"
   ]
  },
  {
   "cell_type": "code",
   "execution_count": 27,
   "metadata": {
    "_uuid": "367755f5c9e00de4bc5056c978f5b50a38c1368b",
    "execution": {
     "iopub.execute_input": "2021-06-08T15:57:43.492109Z",
     "iopub.status.busy": "2021-06-08T15:57:43.491480Z",
     "iopub.status.idle": "2021-06-08T15:57:43.509243Z",
     "shell.execute_reply": "2021-06-08T15:57:43.508083Z",
     "shell.execute_reply.started": "2021-06-08T15:57:43.492042Z"
    }
   },
   "outputs": [
    {
     "data": {
      "text/plain": [
       "0.9190243"
      ]
     },
     "execution_count": 27,
     "metadata": {},
     "output_type": "execute_result"
    }
   ],
   "source": [
    "w2v_model.wv.similarity(\"moe_'s\", 'tavern')"
   ]
  },
  {
   "cell_type": "markdown",
   "metadata": {
    "_uuid": "d31383aa2f6310a38ec671f2ca4b0fcb195551dd"
   },
   "source": [
    "Who could forget Moe's tavern? Not Barney.\n",
    "\n",
    "<img src=\"https://vignette.wikia.nocookie.net/simpsons/images/6/6c/MaggieSimpson.PNG/revision/latest?cb=20180314210204\" alt=\"drawing\" width=\"100\"/>"
   ]
  },
  {
   "cell_type": "code",
   "execution_count": 28,
   "metadata": {
    "_uuid": "349828078b5a438d93e5494478e88095913dc58e",
    "execution": {
     "iopub.execute_input": "2021-06-08T15:57:43.510964Z",
     "iopub.status.busy": "2021-06-08T15:57:43.510567Z",
     "iopub.status.idle": "2021-06-08T15:57:43.521911Z",
     "shell.execute_reply": "2021-06-08T15:57:43.520901Z",
     "shell.execute_reply.started": "2021-06-08T15:57:43.510883Z"
    }
   },
   "outputs": [
    {
     "data": {
      "text/plain": [
       "0.7036968"
      ]
     },
     "execution_count": 28,
     "metadata": {},
     "output_type": "execute_result"
    }
   ],
   "source": [
    "w2v_model.wv.similarity('maggie', 'baby')"
   ]
  },
  {
   "cell_type": "markdown",
   "metadata": {
    "_uuid": "7d7842e5b5cab743db56ff120d75ad3974c429d8"
   },
   "source": [
    "Maggie is indeed the most renown baby in the Simpsons!"
   ]
  },
  {
   "cell_type": "code",
   "execution_count": 29,
   "metadata": {
    "_uuid": "9ee5e2532214b20fef0a597bc5ad355762fcc281",
    "execution": {
     "iopub.execute_input": "2021-06-08T15:57:43.523970Z",
     "iopub.status.busy": "2021-06-08T15:57:43.523360Z",
     "iopub.status.idle": "2021-06-08T15:57:43.543384Z",
     "shell.execute_reply": "2021-06-08T15:57:43.541941Z",
     "shell.execute_reply.started": "2021-06-08T15:57:43.523898Z"
    }
   },
   "outputs": [
    {
     "data": {
      "text/plain": [
       "0.5727066"
      ]
     },
     "execution_count": 29,
     "metadata": {},
     "output_type": "execute_result"
    }
   ],
   "source": [
    "w2v_model.wv.similarity('bart', 'nelson')"
   ]
  },
  {
   "cell_type": "markdown",
   "metadata": {
    "_uuid": "08a999d758ac687d626b631a8ce393eaa26f41e7"
   },
   "source": [
    "Bart and Nelson, though friends, are not that close, makes sense!\n",
    "\n",
    "## Odd-One-Out:\n",
    "\n",
    "Here, we ask our model to give us the word that does not belong to the list!\n",
    "\n",
    "Between Jimbo, Milhouse, and Kearney, who is the one who is not a bully?"
   ]
  },
  {
   "cell_type": "code",
   "execution_count": 30,
   "metadata": {
    "_uuid": "d982e44d9c212b5ee09bcaebd050a725ab5e508e",
    "execution": {
     "iopub.execute_input": "2021-06-08T15:57:43.545089Z",
     "iopub.status.busy": "2021-06-08T15:57:43.544717Z",
     "iopub.status.idle": "2021-06-08T15:57:43.552406Z",
     "shell.execute_reply": "2021-06-08T15:57:43.551482Z",
     "shell.execute_reply.started": "2021-06-08T15:57:43.545033Z"
    }
   },
   "outputs": [
    {
     "data": {
      "text/plain": [
       "'milhouse'"
      ]
     },
     "execution_count": 30,
     "metadata": {},
     "output_type": "execute_result"
    }
   ],
   "source": [
    "w2v_model.wv.doesnt_match(['jimbo', 'milhouse', 'kearney'])"
   ]
  },
  {
   "cell_type": "markdown",
   "metadata": {
    "_uuid": "12d3c035c89718e70c193f095b46e38dccef6b0d"
   },
   "source": [
    "Milhouse of course!\n",
    "<img src=\"https://vignette.wikia.nocookie.net/simpsons/images/9/91/Milhouse_Van_Houten_2.png/revision/latest?cb=20180429212659\" alt=\"drawing\" width=\"150\"/>\n",
    "\n",
    "What if we compared the friendship between Nelson, Bart, and Milhouse?"
   ]
  },
  {
   "cell_type": "code",
   "execution_count": 31,
   "metadata": {
    "_uuid": "cafd4a7bec6d6255ea3f5f06df951546c0d783a9",
    "execution": {
     "iopub.execute_input": "2021-06-08T15:57:43.556842Z",
     "iopub.status.busy": "2021-06-08T15:57:43.556268Z",
     "iopub.status.idle": "2021-06-08T15:57:43.566985Z",
     "shell.execute_reply": "2021-06-08T15:57:43.565883Z",
     "shell.execute_reply.started": "2021-06-08T15:57:43.556776Z"
    }
   },
   "outputs": [
    {
     "data": {
      "text/plain": [
       "'nelson'"
      ]
     },
     "execution_count": 31,
     "metadata": {},
     "output_type": "execute_result"
    }
   ],
   "source": [
    "w2v_model.wv.doesnt_match([\"nelson\", \"bart\", \"milhouse\"])"
   ]
  },
  {
   "cell_type": "markdown",
   "metadata": {
    "_uuid": "01c0148dc758db74ed8078ca54e8393ada090c8c"
   },
   "source": [
    "Seems like Nelson is the odd one here!\n",
    "\n",
    "<img src=\"https://vignette.wikia.nocookie.net/simpsons/images/4/40/Picture0003.jpg/revision/latest?cb=20110623042517\" alt=\"drawing\" width=\"200\"/>\n",
    "\n",
    "Last but not least, how is the relationship between Homer and his two sister-in-laws?"
   ]
  },
  {
   "cell_type": "code",
   "execution_count": 32,
   "metadata": {
    "_uuid": "445912f7d89b3cb1550926be161d134e6689f54f",
    "execution": {
     "iopub.execute_input": "2021-06-08T15:57:43.571109Z",
     "iopub.status.busy": "2021-06-08T15:57:43.568983Z",
     "iopub.status.idle": "2021-06-08T15:57:43.583092Z",
     "shell.execute_reply": "2021-06-08T15:57:43.581802Z",
     "shell.execute_reply.started": "2021-06-08T15:57:43.571042Z"
    }
   },
   "outputs": [
    {
     "data": {
      "text/plain": [
       "'homer'"
      ]
     },
     "execution_count": 32,
     "metadata": {},
     "output_type": "execute_result"
    }
   ],
   "source": [
    "w2v_model.wv.doesnt_match(['homer', 'patty', 'selma'])"
   ]
  },
  {
   "cell_type": "markdown",
   "metadata": {
    "_uuid": "df95cdff693e843ab4b4c174fea24029447573cd"
   },
   "source": [
    "Damn, they really do not like you Homer!\n",
    "\n",
    "## Analogy difference:\n",
    "Which word is to woman as homer is to marge?"
   ]
  },
  {
   "cell_type": "code",
   "execution_count": 33,
   "metadata": {
    "_uuid": "812961e79dde9f2032f708755ca287c0aef838d0",
    "execution": {
     "iopub.execute_input": "2021-06-08T15:57:43.586703Z",
     "iopub.status.busy": "2021-06-08T15:57:43.584806Z",
     "iopub.status.idle": "2021-06-08T15:57:43.600420Z",
     "shell.execute_reply": "2021-06-08T15:57:43.599183Z",
     "shell.execute_reply.started": "2021-06-08T15:57:43.586630Z"
    }
   },
   "outputs": [
    {
     "data": {
      "text/plain": [
       "[('man', 0.6460278034210205),\n",
       " ('people', 0.5691067576408386),\n",
       " ('admire', 0.5580703616142273)]"
      ]
     },
     "execution_count": 33,
     "metadata": {},
     "output_type": "execute_result"
    }
   ],
   "source": [
    "w2v_model.wv.most_similar(positive=[\"woman\", \"homer\"], negative=[\"marge\"], topn=3)"
   ]
  },
  {
   "cell_type": "markdown",
   "metadata": {
    "_uuid": "5a4ff4a8c8c582c6d9c704a042e8cc5d18b7bd6c"
   },
   "source": [
    "\"man\" comes at the first position, that looks about right!\n",
    "\n",
    "Which word is to woman as bart is to man?"
   ]
  },
  {
   "cell_type": "code",
   "execution_count": 34,
   "metadata": {
    "_uuid": "4cfef57b94b635abb58a4ff191785506c78ec9d9",
    "execution": {
     "iopub.execute_input": "2021-06-08T15:57:43.604036Z",
     "iopub.status.busy": "2021-06-08T15:57:43.602424Z",
     "iopub.status.idle": "2021-06-08T15:57:43.621762Z",
     "shell.execute_reply": "2021-06-08T15:57:43.620498Z",
     "shell.execute_reply.started": "2021-06-08T15:57:43.603965Z"
    }
   },
   "outputs": [
    {
     "data": {
      "text/plain": [
       "[('lisa', 0.7147189378738403),\n",
       " ('surprised', 0.6473562121391296),\n",
       " ('parent', 0.6430631279945374)]"
      ]
     },
     "execution_count": 34,
     "metadata": {},
     "output_type": "execute_result"
    }
   ],
   "source": [
    "w2v_model.wv.most_similar(positive=[\"woman\", \"bart\"], negative=[\"man\"], topn=3)"
   ]
  },
  {
   "cell_type": "markdown",
   "metadata": {
    "_uuid": "ef520bd7dd974d14afcb8e69266579ac0b703714"
   },
   "source": [
    "Lisa is Bart's sister, her male counterpart!\n",
    "<img src=\"https://vignette.wikia.nocookie.net/simpsons/images/5/57/Lisa_Simpson2.png/revision/latest?cb=20180319000458\" alt=\"drawing\" width=\"100\"/>"
   ]
  },
  {
   "cell_type": "markdown",
   "metadata": {
    "_uuid": "773c0acc8750ba8e728ff261f2e9ec39694c245c"
   },
   "source": [
    "### t-SNE visualizations:\n",
    "t-SNE is a non-linear dimensionality reduction algorithm that attempts to represent high-dimensional data and the underlying relationships between vectors in a lower-dimensional space.<br>\n",
    "Here is a good tutorial on it: https://medium.com/@luckylwk/visualising-high-dimensional-datasets-using-pca-and-t-sne-in-python-8ef87e7915b"
   ]
  },
  {
   "cell_type": "code",
   "execution_count": 35,
   "metadata": {
    "_uuid": "27ec46110042fc28da900b1b344ae4e0692d5dc2",
    "execution": {
     "iopub.execute_input": "2021-06-08T15:57:43.626708Z",
     "iopub.status.busy": "2021-06-08T15:57:43.626116Z",
     "iopub.status.idle": "2021-06-08T15:57:44.594414Z",
     "shell.execute_reply": "2021-06-08T15:57:44.593220Z",
     "shell.execute_reply.started": "2021-06-08T15:57:43.626491Z"
    }
   },
   "outputs": [],
   "source": [
    "import numpy as np\n",
    "import matplotlib.pyplot as plt\n",
    "%matplotlib inline\n",
    " \n",
    "import seaborn as sns\n",
    "sns.set_style(\"darkgrid\")\n",
    "\n",
    "from sklearn.decomposition import PCA\n",
    "from sklearn.manifold import TSNE"
   ]
  },
  {
   "cell_type": "markdown",
   "metadata": {
    "_uuid": "22693eaa25253b38cee3c5cd5db6b6fdddb575a4"
   },
   "source": [
    "Our goal in this section is to plot our 300 dimensions vectors into 2 dimensional graphs, and see if we can spot interesting patterns.<br>\n",
    "For that we are going to use t-SNE implementation from scikit-learn.\n",
    "\n",
    "To make the visualizations more relevant, we will look at the relationships between a query word (in <font color='red'>**red**</font>), its most similar words in the model (in <font color=\"blue\">**blue**</font>), and other words from the vocabulary (in <font color='green'>**green**</font>)."
   ]
  },
  {
   "cell_type": "code",
   "execution_count": 36,
   "metadata": {
    "_uuid": "489a7d160dcd92da0ce42a3b5b461368c9ffe5f1",
    "execution": {
     "iopub.execute_input": "2021-06-08T15:57:44.596629Z",
     "iopub.status.busy": "2021-06-08T15:57:44.596209Z",
     "iopub.status.idle": "2021-06-08T15:57:44.622616Z",
     "shell.execute_reply": "2021-06-08T15:57:44.621764Z",
     "shell.execute_reply.started": "2021-06-08T15:57:44.596551Z"
    }
   },
   "outputs": [],
   "source": [
    "def tsnescatterplot(model, word, list_names):\n",
    "    \"\"\" Plot in seaborn the results from the t-SNE dimensionality reduction algorithm of the vectors of a query word,\n",
    "    its list of most similar words, and a list of words.\n",
    "    \"\"\"\n",
    "    arrays = np.empty((0, 300), dtype='f')\n",
    "    word_labels = [word]\n",
    "    color_list  = ['red']\n",
    "\n",
    "    # adds the vector of the query word\n",
    "    arrays = np.append(arrays, model.wv.__getitem__([word]), axis=0)\n",
    "    \n",
    "    # gets list of most similar words\n",
    "    close_words = model.wv.most_similar([word])\n",
    "    \n",
    "    # adds the vector for each of the closest words to the array\n",
    "    for wrd_score in close_words:\n",
    "        wrd_vector = model.wv.__getitem__([wrd_score[0]])\n",
    "        word_labels.append(wrd_score[0])\n",
    "        color_list.append('blue')\n",
    "        arrays = np.append(arrays, wrd_vector, axis=0)\n",
    "    \n",
    "    # adds the vector for each of the words from list_names to the array\n",
    "    for wrd in list_names:\n",
    "        wrd_vector = model.wv.__getitem__([wrd])\n",
    "        word_labels.append(wrd)\n",
    "        color_list.append('green')\n",
    "        arrays = np.append(arrays, wrd_vector, axis=0)\n",
    "        \n",
    "    # Reduces the dimensionality from 300 to 50 dimensions with PCA\n",
    "    reduc = PCA(n_components=50).fit_transform(arrays)\n",
    "    \n",
    "    # Finds t-SNE coordinates for 2 dimensions\n",
    "    np.set_printoptions(suppress=True)\n",
    "    \n",
    "    Y = TSNE(n_components=2, random_state=0, perplexity=15).fit_transform(reduc)\n",
    "    \n",
    "    # Sets everything up to plot\n",
    "    df = pd.DataFrame({'x': [x for x in Y[:, 0]],\n",
    "                       'y': [y for y in Y[:, 1]],\n",
    "                       'words': word_labels,\n",
    "                       'color': color_list})\n",
    "    \n",
    "    fig, _ = plt.subplots()\n",
    "    fig.set_size_inches(9, 9)\n",
    "    \n",
    "    # Basic plot\n",
    "    p1 = sns.regplot(data=df,\n",
    "                     x=\"x\",\n",
    "                     y=\"y\",\n",
    "                     fit_reg=False,\n",
    "                     marker=\"o\",\n",
    "                     scatter_kws={'s': 40,\n",
    "                                  'facecolors': df['color']\n",
    "                                 }\n",
    "                    )\n",
    "    \n",
    "    # Adds annotations one by one with a loop\n",
    "    for line in range(0, df.shape[0]):\n",
    "         p1.text(df[\"x\"][line],\n",
    "                 df['y'][line],\n",
    "                 '  ' + df[\"words\"][line].title(),\n",
    "                 horizontalalignment='left',\n",
    "                 verticalalignment='bottom', size='medium',\n",
    "                 color=df['color'][line],\n",
    "                 weight='normal'\n",
    "                ).set_size(15)\n",
    "\n",
    "    \n",
    "    plt.xlim(Y[:, 0].min()-50, Y[:, 0].max()+50)\n",
    "    plt.ylim(Y[:, 1].min()-50, Y[:, 1].max()+50)\n",
    "            \n",
    "    plt.title('t-SNE visualization for {}'.format(word.title()))\n",
    "    "
   ]
  },
  {
   "cell_type": "markdown",
   "metadata": {
    "_uuid": "3943c170a5f5f09974d90c89bdb9ec761e63a416"
   },
   "source": [
    "Code inspired by: [[2]](#References:)\n",
    "\n",
    "## 10 Most similar words vs. 8 Random words:\n",
    "Let's compare where the vector representation of Homer, his 10 most similar words from the model, as well as 8 random ones, lies in a 2D graph:"
   ]
  },
  {
   "cell_type": "code",
   "execution_count": 37,
   "metadata": {
    "_uuid": "18d788b2a92f94771a5f9485a885d44dfba62a94",
    "execution": {
     "iopub.execute_input": "2021-06-08T15:57:44.624658Z",
     "iopub.status.busy": "2021-06-08T15:57:44.624011Z",
     "iopub.status.idle": "2021-06-08T15:57:45.444486Z",
     "shell.execute_reply": "2021-06-08T15:57:45.443523Z",
     "shell.execute_reply.started": "2021-06-08T15:57:44.624597Z"
    }
   },
   "outputs": [
    {
     "name": "stderr",
     "output_type": "stream",
     "text": [
      "/opt/conda/lib/python3.6/site-packages/gensim/matutils.py:737: FutureWarning: Conversion of the second argument of issubdtype from `int` to `np.signedinteger` is deprecated. In future, it will be treated as `np.int64 == np.dtype(int).type`.\n",
      "  if np.issubdtype(vec.dtype, np.int):\n"
     ]
    },
    {
     "data": {
      "image/png": "[encoded data removed]",
      "text/plain": [
       "<Figure size 648x648 with 1 Axes>"
      ]
     },
     "metadata": {},
     "output_type": "display_data"
    }
   ],
   "source": [
    "tsnescatterplot(w2v_model, 'homer', ['dog', 'bird', 'ah', 'maude', 'bob', 'mel', 'apu', 'duff'])"
   ]
  },
  {
   "cell_type": "markdown",
   "metadata": {
    "_uuid": "c73fc2faaf0baecc84f02a97b50cb9ccefa48686"
   },
   "source": [
    "Interestingly, the 10 most similar words to Homer ends up around him, so does Apu and (sideshow) Bob, two recurrent characters.\n",
    "\n",
    "## 10 Most similar words vs. 10 Most dissimilar\n",
    "\n",
    "This time, let's compare where the vector representation of Maggie and her 10 most similar words from the model lies compare to the vector representation of the 10 most dissimilar words to Maggie:"
   ]
  },
  {
   "cell_type": "code",
   "execution_count": 38,
   "metadata": {
    "_uuid": "10c77b072f7c281f2be919341be116565c20d8a8",
    "execution": {
     "iopub.execute_input": "2021-06-08T15:57:45.446000Z",
     "iopub.status.busy": "2021-06-08T15:57:45.445687Z",
     "iopub.status.idle": "2021-06-08T15:57:46.260992Z",
     "shell.execute_reply": "2021-06-08T15:57:46.260003Z",
     "shell.execute_reply.started": "2021-06-08T15:57:45.445935Z"
    }
   },
   "outputs": [
    {
     "data": {
      "image/png": "[encoded data removed]",
      "text/plain": [
       "<Figure size 648x648 with 1 Axes>"
      ]
     },
     "metadata": {},
     "output_type": "display_data"
    }
   ],
   "source": [
    "tsnescatterplot(w2v_model, 'maggie', [i[0] for i in w2v_model.wv.most_similar(negative=[\"maggie\"])])"
   ]
  },
  {
   "cell_type": "markdown",
   "metadata": {
    "_uuid": "87315bfbaceb3733bd7af035db6c59cfc4b1ba7f"
   },
   "source": [
    "Neat! Maggie and her most similar words form a distinctive cluster from the most dissimilar words, it is a really encouraging plot!\n",
    "\n",
    "## 10 Most similar words vs. 11th to 20th Most similar words:\n",
    "\n",
    "Finally, we are going to plot the most similar words to Mr. Burns ranked 1st to 10th versus the ones ranked 11th to 20th:\n",
    "\n",
    "(PS: Mr. Burns became mr_burn after the preprocessing)"
   ]
  },
  {
   "cell_type": "code",
   "execution_count": 39,
   "metadata": {
    "_uuid": "e6f0bc598922f4f2cd17d2511560242a3c35fdd9",
    "execution": {
     "iopub.execute_input": "2021-06-08T15:57:46.262392Z",
     "iopub.status.busy": "2021-06-08T15:57:46.262110Z",
     "iopub.status.idle": "2021-06-08T15:57:47.083889Z",
     "shell.execute_reply": "2021-06-08T15:57:47.082985Z",
     "shell.execute_reply.started": "2021-06-08T15:57:46.262341Z"
    }
   },
   "outputs": [
    {
     "data": {
      "image/png": "[encoded data removed]",
      "text/plain": [
       "<Figure size 648x648 with 1 Axes>"
      ]
     },
     "metadata": {},
     "output_type": "display_data"
    }
   ],
   "source": [
    "tsnescatterplot(w2v_model, \"mr_burn\", [t[0] for t in w2v_model.wv.most_similar(positive=[\"mr_burn\"], topn=20)][10:])"
   ]
  }
 ],
 "metadata": {
  "kernelspec": {
   "display_name": "Python 3",
   "language": "python",
   "name": "python3"
  },
  "language_info": {
   "codemirror_mode": {
    "name": "ipython",
    "version": 3
   },
   "file_extension": ".py",
   "mimetype": "text/x-python",
   "name": "python",
   "nbconvert_exporter": "python",
   "pygments_lexer": "ipython3",
   "version": "3.6.13"
  }
 },
 "nbformat": 4,
 "nbformat_minor": 4
}
