{
  "nbformat": 4,
  "nbformat_minor": 0,
  "metadata": {
    "colab": {
      "name": "11.0 Stock Price Prediction by Stack-LSTM",
      "provenance": [],
      "collapsed_sections": []
    },
    "kernelspec": {
      "name": "python3",
      "display_name": "Python 3"
    },
    "language_info": {
      "name": "python"
    }
  },
  "cells": [
    {
      "cell_type": "code",
      "metadata": {
        "id": "n-wNZn4wmLxB"
      },
      "source": [
        "import pandas as pd\n",
        "import numpy as np\n",
        "import matplotlib.pyplot as plt\n",
        "from sklearn.preprocessing import MinMaxScaler\n",
        "\n",
        "from tensorflow.keras.models import Sequential\n",
        "from tensorflow.keras.layers import Dense\n",
        "from tensorflow.keras.layers import LSTM\n",
        "\n",
        "import math\n",
        "from sklearn.metrics import mean_squared_error"
      ],
      "execution_count": 35,
      "outputs": []
    },
    {
      "cell_type": "code",
      "metadata": {
        "id": "0Aj_8mPcJLN9"
      },
      "source": [
        "df = pd.read_csv(\"/content/drive/MyDrive/StudyOther/data/Stock_Price_Prediction_AAPL.csv\")"
      ],
      "execution_count": 2,
      "outputs": []
    },
    {
      "cell_type": "code",
      "metadata": {
        "colab": {
          "base_uri": "https://localhost:8080/",
          "height": 180
        },
        "id": "KPlxKdDMJLRI",
        "outputId": "f5829f6e-852a-4680-cc5d-1a0e23eca7e9"
      },
      "source": [
        "df.head(2)"
      ],
      "execution_count": 8,
      "outputs": [
        {
          "output_type": "execute_result",
          "data": {
            "text/html": [
              "<div>\n",
              "<style scoped>\n",
              "    .dataframe tbody tr th:only-of-type {\n",
              "        vertical-align: middle;\n",
              "    }\n",
              "\n",
              "    .dataframe tbody tr th {\n",
              "        vertical-align: top;\n",
              "    }\n",
              "\n",
              "    .dataframe thead th {\n",
              "        text-align: right;\n",
              "    }\n",
              "</style>\n",
              "<table border=\"1\" class=\"dataframe\">\n",
              "  <thead>\n",
              "    <tr style=\"text-align: right;\">\n",
              "      <th></th>\n",
              "      <th>Unnamed: 0</th>\n",
              "      <th>symbol</th>\n",
              "      <th>date</th>\n",
              "      <th>close</th>\n",
              "      <th>high</th>\n",
              "      <th>low</th>\n",
              "      <th>open</th>\n",
              "      <th>volume</th>\n",
              "      <th>adjClose</th>\n",
              "      <th>adjHigh</th>\n",
              "      <th>adjLow</th>\n",
              "      <th>adjOpen</th>\n",
              "      <th>adjVolume</th>\n",
              "      <th>divCash</th>\n",
              "      <th>splitFactor</th>\n",
              "    </tr>\n",
              "  </thead>\n",
              "  <tbody>\n",
              "    <tr>\n",
              "      <th>0</th>\n",
              "      <td>0</td>\n",
              "      <td>AAPL</td>\n",
              "      <td>2015-05-27 00:00:00+00:00</td>\n",
              "      <td>132.045</td>\n",
              "      <td>132.26</td>\n",
              "      <td>130.05</td>\n",
              "      <td>130.34</td>\n",
              "      <td>45833246</td>\n",
              "      <td>121.682558</td>\n",
              "      <td>121.880685</td>\n",
              "      <td>119.844118</td>\n",
              "      <td>120.111360</td>\n",
              "      <td>45833246</td>\n",
              "      <td>0.0</td>\n",
              "      <td>1.0</td>\n",
              "    </tr>\n",
              "    <tr>\n",
              "      <th>1</th>\n",
              "      <td>1</td>\n",
              "      <td>AAPL</td>\n",
              "      <td>2015-05-28 00:00:00+00:00</td>\n",
              "      <td>131.780</td>\n",
              "      <td>131.95</td>\n",
              "      <td>131.10</td>\n",
              "      <td>131.86</td>\n",
              "      <td>30733309</td>\n",
              "      <td>121.438354</td>\n",
              "      <td>121.595013</td>\n",
              "      <td>120.811718</td>\n",
              "      <td>121.512076</td>\n",
              "      <td>30733309</td>\n",
              "      <td>0.0</td>\n",
              "      <td>1.0</td>\n",
              "    </tr>\n",
              "  </tbody>\n",
              "</table>\n",
              "</div>"
            ],
            "text/plain": [
              "   Unnamed: 0 symbol  ... divCash  splitFactor\n",
              "0           0   AAPL  ...     0.0          1.0\n",
              "1           1   AAPL  ...     0.0          1.0\n",
              "\n",
              "[2 rows x 15 columns]"
            ]
          },
          "metadata": {
            "tags": []
          },
          "execution_count": 8
        }
      ]
    },
    {
      "cell_type": "code",
      "metadata": {
        "id": "e8WCLz8BJLUA"
      },
      "source": [
        "df1 = df.reset_index()['close']"
      ],
      "execution_count": 4,
      "outputs": []
    },
    {
      "cell_type": "code",
      "metadata": {
        "colab": {
          "base_uri": "https://localhost:8080/"
        },
        "id": "5rO7yq69JqLt",
        "outputId": "e2506d53-b706-4267-c80e-50efd711472b"
      },
      "source": [
        "df1.shape"
      ],
      "execution_count": 6,
      "outputs": [
        {
          "output_type": "execute_result",
          "data": {
            "text/plain": [
              "(1258,)"
            ]
          },
          "metadata": {
            "tags": []
          },
          "execution_count": 6
        }
      ]
    },
    {
      "cell_type": "code",
      "metadata": {
        "colab": {
          "base_uri": "https://localhost:8080/",
          "height": 283
        },
        "id": "eejGdyjwJqO9",
        "outputId": "cc98d2d2-326d-4672-9728-16ca08d5090f"
      },
      "source": [
        "plt.plot(df1)"
      ],
      "execution_count": 9,
      "outputs": [
        {
          "output_type": "execute_result",
          "data": {
            "text/plain": [
              "[<matplotlib.lines.Line2D at 0x7f78cb91a150>]"
            ]
          },
          "metadata": {
            "tags": []
          },
          "execution_count": 9
        },
        {
          "output_type": "display_data",
          "data": {
            "image/png": "[encoded data removed]",
            "text/plain": [
              "<Figure size 432x288 with 1 Axes>"
            ]
          },
          "metadata": {
            "tags": [],
            "needs_background": "light"
          }
        }
      ]
    },
    {
      "cell_type": "code",
      "metadata": {
        "id": "w0x0U7BIJqRq"
      },
      "source": [
        "scaler = MinMaxScaler ( feature_range= (0,1))\n",
        "df1 = scaler.fit_transform (np.array(df1).reshape (-1, 1))"
      ],
      "execution_count": 11,
      "outputs": []
    },
    {
      "cell_type": "code",
      "metadata": {
        "colab": {
          "base_uri": "https://localhost:8080/"
        },
        "id": "rB1wTgnXJqUi",
        "outputId": "4ddcbf94-f62d-4705-ed9e-54465213f7ad"
      },
      "source": [
        "df1"
      ],
      "execution_count": 12,
      "outputs": [
        {
          "output_type": "execute_result",
          "data": {
            "text/plain": [
              "array([[0.17607447],\n",
              "       [0.17495567],\n",
              "       [0.16862282],\n",
              "       ...,\n",
              "       [0.96635143],\n",
              "       [0.9563033 ],\n",
              "       [0.96491598]])"
            ]
          },
          "metadata": {
            "tags": []
          },
          "execution_count": 12
        }
      ]
    },
    {
      "cell_type": "code",
      "metadata": {
        "colab": {
          "base_uri": "https://localhost:8080/",
          "height": 283
        },
        "id": "EPccrz-EJqXe",
        "outputId": "87d67dcd-76f9-402d-c5f0-df94703a35ec"
      },
      "source": [
        "plt.plot(df1)"
      ],
      "execution_count": 13,
      "outputs": [
        {
          "output_type": "execute_result",
          "data": {
            "text/plain": [
              "[<matplotlib.lines.Line2D at 0x7f78bb969310>]"
            ]
          },
          "metadata": {
            "tags": []
          },
          "execution_count": 13
        },
        {
          "output_type": "display_data",
          "data": {
            "image/png": "[encoded data removed]",
            "text/plain": [
              "<Figure size 432x288 with 1 Axes>"
            ]
          },
          "metadata": {
            "tags": [],
            "needs_background": "light"
          }
        }
      ]
    },
    {
      "cell_type": "code",
      "metadata": {
        "id": "hgxkz5wUJqaE"
      },
      "source": [
        "#65 % train data\n",
        "tranining_size = int( len(df1) * 0.65)\n",
        "\n",
        "# 35% test size\n",
        "test_size = len(df1) - tranining_size \n",
        "\n",
        "train_data , test_data =  df1[0:tranining_size , : ] , df1[tranining_size : len(df1) , : 1 ]"
      ],
      "execution_count": 19,
      "outputs": []
    },
    {
      "cell_type": "code",
      "metadata": {
        "colab": {
          "base_uri": "https://localhost:8080/"
        },
        "id": "pVfCFatXJqc6",
        "outputId": "b398b91e-24c9-43c4-8b52-01a632dbcf31"
      },
      "source": [
        "traning_size, test_size"
      ],
      "execution_count": 20,
      "outputs": [
        {
          "output_type": "execute_result",
          "data": {
            "text/plain": [
              "(817, 441)"
            ]
          },
          "metadata": {
            "tags": []
          },
          "execution_count": 20
        }
      ]
    },
    {
      "cell_type": "code",
      "metadata": {
        "id": "_kjBWUu8JqgE"
      },
      "source": [
        "#previous 3 time step\n",
        "\n",
        "def create_dataset(dataset, time_step = 1):\n",
        "    dataX , dataY = [], []\n",
        "    for i in range( len(dataset) - time_step - 1):\n",
        "      a = dataset [i: (i + time_step) , 0]   ###i=0, 0,1,2,3-----99   100 \n",
        "      dataX.append(a)\n",
        "      dataY.append(dataset [ i+ time_step , 0])\n",
        "    return np.array(dataX) , np.array(dataY)"
      ],
      "execution_count": 21,
      "outputs": []
    },
    {
      "cell_type": "code",
      "metadata": {
        "id": "47TQhDzFJqiO"
      },
      "source": [
        "time_step = 100\n",
        "X_train , y_train = create_dataset (train_data , time_step)\n",
        "X_test , y_test = create_dataset(test_data, time_step)"
      ],
      "execution_count": 23,
      "outputs": []
    },
    {
      "cell_type": "code",
      "metadata": {
        "colab": {
          "base_uri": "https://localhost:8080/"
        },
        "id": "RooSCKsCJqlT",
        "outputId": "adc186b7-951b-4e26-8959-5dac120dd477"
      },
      "source": [
        "X_train.shape, X_test.shape , y_train.shape , y_test.shape"
      ],
      "execution_count": 26,
      "outputs": [
        {
          "output_type": "execute_result",
          "data": {
            "text/plain": [
              "((716, 100), (340, 100), (716,), (340,))"
            ]
          },
          "metadata": {
            "tags": []
          },
          "execution_count": 26
        }
      ]
    },
    {
      "cell_type": "code",
      "metadata": {
        "id": "GaubYtZvJqq2"
      },
      "source": [
        "X_train =X_train.reshape(X_train.shape[0],X_train.shape[1] , 1)\n",
        "X_test = X_test.reshape(X_test.shape[0],X_test.shape[1] , 1)"
      ],
      "execution_count": 27,
      "outputs": []
    },
    {
      "cell_type": "code",
      "metadata": {
        "id": "SYeoJuDQNWPh"
      },
      "source": [
        "model = Sequential()\n",
        "\n",
        "model.add( LSTM (50, return_sequences = True, input_shape = (100,1)))\n",
        "model.add( LSTM (50, return_sequences = True))\n",
        "model.add( LSTM (50))\n",
        "model.add( Dense (1))\n",
        "\n",
        "model.compile( loss = 'mean_squared_error', optimizer = 'adam' )"
      ],
      "execution_count": 30,
      "outputs": []
    },
    {
      "cell_type": "code",
      "metadata": {
        "colab": {
          "base_uri": "https://localhost:8080/"
        },
        "id": "29N8kHp8NWSr",
        "outputId": "1135cd40-e5f8-4dc4-9e13-65161a6ee80e"
      },
      "source": [
        "model.summary()"
      ],
      "execution_count": 31,
      "outputs": [
        {
          "output_type": "stream",
          "text": [
            "Model: \"sequential_1\"\n",
            "_________________________________________________________________\n",
            "Layer (type)                 Output Shape              Param #   \n",
            "=================================================================\n",
            "lstm_3 (LSTM)                (None, 100, 50)           10400     \n",
            "_________________________________________________________________\n",
            "lstm_4 (LSTM)                (None, 100, 50)           20200     \n",
            "_________________________________________________________________\n",
            "lstm_5 (LSTM)                (None, 50)                20200     \n",
            "_________________________________________________________________\n",
            "dense_1 (Dense)              (None, 1)                 51        \n",
            "=================================================================\n",
            "Total params: 50,851\n",
            "Trainable params: 50,851\n",
            "Non-trainable params: 0\n",
            "_________________________________________________________________\n"
          ],
          "name": "stdout"
        }
      ]
    },
    {
      "cell_type": "code",
      "metadata": {
        "colab": {
          "base_uri": "https://localhost:8080/"
        },
        "id": "bw2MOu-jNWVp",
        "outputId": "5ac62c49-0151-4599-96b3-6aaa05301ee0"
      },
      "source": [
        "model.fit ( X_train, y_train, \n",
        "           validation_data = (X_test, y_test), \n",
        "           epochs = 100,\n",
        "           batch_size = 64 ,\n",
        "           verbose=1)"
      ],
      "execution_count": 33,
      "outputs": [
        {
          "output_type": "stream",
          "text": [
            "Epoch 1/100\n",
            "12/12 [==============================] - 10s 332ms/step - loss: 0.0215 - val_loss: 0.0588\n",
            "Epoch 2/100\n",
            "12/12 [==============================] - 3s 213ms/step - loss: 0.0038 - val_loss: 0.0051\n",
            "Epoch 3/100\n",
            "12/12 [==============================] - 3s 217ms/step - loss: 9.9053e-04 - val_loss: 0.0047\n",
            "Epoch 4/100\n",
            "12/12 [==============================] - 3s 216ms/step - loss: 9.6720e-04 - val_loss: 0.0048\n",
            "Epoch 5/100\n",
            "12/12 [==============================] - 3s 221ms/step - loss: 7.4127e-04 - val_loss: 0.0057\n",
            "Epoch 6/100\n",
            "12/12 [==============================] - 3s 220ms/step - loss: 6.6778e-04 - val_loss: 0.0052\n",
            "Epoch 7/100\n",
            "12/12 [==============================] - 3s 219ms/step - loss: 6.4009e-04 - val_loss: 0.0058\n",
            "Epoch 8/100\n",
            "12/12 [==============================] - 3s 220ms/step - loss: 6.6093e-04 - val_loss: 0.0061\n",
            "Epoch 9/100\n",
            "12/12 [==============================] - 3s 216ms/step - loss: 6.7228e-04 - val_loss: 0.0046\n",
            "Epoch 10/100\n",
            "12/12 [==============================] - 3s 221ms/step - loss: 5.7040e-04 - val_loss: 0.0045\n",
            "Epoch 11/100\n",
            "12/12 [==============================] - 3s 224ms/step - loss: 5.8642e-04 - val_loss: 0.0041\n",
            "Epoch 12/100\n",
            "12/12 [==============================] - 3s 224ms/step - loss: 6.0828e-04 - val_loss: 0.0035\n",
            "Epoch 13/100\n",
            "12/12 [==============================] - 3s 224ms/step - loss: 6.7032e-04 - val_loss: 0.0035\n",
            "Epoch 14/100\n",
            "12/12 [==============================] - 3s 221ms/step - loss: 6.1667e-04 - val_loss: 0.0037\n",
            "Epoch 15/100\n",
            "12/12 [==============================] - 3s 219ms/step - loss: 5.5195e-04 - val_loss: 0.0047\n",
            "Epoch 16/100\n",
            "12/12 [==============================] - 3s 219ms/step - loss: 6.4631e-04 - val_loss: 0.0045\n",
            "Epoch 17/100\n",
            "12/12 [==============================] - 3s 221ms/step - loss: 6.5811e-04 - val_loss: 0.0033\n",
            "Epoch 18/100\n",
            "12/12 [==============================] - 3s 222ms/step - loss: 5.0423e-04 - val_loss: 0.0030\n",
            "Epoch 19/100\n",
            "12/12 [==============================] - 3s 219ms/step - loss: 5.8876e-04 - val_loss: 0.0030\n",
            "Epoch 20/100\n",
            "12/12 [==============================] - 3s 220ms/step - loss: 5.3820e-04 - val_loss: 0.0034\n",
            "Epoch 21/100\n",
            "12/12 [==============================] - 3s 222ms/step - loss: 5.6090e-04 - val_loss: 0.0042\n",
            "Epoch 22/100\n",
            "12/12 [==============================] - 3s 223ms/step - loss: 5.7201e-04 - val_loss: 0.0028\n",
            "Epoch 23/100\n",
            "12/12 [==============================] - 3s 227ms/step - loss: 5.8572e-04 - val_loss: 0.0027\n",
            "Epoch 24/100\n",
            "12/12 [==============================] - 3s 223ms/step - loss: 5.7970e-04 - val_loss: 0.0028\n",
            "Epoch 25/100\n",
            "12/12 [==============================] - 3s 220ms/step - loss: 5.2014e-04 - val_loss: 0.0034\n",
            "Epoch 26/100\n",
            "12/12 [==============================] - 3s 227ms/step - loss: 5.4734e-04 - val_loss: 0.0027\n",
            "Epoch 27/100\n",
            "12/12 [==============================] - 3s 221ms/step - loss: 4.4718e-04 - val_loss: 0.0026\n",
            "Epoch 28/100\n",
            "12/12 [==============================] - 3s 217ms/step - loss: 4.9724e-04 - val_loss: 0.0027\n",
            "Epoch 29/100\n",
            "12/12 [==============================] - 3s 225ms/step - loss: 4.4958e-04 - val_loss: 0.0024\n",
            "Epoch 30/100\n",
            "12/12 [==============================] - 3s 222ms/step - loss: 4.7771e-04 - val_loss: 0.0023\n",
            "Epoch 31/100\n",
            "12/12 [==============================] - 3s 218ms/step - loss: 4.3277e-04 - val_loss: 0.0025\n",
            "Epoch 32/100\n",
            "12/12 [==============================] - 3s 219ms/step - loss: 5.1933e-04 - val_loss: 0.0026\n",
            "Epoch 33/100\n",
            "12/12 [==============================] - 3s 221ms/step - loss: 5.1363e-04 - val_loss: 0.0027\n",
            "Epoch 34/100\n",
            "12/12 [==============================] - 3s 220ms/step - loss: 4.9018e-04 - val_loss: 0.0025\n",
            "Epoch 35/100\n",
            "12/12 [==============================] - 3s 221ms/step - loss: 5.5599e-04 - val_loss: 0.0023\n",
            "Epoch 36/100\n",
            "12/12 [==============================] - 3s 213ms/step - loss: 4.4203e-04 - val_loss: 0.0032\n",
            "Epoch 37/100\n",
            "12/12 [==============================] - 3s 215ms/step - loss: 4.7065e-04 - val_loss: 0.0020\n",
            "Epoch 38/100\n",
            "12/12 [==============================] - 3s 219ms/step - loss: 4.6202e-04 - val_loss: 0.0020\n",
            "Epoch 39/100\n",
            "12/12 [==============================] - 3s 219ms/step - loss: 4.0085e-04 - val_loss: 0.0022\n",
            "Epoch 40/100\n",
            "12/12 [==============================] - 3s 219ms/step - loss: 4.4901e-04 - val_loss: 0.0020\n",
            "Epoch 41/100\n",
            "12/12 [==============================] - 3s 218ms/step - loss: 4.2423e-04 - val_loss: 0.0021\n",
            "Epoch 42/100\n",
            "12/12 [==============================] - 3s 219ms/step - loss: 4.1148e-04 - val_loss: 0.0018\n",
            "Epoch 43/100\n",
            "12/12 [==============================] - 3s 217ms/step - loss: 3.7667e-04 - val_loss: 0.0018\n",
            "Epoch 44/100\n",
            "12/12 [==============================] - 3s 218ms/step - loss: 4.1672e-04 - val_loss: 0.0017\n",
            "Epoch 45/100\n",
            "12/12 [==============================] - 3s 223ms/step - loss: 3.5679e-04 - val_loss: 0.0021\n",
            "Epoch 46/100\n",
            "12/12 [==============================] - 3s 215ms/step - loss: 3.9080e-04 - val_loss: 0.0016\n",
            "Epoch 47/100\n",
            "12/12 [==============================] - 3s 220ms/step - loss: 3.9931e-04 - val_loss: 0.0019\n",
            "Epoch 48/100\n",
            "12/12 [==============================] - 3s 222ms/step - loss: 3.6572e-04 - val_loss: 0.0017\n",
            "Epoch 49/100\n",
            "12/12 [==============================] - 3s 221ms/step - loss: 3.9197e-04 - val_loss: 0.0015\n",
            "Epoch 50/100\n",
            "12/12 [==============================] - 3s 229ms/step - loss: 3.5366e-04 - val_loss: 0.0020\n",
            "Epoch 51/100\n",
            "12/12 [==============================] - 3s 228ms/step - loss: 3.7290e-04 - val_loss: 0.0017\n",
            "Epoch 52/100\n",
            "12/12 [==============================] - 3s 227ms/step - loss: 3.9758e-04 - val_loss: 0.0036\n",
            "Epoch 53/100\n",
            "12/12 [==============================] - 3s 225ms/step - loss: 4.6255e-04 - val_loss: 0.0016\n",
            "Epoch 54/100\n",
            "12/12 [==============================] - 3s 226ms/step - loss: 4.0711e-04 - val_loss: 0.0016\n",
            "Epoch 55/100\n",
            "12/12 [==============================] - 3s 221ms/step - loss: 3.1769e-04 - val_loss: 0.0013\n",
            "Epoch 56/100\n",
            "12/12 [==============================] - 3s 225ms/step - loss: 3.6803e-04 - val_loss: 0.0014\n",
            "Epoch 57/100\n",
            "12/12 [==============================] - 3s 229ms/step - loss: 3.7501e-04 - val_loss: 0.0019\n",
            "Epoch 58/100\n",
            "12/12 [==============================] - 3s 224ms/step - loss: 3.8850e-04 - val_loss: 0.0016\n",
            "Epoch 59/100\n",
            "12/12 [==============================] - 3s 226ms/step - loss: 3.7642e-04 - val_loss: 0.0016\n",
            "Epoch 60/100\n",
            "12/12 [==============================] - 3s 237ms/step - loss: 3.3142e-04 - val_loss: 0.0013\n",
            "Epoch 61/100\n",
            "12/12 [==============================] - 3s 233ms/step - loss: 3.6198e-04 - val_loss: 0.0028\n",
            "Epoch 62/100\n",
            "12/12 [==============================] - 3s 237ms/step - loss: 3.8534e-04 - val_loss: 0.0013\n",
            "Epoch 63/100\n",
            "12/12 [==============================] - 3s 236ms/step - loss: 3.2594e-04 - val_loss: 0.0017\n",
            "Epoch 64/100\n",
            "12/12 [==============================] - 3s 221ms/step - loss: 3.2534e-04 - val_loss: 0.0013\n",
            "Epoch 65/100\n",
            "12/12 [==============================] - 3s 220ms/step - loss: 2.8867e-04 - val_loss: 0.0018\n",
            "Epoch 66/100\n",
            "12/12 [==============================] - 3s 225ms/step - loss: 2.8025e-04 - val_loss: 0.0018\n",
            "Epoch 67/100\n",
            "12/12 [==============================] - 3s 228ms/step - loss: 2.5665e-04 - val_loss: 0.0015\n",
            "Epoch 68/100\n",
            "12/12 [==============================] - 3s 225ms/step - loss: 2.4603e-04 - val_loss: 0.0014\n",
            "Epoch 69/100\n",
            "12/12 [==============================] - 3s 225ms/step - loss: 2.8133e-04 - val_loss: 0.0028\n",
            "Epoch 70/100\n",
            "12/12 [==============================] - 3s 224ms/step - loss: 3.5041e-04 - val_loss: 0.0014\n",
            "Epoch 71/100\n",
            "12/12 [==============================] - 3s 224ms/step - loss: 3.5610e-04 - val_loss: 0.0017\n",
            "Epoch 72/100\n",
            "12/12 [==============================] - 3s 225ms/step - loss: 2.8696e-04 - val_loss: 0.0012\n",
            "Epoch 73/100\n",
            "12/12 [==============================] - 3s 222ms/step - loss: 3.1452e-04 - val_loss: 0.0014\n",
            "Epoch 74/100\n",
            "12/12 [==============================] - 3s 220ms/step - loss: 2.5448e-04 - val_loss: 0.0024\n",
            "Epoch 75/100\n",
            "12/12 [==============================] - 3s 232ms/step - loss: 2.9816e-04 - val_loss: 0.0012\n",
            "Epoch 76/100\n",
            "12/12 [==============================] - 3s 228ms/step - loss: 2.4713e-04 - val_loss: 0.0012\n",
            "Epoch 77/100\n",
            "12/12 [==============================] - 3s 227ms/step - loss: 2.3628e-04 - val_loss: 0.0016\n",
            "Epoch 78/100\n",
            "12/12 [==============================] - 3s 223ms/step - loss: 2.4362e-04 - val_loss: 0.0013\n",
            "Epoch 79/100\n",
            "12/12 [==============================] - 3s 225ms/step - loss: 2.3687e-04 - val_loss: 0.0013\n",
            "Epoch 80/100\n",
            "12/12 [==============================] - 3s 220ms/step - loss: 2.2782e-04 - val_loss: 0.0015\n",
            "Epoch 81/100\n",
            "12/12 [==============================] - 3s 219ms/step - loss: 2.1626e-04 - val_loss: 0.0013\n",
            "Epoch 82/100\n",
            "12/12 [==============================] - 3s 223ms/step - loss: 2.1983e-04 - val_loss: 0.0011\n",
            "Epoch 83/100\n",
            "12/12 [==============================] - 3s 218ms/step - loss: 2.0713e-04 - val_loss: 0.0014\n",
            "Epoch 84/100\n",
            "12/12 [==============================] - 3s 221ms/step - loss: 2.1613e-04 - val_loss: 0.0012\n",
            "Epoch 85/100\n",
            "12/12 [==============================] - 3s 218ms/step - loss: 2.1380e-04 - val_loss: 0.0011\n",
            "Epoch 86/100\n",
            "12/12 [==============================] - 3s 223ms/step - loss: 2.0353e-04 - val_loss: 0.0010\n",
            "Epoch 87/100\n",
            "12/12 [==============================] - 3s 219ms/step - loss: 2.1394e-04 - val_loss: 0.0013\n",
            "Epoch 88/100\n",
            "12/12 [==============================] - 3s 224ms/step - loss: 1.9219e-04 - val_loss: 0.0010\n",
            "Epoch 89/100\n",
            "12/12 [==============================] - 3s 223ms/step - loss: 1.9098e-04 - val_loss: 0.0016\n",
            "Epoch 90/100\n",
            "12/12 [==============================] - 3s 219ms/step - loss: 2.2549e-04 - val_loss: 0.0012\n",
            "Epoch 91/100\n",
            "12/12 [==============================] - 3s 224ms/step - loss: 2.7073e-04 - val_loss: 9.8721e-04\n",
            "Epoch 92/100\n",
            "12/12 [==============================] - 3s 223ms/step - loss: 1.9581e-04 - val_loss: 0.0012\n",
            "Epoch 93/100\n",
            "12/12 [==============================] - 3s 222ms/step - loss: 1.9411e-04 - val_loss: 0.0011\n",
            "Epoch 94/100\n",
            "12/12 [==============================] - 3s 221ms/step - loss: 1.6092e-04 - val_loss: 0.0012\n",
            "Epoch 95/100\n",
            "12/12 [==============================] - 3s 219ms/step - loss: 1.7659e-04 - val_loss: 9.0288e-04\n",
            "Epoch 96/100\n",
            "12/12 [==============================] - 3s 220ms/step - loss: 1.9265e-04 - val_loss: 0.0014\n",
            "Epoch 97/100\n",
            "12/12 [==============================] - 3s 218ms/step - loss: 1.7163e-04 - val_loss: 8.8185e-04\n",
            "Epoch 98/100\n",
            "12/12 [==============================] - 3s 225ms/step - loss: 1.7215e-04 - val_loss: 8.6988e-04\n",
            "Epoch 99/100\n",
            "12/12 [==============================] - 3s 220ms/step - loss: 1.7571e-04 - val_loss: 9.5242e-04\n",
            "Epoch 100/100\n",
            "12/12 [==============================] - 3s 216ms/step - loss: 1.6120e-04 - val_loss: 0.0011\n"
          ],
          "name": "stdout"
        },
        {
          "output_type": "execute_result",
          "data": {
            "text/plain": [
              "<tensorflow.python.keras.callbacks.History at 0x7f7883bb0b90>"
            ]
          },
          "metadata": {
            "tags": []
          },
          "execution_count": 33
        }
      ]
    },
    {
      "cell_type": "code",
      "metadata": {
        "id": "LvagDmnsOR7-"
      },
      "source": [
        "### Lets Do the prediction and check performance metrics\n",
        "train_predict = model.predict(X_train)\n",
        "test_predict  =model.predict(X_test)"
      ],
      "execution_count": 36,
      "outputs": []
    },
    {
      "cell_type": "code",
      "metadata": {
        "id": "FacvHNQuOSAN"
      },
      "source": [
        "##Transformback to original form\n",
        "train_predict = scaler.inverse_transform(train_predict)\n",
        "test_predict = scaler.inverse_transform(test_predict)"
      ],
      "execution_count": 37,
      "outputs": []
    },
    {
      "cell_type": "code",
      "metadata": {
        "colab": {
          "base_uri": "https://localhost:8080/"
        },
        "id": "k24IWj1JOSGt",
        "outputId": "745351c2-60c2-44c8-904e-5e542841bd20"
      },
      "source": [
        "### Test Data RMSE\n",
        "math.sqrt( mean_squared_error ( y_test, test_predict ) )"
      ],
      "execution_count": 39,
      "outputs": [
        {
          "output_type": "execute_result",
          "data": {
            "text/plain": [
              "234.48881906296242"
            ]
          },
          "metadata": {
            "tags": []
          },
          "execution_count": 39
        }
      ]
    },
    {
      "cell_type": "code",
      "metadata": {
        "colab": {
          "base_uri": "https://localhost:8080/",
          "height": 265
        },
        "id": "UY3s53c1OGhe",
        "outputId": "9273e18d-4c9e-4d20-b420-5d59813c4226"
      },
      "source": [
        "### Plotting \n",
        "# shift train predictions for plotting\n",
        "look_back = 100\n",
        "trainPredictPlot = np.empty_like(df1)\n",
        "trainPredictPlot[:, :] = np.nan\n",
        "trainPredictPlot[look_back:len(train_predict)+look_back, :] = train_predict\n",
        "# shift test predictions for plotting\n",
        "testPredictPlot = np.empty_like(df1)\n",
        "testPredictPlot[:, :] = np.nan\n",
        "testPredictPlot[len(train_predict)+(look_back*2)+1:len(df1)-1, :] = test_predict\n",
        "# plot baseline and predictions\n",
        "plt.plot(scaler.inverse_transform(df1))\n",
        "plt.plot(trainPredictPlot)\n",
        "plt.plot(testPredictPlot)\n",
        "plt.show()"
      ],
      "execution_count": 41,
      "outputs": [
        {
          "output_type": "display_data",
          "data": {
            "image/png": "[encoded data removed]",
            "text/plain": [
              "<Figure size 432x288 with 1 Axes>"
            ]
          },
          "metadata": {
            "tags": [],
            "needs_background": "light"
          }
        }
      ]
    },
    {
      "cell_type": "code",
      "metadata": {
        "colab": {
          "base_uri": "https://localhost:8080/"
        },
        "id": "2uIJ1EspOGl6",
        "outputId": "45d1c2f0-b660-49e2-f972-5e300e18ca93"
      },
      "source": [
        "len(test_data)"
      ],
      "execution_count": 42,
      "outputs": [
        {
          "output_type": "execute_result",
          "data": {
            "text/plain": [
              "441"
            ]
          },
          "metadata": {
            "tags": []
          },
          "execution_count": 42
        }
      ]
    },
    {
      "cell_type": "code",
      "metadata": {
        "colab": {
          "base_uri": "https://localhost:8080/"
        },
        "id": "z-agj9vFOGpy",
        "outputId": "12672b0f-fa7f-4555-8d57-64c42843401d"
      },
      "source": [
        "\n",
        "x_input=test_data[341:].reshape(1,-1)\n",
        "x_input.shape"
      ],
      "execution_count": 43,
      "outputs": [
        {
          "output_type": "execute_result",
          "data": {
            "text/plain": [
              "(1, 100)"
            ]
          },
          "metadata": {
            "tags": []
          },
          "execution_count": 43
        }
      ]
    },
    {
      "cell_type": "code",
      "metadata": {
        "id": "G3nmjyZZOGuD"
      },
      "source": [
        "temp_input = list(x_input)\n",
        "temp_input = temp_input[0].tolist()"
      ],
      "execution_count": 44,
      "outputs": []
    },
    {
      "cell_type": "code",
      "metadata": {
        "colab": {
          "base_uri": "https://localhost:8080/"
        },
        "id": "gyR1WorrO4aT",
        "outputId": "d3931262-2e4e-48d7-a6be-c09b55ba847c"
      },
      "source": [
        "# demonstrate prediction for next 10 days\n",
        "from numpy import array\n",
        "\n",
        "lst_output=[]\n",
        "n_steps=100\n",
        "i=0\n",
        "while(i<30):\n",
        "    \n",
        "    if(len(temp_input)>100):\n",
        "        #print(temp_input)\n",
        "        x_input=np.array(temp_input[1:])\n",
        "        print(\"{} day input {}\".format(i,x_input))\n",
        "        x_input=x_input.reshape(1,-1)\n",
        "        x_input = x_input.reshape((1, n_steps, 1))\n",
        "        #print(x_input)\n",
        "        yhat = model.predict(x_input, verbose=0)\n",
        "        print(\"{} day output {}\".format(i,yhat))\n",
        "        temp_input.extend(yhat[0].tolist())\n",
        "        temp_input=temp_input[1:]\n",
        "        #print(temp_input)\n",
        "        lst_output.extend(yhat.tolist())\n",
        "        i=i+1\n",
        "    else:\n",
        "        x_input = x_input.reshape((1, n_steps,1))\n",
        "        yhat = model.predict(x_input, verbose=0)\n",
        "        print(yhat[0])\n",
        "        temp_input.extend(yhat[0].tolist())\n",
        "        print(len(temp_input))\n",
        "        lst_output.extend(yhat.tolist())\n",
        "        i=i+1\n",
        "    \n",
        "\n",
        "print(lst_output)"
      ],
      "execution_count": 45,
      "outputs": [
        {
          "output_type": "stream",
          "text": [
            "[0.9303215]\n",
            "101\n",
            "1 day input [0.8866419  0.87431394 0.88431985 0.87836697 0.8986321  0.92582116\n",
            " 0.92877649 0.95676771 0.93869797 0.93304061 0.94950604 0.96424048\n",
            " 0.95512117 0.95989192 0.96635143 0.96246728 0.92295027 0.9598497\n",
            " 0.98792536 0.98594106 0.92531453 0.92172591 0.96474711 0.97572406\n",
            " 0.99159841 0.96972895 0.97614625 0.96795575 1.         0.99016297\n",
            " 0.99050072 0.96538039 0.98488559 0.97086887 0.94026007 0.87748037\n",
            " 0.83483915 0.85413324 0.77336823 0.77269273 0.88014017 0.84007431\n",
            " 0.89673225 0.85527316 0.83884995 0.74233725 0.82327113 0.78143207\n",
            " 0.6665963  0.7921557  0.64118044 0.68614371 0.66001013 0.65203074\n",
            " 0.58642236 0.56586169 0.66089673 0.65515494 0.70970193 0.66452757\n",
            " 0.69437642 0.69218104 0.63569197 0.65266402 0.63780292 0.7267162\n",
            " 0.71388162 0.74191506 0.75002111 0.77222832 0.83049059 0.8194292\n",
            " 0.8289707  0.8125475  0.78776492 0.75162543 0.78426074 0.77974331\n",
            " 0.81326522 0.8141096  0.79473106 0.83336148 0.85898843 0.83901883\n",
            " 0.85628641 0.87486279 0.88782403 0.90095415 0.92793211 0.948535\n",
            " 0.93333615 0.91746179 0.92544119 0.91771511 0.9483239  0.94064004\n",
            " 0.96635143 0.9563033  0.96491598 0.93032151]\n",
            "1 day output [[0.9238583]]\n",
            "2 day input [0.87431394 0.88431985 0.87836697 0.8986321  0.92582116 0.92877649\n",
            " 0.95676771 0.93869797 0.93304061 0.94950604 0.96424048 0.95512117\n",
            " 0.95989192 0.96635143 0.96246728 0.92295027 0.9598497  0.98792536\n",
            " 0.98594106 0.92531453 0.92172591 0.96474711 0.97572406 0.99159841\n",
            " 0.96972895 0.97614625 0.96795575 1.         0.99016297 0.99050072\n",
            " 0.96538039 0.98488559 0.97086887 0.94026007 0.87748037 0.83483915\n",
            " 0.85413324 0.77336823 0.77269273 0.88014017 0.84007431 0.89673225\n",
            " 0.85527316 0.83884995 0.74233725 0.82327113 0.78143207 0.6665963\n",
            " 0.7921557  0.64118044 0.68614371 0.66001013 0.65203074 0.58642236\n",
            " 0.56586169 0.66089673 0.65515494 0.70970193 0.66452757 0.69437642\n",
            " 0.69218104 0.63569197 0.65266402 0.63780292 0.7267162  0.71388162\n",
            " 0.74191506 0.75002111 0.77222832 0.83049059 0.8194292  0.8289707\n",
            " 0.8125475  0.78776492 0.75162543 0.78426074 0.77974331 0.81326522\n",
            " 0.8141096  0.79473106 0.83336148 0.85898843 0.83901883 0.85628641\n",
            " 0.87486279 0.88782403 0.90095415 0.92793211 0.948535   0.93333615\n",
            " 0.91746179 0.92544119 0.91771511 0.9483239  0.94064004 0.96635143\n",
            " 0.9563033  0.96491598 0.93032151 0.92385828]\n",
            "2 day output [[0.90976447]]\n",
            "3 day input [0.88431985 0.87836697 0.8986321  0.92582116 0.92877649 0.95676771\n",
            " 0.93869797 0.93304061 0.94950604 0.96424048 0.95512117 0.95989192\n",
            " 0.96635143 0.96246728 0.92295027 0.9598497  0.98792536 0.98594106\n",
            " 0.92531453 0.92172591 0.96474711 0.97572406 0.99159841 0.96972895\n",
            " 0.97614625 0.96795575 1.         0.99016297 0.99050072 0.96538039\n",
            " 0.98488559 0.97086887 0.94026007 0.87748037 0.83483915 0.85413324\n",
            " 0.77336823 0.77269273 0.88014017 0.84007431 0.89673225 0.85527316\n",
            " 0.83884995 0.74233725 0.82327113 0.78143207 0.6665963  0.7921557\n",
            " 0.64118044 0.68614371 0.66001013 0.65203074 0.58642236 0.56586169\n",
            " 0.66089673 0.65515494 0.70970193 0.66452757 0.69437642 0.69218104\n",
            " 0.63569197 0.65266402 0.63780292 0.7267162  0.71388162 0.74191506\n",
            " 0.75002111 0.77222832 0.83049059 0.8194292  0.8289707  0.8125475\n",
            " 0.78776492 0.75162543 0.78426074 0.77974331 0.81326522 0.8141096\n",
            " 0.79473106 0.83336148 0.85898843 0.83901883 0.85628641 0.87486279\n",
            " 0.88782403 0.90095415 0.92793211 0.948535   0.93333615 0.91746179\n",
            " 0.92544119 0.91771511 0.9483239  0.94064004 0.96635143 0.9563033\n",
            " 0.96491598 0.93032151 0.92385828 0.90976447]\n",
            "3 day output [[0.8937363]]\n",
            "4 day input [0.87836697 0.8986321  0.92582116 0.92877649 0.95676771 0.93869797\n",
            " 0.93304061 0.94950604 0.96424048 0.95512117 0.95989192 0.96635143\n",
            " 0.96246728 0.92295027 0.9598497  0.98792536 0.98594106 0.92531453\n",
            " 0.92172591 0.96474711 0.97572406 0.99159841 0.96972895 0.97614625\n",
            " 0.96795575 1.         0.99016297 0.99050072 0.96538039 0.98488559\n",
            " 0.97086887 0.94026007 0.87748037 0.83483915 0.85413324 0.77336823\n",
            " 0.77269273 0.88014017 0.84007431 0.89673225 0.85527316 0.83884995\n",
            " 0.74233725 0.82327113 0.78143207 0.6665963  0.7921557  0.64118044\n",
            " 0.68614371 0.66001013 0.65203074 0.58642236 0.56586169 0.66089673\n",
            " 0.65515494 0.70970193 0.66452757 0.69437642 0.69218104 0.63569197\n",
            " 0.65266402 0.63780292 0.7267162  0.71388162 0.74191506 0.75002111\n",
            " 0.77222832 0.83049059 0.8194292  0.8289707  0.8125475  0.78776492\n",
            " 0.75162543 0.78426074 0.77974331 0.81326522 0.8141096  0.79473106\n",
            " 0.83336148 0.85898843 0.83901883 0.85628641 0.87486279 0.88782403\n",
            " 0.90095415 0.92793211 0.948535   0.93333615 0.91746179 0.92544119\n",
            " 0.91771511 0.9483239  0.94064004 0.96635143 0.9563033  0.96491598\n",
            " 0.93032151 0.92385828 0.90976447 0.8937363 ]\n",
            "4 day output [[0.87883407]]\n",
            "5 day input [0.8986321  0.92582116 0.92877649 0.95676771 0.93869797 0.93304061\n",
            " 0.94950604 0.96424048 0.95512117 0.95989192 0.96635143 0.96246728\n",
            " 0.92295027 0.9598497  0.98792536 0.98594106 0.92531453 0.92172591\n",
            " 0.96474711 0.97572406 0.99159841 0.96972895 0.97614625 0.96795575\n",
            " 1.         0.99016297 0.99050072 0.96538039 0.98488559 0.97086887\n",
            " 0.94026007 0.87748037 0.83483915 0.85413324 0.77336823 0.77269273\n",
            " 0.88014017 0.84007431 0.89673225 0.85527316 0.83884995 0.74233725\n",
            " 0.82327113 0.78143207 0.6665963  0.7921557  0.64118044 0.68614371\n",
            " 0.66001013 0.65203074 0.58642236 0.56586169 0.66089673 0.65515494\n",
            " 0.70970193 0.66452757 0.69437642 0.69218104 0.63569197 0.65266402\n",
            " 0.63780292 0.7267162  0.71388162 0.74191506 0.75002111 0.77222832\n",
            " 0.83049059 0.8194292  0.8289707  0.8125475  0.78776492 0.75162543\n",
            " 0.78426074 0.77974331 0.81326522 0.8141096  0.79473106 0.83336148\n",
            " 0.85898843 0.83901883 0.85628641 0.87486279 0.88782403 0.90095415\n",
            " 0.92793211 0.948535   0.93333615 0.91746179 0.92544119 0.91771511\n",
            " 0.9483239  0.94064004 0.96635143 0.9563033  0.96491598 0.93032151\n",
            " 0.92385828 0.90976447 0.8937363  0.87883407]\n",
            "5 day output [[0.86625123]]\n",
            "6 day input [0.92582116 0.92877649 0.95676771 0.93869797 0.93304061 0.94950604\n",
            " 0.96424048 0.95512117 0.95989192 0.96635143 0.96246728 0.92295027\n",
            " 0.9598497  0.98792536 0.98594106 0.92531453 0.92172591 0.96474711\n",
            " 0.97572406 0.99159841 0.96972895 0.97614625 0.96795575 1.\n",
            " 0.99016297 0.99050072 0.96538039 0.98488559 0.97086887 0.94026007\n",
            " 0.87748037 0.83483915 0.85413324 0.77336823 0.77269273 0.88014017\n",
            " 0.84007431 0.89673225 0.85527316 0.83884995 0.74233725 0.82327113\n",
            " 0.78143207 0.6665963  0.7921557  0.64118044 0.68614371 0.66001013\n",
            " 0.65203074 0.58642236 0.56586169 0.66089673 0.65515494 0.70970193\n",
            " 0.66452757 0.69437642 0.69218104 0.63569197 0.65266402 0.63780292\n",
            " 0.7267162  0.71388162 0.74191506 0.75002111 0.77222832 0.83049059\n",
            " 0.8194292  0.8289707  0.8125475  0.78776492 0.75162543 0.78426074\n",
            " 0.77974331 0.81326522 0.8141096  0.79473106 0.83336148 0.85898843\n",
            " 0.83901883 0.85628641 0.87486279 0.88782403 0.90095415 0.92793211\n",
            " 0.948535   0.93333615 0.91746179 0.92544119 0.91771511 0.9483239\n",
            " 0.94064004 0.96635143 0.9563033  0.96491598 0.93032151 0.92385828\n",
            " 0.90976447 0.8937363  0.87883407 0.86625123]\n",
            "6 day output [[0.85627854]]\n",
            "7 day input [0.92877649 0.95676771 0.93869797 0.93304061 0.94950604 0.96424048\n",
            " 0.95512117 0.95989192 0.96635143 0.96246728 0.92295027 0.9598497\n",
            " 0.98792536 0.98594106 0.92531453 0.92172591 0.96474711 0.97572406\n",
            " 0.99159841 0.96972895 0.97614625 0.96795575 1.         0.99016297\n",
            " 0.99050072 0.96538039 0.98488559 0.97086887 0.94026007 0.87748037\n",
            " 0.83483915 0.85413324 0.77336823 0.77269273 0.88014017 0.84007431\n",
            " 0.89673225 0.85527316 0.83884995 0.74233725 0.82327113 0.78143207\n",
            " 0.6665963  0.7921557  0.64118044 0.68614371 0.66001013 0.65203074\n",
            " 0.58642236 0.56586169 0.66089673 0.65515494 0.70970193 0.66452757\n",
            " 0.69437642 0.69218104 0.63569197 0.65266402 0.63780292 0.7267162\n",
            " 0.71388162 0.74191506 0.75002111 0.77222832 0.83049059 0.8194292\n",
            " 0.8289707  0.8125475  0.78776492 0.75162543 0.78426074 0.77974331\n",
            " 0.81326522 0.8141096  0.79473106 0.83336148 0.85898843 0.83901883\n",
            " 0.85628641 0.87486279 0.88782403 0.90095415 0.92793211 0.948535\n",
            " 0.93333615 0.91746179 0.92544119 0.91771511 0.9483239  0.94064004\n",
            " 0.96635143 0.9563033  0.96491598 0.93032151 0.92385828 0.90976447\n",
            " 0.8937363  0.87883407 0.86625123 0.85627854]\n",
            "7 day output [[0.8487938]]\n",
            "8 day input [0.95676771 0.93869797 0.93304061 0.94950604 0.96424048 0.95512117\n",
            " 0.95989192 0.96635143 0.96246728 0.92295027 0.9598497  0.98792536\n",
            " 0.98594106 0.92531453 0.92172591 0.96474711 0.97572406 0.99159841\n",
            " 0.96972895 0.97614625 0.96795575 1.         0.99016297 0.99050072\n",
            " 0.96538039 0.98488559 0.97086887 0.94026007 0.87748037 0.83483915\n",
            " 0.85413324 0.77336823 0.77269273 0.88014017 0.84007431 0.89673225\n",
            " 0.85527316 0.83884995 0.74233725 0.82327113 0.78143207 0.6665963\n",
            " 0.7921557  0.64118044 0.68614371 0.66001013 0.65203074 0.58642236\n",
            " 0.56586169 0.66089673 0.65515494 0.70970193 0.66452757 0.69437642\n",
            " 0.69218104 0.63569197 0.65266402 0.63780292 0.7267162  0.71388162\n",
            " 0.74191506 0.75002111 0.77222832 0.83049059 0.8194292  0.8289707\n",
            " 0.8125475  0.78776492 0.75162543 0.78426074 0.77974331 0.81326522\n",
            " 0.8141096  0.79473106 0.83336148 0.85898843 0.83901883 0.85628641\n",
            " 0.87486279 0.88782403 0.90095415 0.92793211 0.948535   0.93333615\n",
            " 0.91746179 0.92544119 0.91771511 0.9483239  0.94064004 0.96635143\n",
            " 0.9563033  0.96491598 0.93032151 0.92385828 0.90976447 0.8937363\n",
            " 0.87883407 0.86625123 0.85627854 0.8487938 ]\n",
            "8 day output [[0.8434534]]\n",
            "9 day input [0.93869797 0.93304061 0.94950604 0.96424048 0.95512117 0.95989192\n",
            " 0.96635143 0.96246728 0.92295027 0.9598497  0.98792536 0.98594106\n",
            " 0.92531453 0.92172591 0.96474711 0.97572406 0.99159841 0.96972895\n",
            " 0.97614625 0.96795575 1.         0.99016297 0.99050072 0.96538039\n",
            " 0.98488559 0.97086887 0.94026007 0.87748037 0.83483915 0.85413324\n",
            " 0.77336823 0.77269273 0.88014017 0.84007431 0.89673225 0.85527316\n",
            " 0.83884995 0.74233725 0.82327113 0.78143207 0.6665963  0.7921557\n",
            " 0.64118044 0.68614371 0.66001013 0.65203074 0.58642236 0.56586169\n",
            " 0.66089673 0.65515494 0.70970193 0.66452757 0.69437642 0.69218104\n",
            " 0.63569197 0.65266402 0.63780292 0.7267162  0.71388162 0.74191506\n",
            " 0.75002111 0.77222832 0.83049059 0.8194292  0.8289707  0.8125475\n",
            " 0.78776492 0.75162543 0.78426074 0.77974331 0.81326522 0.8141096\n",
            " 0.79473106 0.83336148 0.85898843 0.83901883 0.85628641 0.87486279\n",
            " 0.88782403 0.90095415 0.92793211 0.948535   0.93333615 0.91746179\n",
            " 0.92544119 0.91771511 0.9483239  0.94064004 0.96635143 0.9563033\n",
            " 0.96491598 0.93032151 0.92385828 0.90976447 0.8937363  0.87883407\n",
            " 0.86625123 0.85627854 0.8487938  0.84345341]\n",
            "9 day output [[0.8397818]]\n",
            "10 day input [0.93304061 0.94950604 0.96424048 0.95512117 0.95989192 0.96635143\n",
            " 0.96246728 0.92295027 0.9598497  0.98792536 0.98594106 0.92531453\n",
            " 0.92172591 0.96474711 0.97572406 0.99159841 0.96972895 0.97614625\n",
            " 0.96795575 1.         0.99016297 0.99050072 0.96538039 0.98488559\n",
            " 0.97086887 0.94026007 0.87748037 0.83483915 0.85413324 0.77336823\n",
            " 0.77269273 0.88014017 0.84007431 0.89673225 0.85527316 0.83884995\n",
            " 0.74233725 0.82327113 0.78143207 0.6665963  0.7921557  0.64118044\n",
            " 0.68614371 0.66001013 0.65203074 0.58642236 0.56586169 0.66089673\n",
            " 0.65515494 0.70970193 0.66452757 0.69437642 0.69218104 0.63569197\n",
            " 0.65266402 0.63780292 0.7267162  0.71388162 0.74191506 0.75002111\n",
            " 0.77222832 0.83049059 0.8194292  0.8289707  0.8125475  0.78776492\n",
            " 0.75162543 0.78426074 0.77974331 0.81326522 0.8141096  0.79473106\n",
            " 0.83336148 0.85898843 0.83901883 0.85628641 0.87486279 0.88782403\n",
            " 0.90095415 0.92793211 0.948535   0.93333615 0.91746179 0.92544119\n",
            " 0.91771511 0.9483239  0.94064004 0.96635143 0.9563033  0.96491598\n",
            " 0.93032151 0.92385828 0.90976447 0.8937363  0.87883407 0.86625123\n",
            " 0.85627854 0.8487938  0.84345341 0.83978182]\n",
            "10 day output [[0.83724785]]\n",
            "11 day input [0.94950604 0.96424048 0.95512117 0.95989192 0.96635143 0.96246728\n",
            " 0.92295027 0.9598497  0.98792536 0.98594106 0.92531453 0.92172591\n",
            " 0.96474711 0.97572406 0.99159841 0.96972895 0.97614625 0.96795575\n",
            " 1.         0.99016297 0.99050072 0.96538039 0.98488559 0.97086887\n",
            " 0.94026007 0.87748037 0.83483915 0.85413324 0.77336823 0.77269273\n",
            " 0.88014017 0.84007431 0.89673225 0.85527316 0.83884995 0.74233725\n",
            " 0.82327113 0.78143207 0.6665963  0.7921557  0.64118044 0.68614371\n",
            " 0.66001013 0.65203074 0.58642236 0.56586169 0.66089673 0.65515494\n",
            " 0.70970193 0.66452757 0.69437642 0.69218104 0.63569197 0.65266402\n",
            " 0.63780292 0.7267162  0.71388162 0.74191506 0.75002111 0.77222832\n",
            " 0.83049059 0.8194292  0.8289707  0.8125475  0.78776492 0.75162543\n",
            " 0.78426074 0.77974331 0.81326522 0.8141096  0.79473106 0.83336148\n",
            " 0.85898843 0.83901883 0.85628641 0.87486279 0.88782403 0.90095415\n",
            " 0.92793211 0.948535   0.93333615 0.91746179 0.92544119 0.91771511\n",
            " 0.9483239  0.94064004 0.96635143 0.9563033  0.96491598 0.93032151\n",
            " 0.92385828 0.90976447 0.8937363  0.87883407 0.86625123 0.85627854\n",
            " 0.8487938  0.84345341 0.83978182 0.83724785]\n",
            "11 day output [[0.8353362]]\n",
            "12 day input [0.96424048 0.95512117 0.95989192 0.96635143 0.96246728 0.92295027\n",
            " 0.9598497  0.98792536 0.98594106 0.92531453 0.92172591 0.96474711\n",
            " 0.97572406 0.99159841 0.96972895 0.97614625 0.96795575 1.\n",
            " 0.99016297 0.99050072 0.96538039 0.98488559 0.97086887 0.94026007\n",
            " 0.87748037 0.83483915 0.85413324 0.77336823 0.77269273 0.88014017\n",
            " 0.84007431 0.89673225 0.85527316 0.83884995 0.74233725 0.82327113\n",
            " 0.78143207 0.6665963  0.7921557  0.64118044 0.68614371 0.66001013\n",
            " 0.65203074 0.58642236 0.56586169 0.66089673 0.65515494 0.70970193\n",
            " 0.66452757 0.69437642 0.69218104 0.63569197 0.65266402 0.63780292\n",
            " 0.7267162  0.71388162 0.74191506 0.75002111 0.77222832 0.83049059\n",
            " 0.8194292  0.8289707  0.8125475  0.78776492 0.75162543 0.78426074\n",
            " 0.77974331 0.81326522 0.8141096  0.79473106 0.83336148 0.85898843\n",
            " 0.83901883 0.85628641 0.87486279 0.88782403 0.90095415 0.92793211\n",
            " 0.948535   0.93333615 0.91746179 0.92544119 0.91771511 0.9483239\n",
            " 0.94064004 0.96635143 0.9563033  0.96491598 0.93032151 0.92385828\n",
            " 0.90976447 0.8937363  0.87883407 0.86625123 0.85627854 0.8487938\n",
            " 0.84345341 0.83978182 0.83724785 0.83533621]\n",
            "12 day output [[0.8336059]]\n",
            "13 day input [0.95512117 0.95989192 0.96635143 0.96246728 0.92295027 0.9598497\n",
            " 0.98792536 0.98594106 0.92531453 0.92172591 0.96474711 0.97572406\n",
            " 0.99159841 0.96972895 0.97614625 0.96795575 1.         0.99016297\n",
            " 0.99050072 0.96538039 0.98488559 0.97086887 0.94026007 0.87748037\n",
            " 0.83483915 0.85413324 0.77336823 0.77269273 0.88014017 0.84007431\n",
            " 0.89673225 0.85527316 0.83884995 0.74233725 0.82327113 0.78143207\n",
            " 0.6665963  0.7921557  0.64118044 0.68614371 0.66001013 0.65203074\n",
            " 0.58642236 0.56586169 0.66089673 0.65515494 0.70970193 0.66452757\n",
            " 0.69437642 0.69218104 0.63569197 0.65266402 0.63780292 0.7267162\n",
            " 0.71388162 0.74191506 0.75002111 0.77222832 0.83049059 0.8194292\n",
            " 0.8289707  0.8125475  0.78776492 0.75162543 0.78426074 0.77974331\n",
            " 0.81326522 0.8141096  0.79473106 0.83336148 0.85898843 0.83901883\n",
            " 0.85628641 0.87486279 0.88782403 0.90095415 0.92793211 0.948535\n",
            " 0.93333615 0.91746179 0.92544119 0.91771511 0.9483239  0.94064004\n",
            " 0.96635143 0.9563033  0.96491598 0.93032151 0.92385828 0.90976447\n",
            " 0.8937363  0.87883407 0.86625123 0.85627854 0.8487938  0.84345341\n",
            " 0.83978182 0.83724785 0.83533621 0.83360589]\n",
            "13 day output [[0.83172804]]\n",
            "14 day input [0.95989192 0.96635143 0.96246728 0.92295027 0.9598497  0.98792536\n",
            " 0.98594106 0.92531453 0.92172591 0.96474711 0.97572406 0.99159841\n",
            " 0.96972895 0.97614625 0.96795575 1.         0.99016297 0.99050072\n",
            " 0.96538039 0.98488559 0.97086887 0.94026007 0.87748037 0.83483915\n",
            " 0.85413324 0.77336823 0.77269273 0.88014017 0.84007431 0.89673225\n",
            " 0.85527316 0.83884995 0.74233725 0.82327113 0.78143207 0.6665963\n",
            " 0.7921557  0.64118044 0.68614371 0.66001013 0.65203074 0.58642236\n",
            " 0.56586169 0.66089673 0.65515494 0.70970193 0.66452757 0.69437642\n",
            " 0.69218104 0.63569197 0.65266402 0.63780292 0.7267162  0.71388162\n",
            " 0.74191506 0.75002111 0.77222832 0.83049059 0.8194292  0.8289707\n",
            " 0.8125475  0.78776492 0.75162543 0.78426074 0.77974331 0.81326522\n",
            " 0.8141096  0.79473106 0.83336148 0.85898843 0.83901883 0.85628641\n",
            " 0.87486279 0.88782403 0.90095415 0.92793211 0.948535   0.93333615\n",
            " 0.91746179 0.92544119 0.91771511 0.9483239  0.94064004 0.96635143\n",
            " 0.9563033  0.96491598 0.93032151 0.92385828 0.90976447 0.8937363\n",
            " 0.87883407 0.86625123 0.85627854 0.8487938  0.84345341 0.83978182\n",
            " 0.83724785 0.83533621 0.83360589 0.83172804]\n",
            "14 day output [[0.82949835]]\n",
            "15 day input [0.96635143 0.96246728 0.92295027 0.9598497  0.98792536 0.98594106\n",
            " 0.92531453 0.92172591 0.96474711 0.97572406 0.99159841 0.96972895\n",
            " 0.97614625 0.96795575 1.         0.99016297 0.99050072 0.96538039\n",
            " 0.98488559 0.97086887 0.94026007 0.87748037 0.83483915 0.85413324\n",
            " 0.77336823 0.77269273 0.88014017 0.84007431 0.89673225 0.85527316\n",
            " 0.83884995 0.74233725 0.82327113 0.78143207 0.6665963  0.7921557\n",
            " 0.64118044 0.68614371 0.66001013 0.65203074 0.58642236 0.56586169\n",
            " 0.66089673 0.65515494 0.70970193 0.66452757 0.69437642 0.69218104\n",
            " 0.63569197 0.65266402 0.63780292 0.7267162  0.71388162 0.74191506\n",
            " 0.75002111 0.77222832 0.83049059 0.8194292  0.8289707  0.8125475\n",
            " 0.78776492 0.75162543 0.78426074 0.77974331 0.81326522 0.8141096\n",
            " 0.79473106 0.83336148 0.85898843 0.83901883 0.85628641 0.87486279\n",
            " 0.88782403 0.90095415 0.92793211 0.948535   0.93333615 0.91746179\n",
            " 0.92544119 0.91771511 0.9483239  0.94064004 0.96635143 0.9563033\n",
            " 0.96491598 0.93032151 0.92385828 0.90976447 0.8937363  0.87883407\n",
            " 0.86625123 0.85627854 0.8487938  0.84345341 0.83978182 0.83724785\n",
            " 0.83533621 0.83360589 0.83172804 0.82949835]\n",
            "15 day output [[0.82683015]]\n",
            "16 day input [0.96246728 0.92295027 0.9598497  0.98792536 0.98594106 0.92531453\n",
            " 0.92172591 0.96474711 0.97572406 0.99159841 0.96972895 0.97614625\n",
            " 0.96795575 1.         0.99016297 0.99050072 0.96538039 0.98488559\n",
            " 0.97086887 0.94026007 0.87748037 0.83483915 0.85413324 0.77336823\n",
            " 0.77269273 0.88014017 0.84007431 0.89673225 0.85527316 0.83884995\n",
            " 0.74233725 0.82327113 0.78143207 0.6665963  0.7921557  0.64118044\n",
            " 0.68614371 0.66001013 0.65203074 0.58642236 0.56586169 0.66089673\n",
            " 0.65515494 0.70970193 0.66452757 0.69437642 0.69218104 0.63569197\n",
            " 0.65266402 0.63780292 0.7267162  0.71388162 0.74191506 0.75002111\n",
            " 0.77222832 0.83049059 0.8194292  0.8289707  0.8125475  0.78776492\n",
            " 0.75162543 0.78426074 0.77974331 0.81326522 0.8141096  0.79473106\n",
            " 0.83336148 0.85898843 0.83901883 0.85628641 0.87486279 0.88782403\n",
            " 0.90095415 0.92793211 0.948535   0.93333615 0.91746179 0.92544119\n",
            " 0.91771511 0.9483239  0.94064004 0.96635143 0.9563033  0.96491598\n",
            " 0.93032151 0.92385828 0.90976447 0.8937363  0.87883407 0.86625123\n",
            " 0.85627854 0.8487938  0.84345341 0.83978182 0.83724785 0.83533621\n",
            " 0.83360589 0.83172804 0.82949835 0.82683015]\n",
            "16 day output [[0.82373434]]\n",
            "17 day input [0.92295027 0.9598497  0.98792536 0.98594106 0.92531453 0.92172591\n",
            " 0.96474711 0.97572406 0.99159841 0.96972895 0.97614625 0.96795575\n",
            " 1.         0.99016297 0.99050072 0.96538039 0.98488559 0.97086887\n",
            " 0.94026007 0.87748037 0.83483915 0.85413324 0.77336823 0.77269273\n",
            " 0.88014017 0.84007431 0.89673225 0.85527316 0.83884995 0.74233725\n",
            " 0.82327113 0.78143207 0.6665963  0.7921557  0.64118044 0.68614371\n",
            " 0.66001013 0.65203074 0.58642236 0.56586169 0.66089673 0.65515494\n",
            " 0.70970193 0.66452757 0.69437642 0.69218104 0.63569197 0.65266402\n",
            " 0.63780292 0.7267162  0.71388162 0.74191506 0.75002111 0.77222832\n",
            " 0.83049059 0.8194292  0.8289707  0.8125475  0.78776492 0.75162543\n",
            " 0.78426074 0.77974331 0.81326522 0.8141096  0.79473106 0.83336148\n",
            " 0.85898843 0.83901883 0.85628641 0.87486279 0.88782403 0.90095415\n",
            " 0.92793211 0.948535   0.93333615 0.91746179 0.92544119 0.91771511\n",
            " 0.9483239  0.94064004 0.96635143 0.9563033  0.96491598 0.93032151\n",
            " 0.92385828 0.90976447 0.8937363  0.87883407 0.86625123 0.85627854\n",
            " 0.8487938  0.84345341 0.83978182 0.83724785 0.83533621 0.83360589\n",
            " 0.83172804 0.82949835 0.82683015 0.82373434]\n",
            "17 day output [[0.8202903]]\n",
            "18 day input [0.9598497  0.98792536 0.98594106 0.92531453 0.92172591 0.96474711\n",
            " 0.97572406 0.99159841 0.96972895 0.97614625 0.96795575 1.\n",
            " 0.99016297 0.99050072 0.96538039 0.98488559 0.97086887 0.94026007\n",
            " 0.87748037 0.83483915 0.85413324 0.77336823 0.77269273 0.88014017\n",
            " 0.84007431 0.89673225 0.85527316 0.83884995 0.74233725 0.82327113\n",
            " 0.78143207 0.6665963  0.7921557  0.64118044 0.68614371 0.66001013\n",
            " 0.65203074 0.58642236 0.56586169 0.66089673 0.65515494 0.70970193\n",
            " 0.66452757 0.69437642 0.69218104 0.63569197 0.65266402 0.63780292\n",
            " 0.7267162  0.71388162 0.74191506 0.75002111 0.77222832 0.83049059\n",
            " 0.8194292  0.8289707  0.8125475  0.78776492 0.75162543 0.78426074\n",
            " 0.77974331 0.81326522 0.8141096  0.79473106 0.83336148 0.85898843\n",
            " 0.83901883 0.85628641 0.87486279 0.88782403 0.90095415 0.92793211\n",
            " 0.948535   0.93333615 0.91746179 0.92544119 0.91771511 0.9483239\n",
            " 0.94064004 0.96635143 0.9563033  0.96491598 0.93032151 0.92385828\n",
            " 0.90976447 0.8937363  0.87883407 0.86625123 0.85627854 0.8487938\n",
            " 0.84345341 0.83978182 0.83724785 0.83533621 0.83360589 0.83172804\n",
            " 0.82949835 0.82683015 0.82373434 0.82029033]\n",
            "18 day output [[0.8166141]]\n",
            "19 day input [0.98792536 0.98594106 0.92531453 0.92172591 0.96474711 0.97572406\n",
            " 0.99159841 0.96972895 0.97614625 0.96795575 1.         0.99016297\n",
            " 0.99050072 0.96538039 0.98488559 0.97086887 0.94026007 0.87748037\n",
            " 0.83483915 0.85413324 0.77336823 0.77269273 0.88014017 0.84007431\n",
            " 0.89673225 0.85527316 0.83884995 0.74233725 0.82327113 0.78143207\n",
            " 0.6665963  0.7921557  0.64118044 0.68614371 0.66001013 0.65203074\n",
            " 0.58642236 0.56586169 0.66089673 0.65515494 0.70970193 0.66452757\n",
            " 0.69437642 0.69218104 0.63569197 0.65266402 0.63780292 0.7267162\n",
            " 0.71388162 0.74191506 0.75002111 0.77222832 0.83049059 0.8194292\n",
            " 0.8289707  0.8125475  0.78776492 0.75162543 0.78426074 0.77974331\n",
            " 0.81326522 0.8141096  0.79473106 0.83336148 0.85898843 0.83901883\n",
            " 0.85628641 0.87486279 0.88782403 0.90095415 0.92793211 0.948535\n",
            " 0.93333615 0.91746179 0.92544119 0.91771511 0.9483239  0.94064004\n",
            " 0.96635143 0.9563033  0.96491598 0.93032151 0.92385828 0.90976447\n",
            " 0.8937363  0.87883407 0.86625123 0.85627854 0.8487938  0.84345341\n",
            " 0.83978182 0.83724785 0.83533621 0.83360589 0.83172804 0.82949835\n",
            " 0.82683015 0.82373434 0.82029033 0.81661409]\n",
            "19 day output [[0.8128327]]\n",
            "20 day input [0.98594106 0.92531453 0.92172591 0.96474711 0.97572406 0.99159841\n",
            " 0.96972895 0.97614625 0.96795575 1.         0.99016297 0.99050072\n",
            " 0.96538039 0.98488559 0.97086887 0.94026007 0.87748037 0.83483915\n",
            " 0.85413324 0.77336823 0.77269273 0.88014017 0.84007431 0.89673225\n",
            " 0.85527316 0.83884995 0.74233725 0.82327113 0.78143207 0.6665963\n",
            " 0.7921557  0.64118044 0.68614371 0.66001013 0.65203074 0.58642236\n",
            " 0.56586169 0.66089673 0.65515494 0.70970193 0.66452757 0.69437642\n",
            " 0.69218104 0.63569197 0.65266402 0.63780292 0.7267162  0.71388162\n",
            " 0.74191506 0.75002111 0.77222832 0.83049059 0.8194292  0.8289707\n",
            " 0.8125475  0.78776492 0.75162543 0.78426074 0.77974331 0.81326522\n",
            " 0.8141096  0.79473106 0.83336148 0.85898843 0.83901883 0.85628641\n",
            " 0.87486279 0.88782403 0.90095415 0.92793211 0.948535   0.93333615\n",
            " 0.91746179 0.92544119 0.91771511 0.9483239  0.94064004 0.96635143\n",
            " 0.9563033  0.96491598 0.93032151 0.92385828 0.90976447 0.8937363\n",
            " 0.87883407 0.86625123 0.85627854 0.8487938  0.84345341 0.83978182\n",
            " 0.83724785 0.83533621 0.83360589 0.83172804 0.82949835 0.82683015\n",
            " 0.82373434 0.82029033 0.81661409 0.81283271]\n",
            "20 day output [[0.8090618]]\n",
            "21 day input [0.92531453 0.92172591 0.96474711 0.97572406 0.99159841 0.96972895\n",
            " 0.97614625 0.96795575 1.         0.99016297 0.99050072 0.96538039\n",
            " 0.98488559 0.97086887 0.94026007 0.87748037 0.83483915 0.85413324\n",
            " 0.77336823 0.77269273 0.88014017 0.84007431 0.89673225 0.85527316\n",
            " 0.83884995 0.74233725 0.82327113 0.78143207 0.6665963  0.7921557\n",
            " 0.64118044 0.68614371 0.66001013 0.65203074 0.58642236 0.56586169\n",
            " 0.66089673 0.65515494 0.70970193 0.66452757 0.69437642 0.69218104\n",
            " 0.63569197 0.65266402 0.63780292 0.7267162  0.71388162 0.74191506\n",
            " 0.75002111 0.77222832 0.83049059 0.8194292  0.8289707  0.8125475\n",
            " 0.78776492 0.75162543 0.78426074 0.77974331 0.81326522 0.8141096\n",
            " 0.79473106 0.83336148 0.85898843 0.83901883 0.85628641 0.87486279\n",
            " 0.88782403 0.90095415 0.92793211 0.948535   0.93333615 0.91746179\n",
            " 0.92544119 0.91771511 0.9483239  0.94064004 0.96635143 0.9563033\n",
            " 0.96491598 0.93032151 0.92385828 0.90976447 0.8937363  0.87883407\n",
            " 0.86625123 0.85627854 0.8487938  0.84345341 0.83978182 0.83724785\n",
            " 0.83533621 0.83360589 0.83172804 0.82949835 0.82683015 0.82373434\n",
            " 0.82029033 0.81661409 0.81283271 0.80906183]\n",
            "21 day output [[0.80539227]]\n",
            "22 day input [0.92172591 0.96474711 0.97572406 0.99159841 0.96972895 0.97614625\n",
            " 0.96795575 1.         0.99016297 0.99050072 0.96538039 0.98488559\n",
            " 0.97086887 0.94026007 0.87748037 0.83483915 0.85413324 0.77336823\n",
            " 0.77269273 0.88014017 0.84007431 0.89673225 0.85527316 0.83884995\n",
            " 0.74233725 0.82327113 0.78143207 0.6665963  0.7921557  0.64118044\n",
            " 0.68614371 0.66001013 0.65203074 0.58642236 0.56586169 0.66089673\n",
            " 0.65515494 0.70970193 0.66452757 0.69437642 0.69218104 0.63569197\n",
            " 0.65266402 0.63780292 0.7267162  0.71388162 0.74191506 0.75002111\n",
            " 0.77222832 0.83049059 0.8194292  0.8289707  0.8125475  0.78776492\n",
            " 0.75162543 0.78426074 0.77974331 0.81326522 0.8141096  0.79473106\n",
            " 0.83336148 0.85898843 0.83901883 0.85628641 0.87486279 0.88782403\n",
            " 0.90095415 0.92793211 0.948535   0.93333615 0.91746179 0.92544119\n",
            " 0.91771511 0.9483239  0.94064004 0.96635143 0.9563033  0.96491598\n",
            " 0.93032151 0.92385828 0.90976447 0.8937363  0.87883407 0.86625123\n",
            " 0.85627854 0.8487938  0.84345341 0.83978182 0.83724785 0.83533621\n",
            " 0.83360589 0.83172804 0.82949835 0.82683015 0.82373434 0.82029033\n",
            " 0.81661409 0.81283271 0.80906183 0.80539227]\n",
            "22 day output [[0.8018828]]\n",
            "23 day input [0.96474711 0.97572406 0.99159841 0.96972895 0.97614625 0.96795575\n",
            " 1.         0.99016297 0.99050072 0.96538039 0.98488559 0.97086887\n",
            " 0.94026007 0.87748037 0.83483915 0.85413324 0.77336823 0.77269273\n",
            " 0.88014017 0.84007431 0.89673225 0.85527316 0.83884995 0.74233725\n",
            " 0.82327113 0.78143207 0.6665963  0.7921557  0.64118044 0.68614371\n",
            " 0.66001013 0.65203074 0.58642236 0.56586169 0.66089673 0.65515494\n",
            " 0.70970193 0.66452757 0.69437642 0.69218104 0.63569197 0.65266402\n",
            " 0.63780292 0.7267162  0.71388162 0.74191506 0.75002111 0.77222832\n",
            " 0.83049059 0.8194292  0.8289707  0.8125475  0.78776492 0.75162543\n",
            " 0.78426074 0.77974331 0.81326522 0.8141096  0.79473106 0.83336148\n",
            " 0.85898843 0.83901883 0.85628641 0.87486279 0.88782403 0.90095415\n",
            " 0.92793211 0.948535   0.93333615 0.91746179 0.92544119 0.91771511\n",
            " 0.9483239  0.94064004 0.96635143 0.9563033  0.96491598 0.93032151\n",
            " 0.92385828 0.90976447 0.8937363  0.87883407 0.86625123 0.85627854\n",
            " 0.8487938  0.84345341 0.83978182 0.83724785 0.83533621 0.83360589\n",
            " 0.83172804 0.82949835 0.82683015 0.82373434 0.82029033 0.81661409\n",
            " 0.81283271 0.80906183 0.80539227 0.8018828 ]\n",
            "23 day output [[0.7985605]]\n",
            "24 day input [0.97572406 0.99159841 0.96972895 0.97614625 0.96795575 1.\n",
            " 0.99016297 0.99050072 0.96538039 0.98488559 0.97086887 0.94026007\n",
            " 0.87748037 0.83483915 0.85413324 0.77336823 0.77269273 0.88014017\n",
            " 0.84007431 0.89673225 0.85527316 0.83884995 0.74233725 0.82327113\n",
            " 0.78143207 0.6665963  0.7921557  0.64118044 0.68614371 0.66001013\n",
            " 0.65203074 0.58642236 0.56586169 0.66089673 0.65515494 0.70970193\n",
            " 0.66452757 0.69437642 0.69218104 0.63569197 0.65266402 0.63780292\n",
            " 0.7267162  0.71388162 0.74191506 0.75002111 0.77222832 0.83049059\n",
            " 0.8194292  0.8289707  0.8125475  0.78776492 0.75162543 0.78426074\n",
            " 0.77974331 0.81326522 0.8141096  0.79473106 0.83336148 0.85898843\n",
            " 0.83901883 0.85628641 0.87486279 0.88782403 0.90095415 0.92793211\n",
            " 0.948535   0.93333615 0.91746179 0.92544119 0.91771511 0.9483239\n",
            " 0.94064004 0.96635143 0.9563033  0.96491598 0.93032151 0.92385828\n",
            " 0.90976447 0.8937363  0.87883407 0.86625123 0.85627854 0.8487938\n",
            " 0.84345341 0.83978182 0.83724785 0.83533621 0.83360589 0.83172804\n",
            " 0.82949835 0.82683015 0.82373434 0.82029033 0.81661409 0.81283271\n",
            " 0.80906183 0.80539227 0.8018828  0.7985605 ]\n",
            "24 day output [[0.79542464]]\n",
            "25 day input [0.99159841 0.96972895 0.97614625 0.96795575 1.         0.99016297\n",
            " 0.99050072 0.96538039 0.98488559 0.97086887 0.94026007 0.87748037\n",
            " 0.83483915 0.85413324 0.77336823 0.77269273 0.88014017 0.84007431\n",
            " 0.89673225 0.85527316 0.83884995 0.74233725 0.82327113 0.78143207\n",
            " 0.6665963  0.7921557  0.64118044 0.68614371 0.66001013 0.65203074\n",
            " 0.58642236 0.56586169 0.66089673 0.65515494 0.70970193 0.66452757\n",
            " 0.69437642 0.69218104 0.63569197 0.65266402 0.63780292 0.7267162\n",
            " 0.71388162 0.74191506 0.75002111 0.77222832 0.83049059 0.8194292\n",
            " 0.8289707  0.8125475  0.78776492 0.75162543 0.78426074 0.77974331\n",
            " 0.81326522 0.8141096  0.79473106 0.83336148 0.85898843 0.83901883\n",
            " 0.85628641 0.87486279 0.88782403 0.90095415 0.92793211 0.948535\n",
            " 0.93333615 0.91746179 0.92544119 0.91771511 0.9483239  0.94064004\n",
            " 0.96635143 0.9563033  0.96491598 0.93032151 0.92385828 0.90976447\n",
            " 0.8937363  0.87883407 0.86625123 0.85627854 0.8487938  0.84345341\n",
            " 0.83978182 0.83724785 0.83533621 0.83360589 0.83172804 0.82949835\n",
            " 0.82683015 0.82373434 0.82029033 0.81661409 0.81283271 0.80906183\n",
            " 0.80539227 0.8018828  0.7985605  0.79542464]\n",
            "25 day output [[0.79245305]]\n",
            "26 day input [0.96972895 0.97614625 0.96795575 1.         0.99016297 0.99050072\n",
            " 0.96538039 0.98488559 0.97086887 0.94026007 0.87748037 0.83483915\n",
            " 0.85413324 0.77336823 0.77269273 0.88014017 0.84007431 0.89673225\n",
            " 0.85527316 0.83884995 0.74233725 0.82327113 0.78143207 0.6665963\n",
            " 0.7921557  0.64118044 0.68614371 0.66001013 0.65203074 0.58642236\n",
            " 0.56586169 0.66089673 0.65515494 0.70970193 0.66452757 0.69437642\n",
            " 0.69218104 0.63569197 0.65266402 0.63780292 0.7267162  0.71388162\n",
            " 0.74191506 0.75002111 0.77222832 0.83049059 0.8194292  0.8289707\n",
            " 0.8125475  0.78776492 0.75162543 0.78426074 0.77974331 0.81326522\n",
            " 0.8141096  0.79473106 0.83336148 0.85898843 0.83901883 0.85628641\n",
            " 0.87486279 0.88782403 0.90095415 0.92793211 0.948535   0.93333615\n",
            " 0.91746179 0.92544119 0.91771511 0.9483239  0.94064004 0.96635143\n",
            " 0.9563033  0.96491598 0.93032151 0.92385828 0.90976447 0.8937363\n",
            " 0.87883407 0.86625123 0.85627854 0.8487938  0.84345341 0.83978182\n",
            " 0.83724785 0.83533621 0.83360589 0.83172804 0.82949835 0.82683015\n",
            " 0.82373434 0.82029033 0.81661409 0.81283271 0.80906183 0.80539227\n",
            " 0.8018828  0.7985605  0.79542464 0.79245305]\n",
            "26 day output [[0.7896111]]\n",
            "27 day input [0.97614625 0.96795575 1.         0.99016297 0.99050072 0.96538039\n",
            " 0.98488559 0.97086887 0.94026007 0.87748037 0.83483915 0.85413324\n",
            " 0.77336823 0.77269273 0.88014017 0.84007431 0.89673225 0.85527316\n",
            " 0.83884995 0.74233725 0.82327113 0.78143207 0.6665963  0.7921557\n",
            " 0.64118044 0.68614371 0.66001013 0.65203074 0.58642236 0.56586169\n",
            " 0.66089673 0.65515494 0.70970193 0.66452757 0.69437642 0.69218104\n",
            " 0.63569197 0.65266402 0.63780292 0.7267162  0.71388162 0.74191506\n",
            " 0.75002111 0.77222832 0.83049059 0.8194292  0.8289707  0.8125475\n",
            " 0.78776492 0.75162543 0.78426074 0.77974331 0.81326522 0.8141096\n",
            " 0.79473106 0.83336148 0.85898843 0.83901883 0.85628641 0.87486279\n",
            " 0.88782403 0.90095415 0.92793211 0.948535   0.93333615 0.91746179\n",
            " 0.92544119 0.91771511 0.9483239  0.94064004 0.96635143 0.9563033\n",
            " 0.96491598 0.93032151 0.92385828 0.90976447 0.8937363  0.87883407\n",
            " 0.86625123 0.85627854 0.8487938  0.84345341 0.83978182 0.83724785\n",
            " 0.83533621 0.83360589 0.83172804 0.82949835 0.82683015 0.82373434\n",
            " 0.82029033 0.81661409 0.81283271 0.80906183 0.80539227 0.8018828\n",
            " 0.7985605  0.79542464 0.79245305 0.7896111 ]\n",
            "27 day output [[0.78685915]]\n",
            "28 day input [0.96795575 1.         0.99016297 0.99050072 0.96538039 0.98488559\n",
            " 0.97086887 0.94026007 0.87748037 0.83483915 0.85413324 0.77336823\n",
            " 0.77269273 0.88014017 0.84007431 0.89673225 0.85527316 0.83884995\n",
            " 0.74233725 0.82327113 0.78143207 0.6665963  0.7921557  0.64118044\n",
            " 0.68614371 0.66001013 0.65203074 0.58642236 0.56586169 0.66089673\n",
            " 0.65515494 0.70970193 0.66452757 0.69437642 0.69218104 0.63569197\n",
            " 0.65266402 0.63780292 0.7267162  0.71388162 0.74191506 0.75002111\n",
            " 0.77222832 0.83049059 0.8194292  0.8289707  0.8125475  0.78776492\n",
            " 0.75162543 0.78426074 0.77974331 0.81326522 0.8141096  0.79473106\n",
            " 0.83336148 0.85898843 0.83901883 0.85628641 0.87486279 0.88782403\n",
            " 0.90095415 0.92793211 0.948535   0.93333615 0.91746179 0.92544119\n",
            " 0.91771511 0.9483239  0.94064004 0.96635143 0.9563033  0.96491598\n",
            " 0.93032151 0.92385828 0.90976447 0.8937363  0.87883407 0.86625123\n",
            " 0.85627854 0.8487938  0.84345341 0.83978182 0.83724785 0.83533621\n",
            " 0.83360589 0.83172804 0.82949835 0.82683015 0.82373434 0.82029033\n",
            " 0.81661409 0.81283271 0.80906183 0.80539227 0.8018828  0.7985605\n",
            " 0.79542464 0.79245305 0.7896111  0.78685915]\n",
            "28 day output [[0.784159]]\n",
            "29 day input [1.         0.99016297 0.99050072 0.96538039 0.98488559 0.97086887\n",
            " 0.94026007 0.87748037 0.83483915 0.85413324 0.77336823 0.77269273\n",
            " 0.88014017 0.84007431 0.89673225 0.85527316 0.83884995 0.74233725\n",
            " 0.82327113 0.78143207 0.6665963  0.7921557  0.64118044 0.68614371\n",
            " 0.66001013 0.65203074 0.58642236 0.56586169 0.66089673 0.65515494\n",
            " 0.70970193 0.66452757 0.69437642 0.69218104 0.63569197 0.65266402\n",
            " 0.63780292 0.7267162  0.71388162 0.74191506 0.75002111 0.77222832\n",
            " 0.83049059 0.8194292  0.8289707  0.8125475  0.78776492 0.75162543\n",
            " 0.78426074 0.77974331 0.81326522 0.8141096  0.79473106 0.83336148\n",
            " 0.85898843 0.83901883 0.85628641 0.87486279 0.88782403 0.90095415\n",
            " 0.92793211 0.948535   0.93333615 0.91746179 0.92544119 0.91771511\n",
            " 0.9483239  0.94064004 0.96635143 0.9563033  0.96491598 0.93032151\n",
            " 0.92385828 0.90976447 0.8937363  0.87883407 0.86625123 0.85627854\n",
            " 0.8487938  0.84345341 0.83978182 0.83724785 0.83533621 0.83360589\n",
            " 0.83172804 0.82949835 0.82683015 0.82373434 0.82029033 0.81661409\n",
            " 0.81283271 0.80906183 0.80539227 0.8018828  0.7985605  0.79542464\n",
            " 0.79245305 0.7896111  0.78685915 0.784159  ]\n",
            "29 day output [[0.7814784]]\n",
            "[[0.9303215146064758], [0.9238582849502563], [0.9097644686698914], [0.8937363028526306], [0.878834068775177], [0.8662512302398682], [0.8562785387039185], [0.8487938046455383], [0.8434534072875977], [0.8397818207740784], [0.8372478485107422], [0.8353362083435059], [0.8336058855056763], [0.8317280411720276], [0.8294983506202698], [0.8268301486968994], [0.8237343430519104], [0.8202903270721436], [0.8166140913963318], [0.8128327131271362], [0.8090618252754211], [0.8053922653198242], [0.801882803440094], [0.7985605001449585], [0.7954246401786804], [0.7924530506134033], [0.7896111011505127], [0.7868591547012329], [0.7841590046882629], [0.7814784049987793]]\n"
          ],
          "name": "stdout"
        }
      ]
    },
    {
      "cell_type": "code",
      "metadata": {
        "id": "aCH7QxT2O4d-"
      },
      "source": [
        "day_new=np.arange(1,101)\n",
        "day_pred=np.arange(101,131)"
      ],
      "execution_count": 46,
      "outputs": []
    },
    {
      "cell_type": "code",
      "metadata": {
        "colab": {
          "base_uri": "https://localhost:8080/",
          "height": 283
        },
        "id": "pfC3n3lMO4hT",
        "outputId": "0a5edcd6-ec0f-4db6-f430-5b4dc1707e7a"
      },
      "source": [
        "plt.plot(day_new,scaler.inverse_transform(df1[1158:]))\n",
        "plt.plot(day_pred,scaler.inverse_transform(lst_output))"
      ],
      "execution_count": 47,
      "outputs": [
        {
          "output_type": "execute_result",
          "data": {
            "text/plain": [
              "[<matplotlib.lines.Line2D at 0x7f787f1d2050>]"
            ]
          },
          "metadata": {
            "tags": []
          },
          "execution_count": 47
        },
        {
          "output_type": "display_data",
          "data": {
            "image/png": "[encoded data removed]",
            "text/plain": [
              "<Figure size 432x288 with 1 Axes>"
            ]
          },
          "metadata": {
            "tags": [],
            "needs_background": "light"
          }
        }
      ]
    },
    {
      "cell_type": "code",
      "metadata": {
        "colab": {
          "base_uri": "https://localhost:8080/",
          "height": 283
        },
        "id": "JPWDwXeZO4ks",
        "outputId": "33abfb31-3943-4afb-c7a5-0b4dc42ef11d"
      },
      "source": [
        "df3=df1.tolist()\n",
        "df3.extend(lst_output)\n",
        "plt.plot(df3[1200:])"
      ],
      "execution_count": 48,
      "outputs": [
        {
          "output_type": "execute_result",
          "data": {
            "text/plain": [
              "[<matplotlib.lines.Line2D at 0x7f787f197fd0>]"
            ]
          },
          "metadata": {
            "tags": []
          },
          "execution_count": 48
        },
        {
          "output_type": "display_data",
          "data": {
            "image/png": "[encoded data removed]",
            "text/plain": [
              "<Figure size 432x288 with 1 Axes>"
            ]
          },
          "metadata": {
            "tags": [],
            "needs_background": "light"
          }
        }
      ]
    },
    {
      "cell_type": "code",
      "metadata": {
        "id": "qnPO1YunPA09"
      },
      "source": [
        "df3=scaler.inverse_transform(df3).tolist()"
      ],
      "execution_count": 49,
      "outputs": []
    },
    {
      "cell_type": "code",
      "metadata": {
        "colab": {
          "base_uri": "https://localhost:8080/",
          "height": 283
        },
        "id": "VIUDf5L3PA8h",
        "outputId": "bd7a870b-e666-4d80-f172-d386dfe6fbbe"
      },
      "source": [
        "plt.plot(df3)"
      ],
      "execution_count": 50,
      "outputs": [
        {
          "output_type": "execute_result",
          "data": {
            "text/plain": [
              "[<matplotlib.lines.Line2D at 0x7f787f0f01d0>]"
            ]
          },
          "metadata": {
            "tags": []
          },
          "execution_count": 50
        },
        {
          "output_type": "display_data",
          "data": {
            "image/png": "[encoded data removed]",
            "text/plain": [
              "<Figure size 432x288 with 1 Axes>"
            ]
          },
          "metadata": {
            "tags": [],
            "needs_background": "light"
          }
        }
      ]
    },
    {
      "cell_type": "code",
      "metadata": {
        "id": "NFQzn3bbPBBE"
      },
      "source": [
        ""
      ],
      "execution_count": null,
      "outputs": []
    }
  ]
}